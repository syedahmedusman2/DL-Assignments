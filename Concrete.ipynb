{
 "cells": [
  {
   "cell_type": "markdown",
   "metadata": {
    "id": "CgPkafcBClHA"
   },
   "source": [
    "#Importing Libraries"
   ]
  },
  {
   "cell_type": "code",
   "execution_count": 2,
   "metadata": {
    "id": "NipDpuvkCmi6"
   },
   "outputs": [],
   "source": [
    "import pandas as pd\n",
    "import numpy as np\n",
    "import matplotlib.pyplot as plt"
   ]
  },
  {
   "cell_type": "markdown",
   "metadata": {
    "id": "UxC9ci-KDQoW"
   },
   "source": [
    "#Uploading Datasets"
   ]
  },
  {
   "cell_type": "code",
   "execution_count": 9,
   "metadata": {
    "id": "B_vpinNiCxTc"
   },
   "outputs": [],
   "source": [
    "data=pd.read_csv(\"./../compresive_strength_concrete.csv\")"
   ]
  },
  {
   "cell_type": "code",
   "execution_count": 10,
   "metadata": {
    "colab": {
     "base_uri": "https://localhost:8080/"
    },
    "id": "VcJwnsAHIgRW",
    "outputId": "ae5e6e22-0e87-46ca-b520-c9336626e6df"
   },
   "outputs": [
    {
     "data": {
      "text/plain": [
       "(1030, 9)"
      ]
     },
     "execution_count": 10,
     "metadata": {},
     "output_type": "execute_result"
    }
   ],
   "source": [
    "data.shape"
   ]
  },
  {
   "cell_type": "code",
   "execution_count": 11,
   "metadata": {
    "colab": {
     "base_uri": "https://localhost:8080/",
     "height": 326
    },
    "id": "U0yFP1M6Ikh-",
    "outputId": "769d5d3e-3100-4b3a-b009-cc08487e88a3"
   },
   "outputs": [
    {
     "data": {
      "text/html": [
       "<div>\n",
       "<style scoped>\n",
       "    .dataframe tbody tr th:only-of-type {\n",
       "        vertical-align: middle;\n",
       "    }\n",
       "\n",
       "    .dataframe tbody tr th {\n",
       "        vertical-align: top;\n",
       "    }\n",
       "\n",
       "    .dataframe thead th {\n",
       "        text-align: right;\n",
       "    }\n",
       "</style>\n",
       "<table border=\"1\" class=\"dataframe\">\n",
       "  <thead>\n",
       "    <tr style=\"text-align: right;\">\n",
       "      <th></th>\n",
       "      <th>Cement (component 1)(kg in a m^3 mixture)</th>\n",
       "      <th>Blast Furnace Slag (component 2)(kg in a m^3 mixture)</th>\n",
       "      <th>Fly Ash (component 3)(kg in a m^3 mixture)</th>\n",
       "      <th>Water  (component 4)(kg in a m^3 mixture)</th>\n",
       "      <th>Superplasticizer (component 5)(kg in a m^3 mixture)</th>\n",
       "      <th>Coarse Aggregate  (component 6)(kg in a m^3 mixture)</th>\n",
       "      <th>Fine Aggregate (component 7)(kg in a m^3 mixture)</th>\n",
       "      <th>Age (day)</th>\n",
       "      <th>Concrete compressive strength(MPa, megapascals)</th>\n",
       "    </tr>\n",
       "  </thead>\n",
       "  <tbody>\n",
       "    <tr>\n",
       "      <th>0</th>\n",
       "      <td>540.0</td>\n",
       "      <td>0.0</td>\n",
       "      <td>0.0</td>\n",
       "      <td>162.0</td>\n",
       "      <td>2.5</td>\n",
       "      <td>1040.0</td>\n",
       "      <td>676.0</td>\n",
       "      <td>28</td>\n",
       "      <td>79.99</td>\n",
       "    </tr>\n",
       "    <tr>\n",
       "      <th>1</th>\n",
       "      <td>540.0</td>\n",
       "      <td>0.0</td>\n",
       "      <td>0.0</td>\n",
       "      <td>162.0</td>\n",
       "      <td>2.5</td>\n",
       "      <td>1055.0</td>\n",
       "      <td>676.0</td>\n",
       "      <td>28</td>\n",
       "      <td>61.89</td>\n",
       "    </tr>\n",
       "    <tr>\n",
       "      <th>2</th>\n",
       "      <td>332.5</td>\n",
       "      <td>142.5</td>\n",
       "      <td>0.0</td>\n",
       "      <td>228.0</td>\n",
       "      <td>0.0</td>\n",
       "      <td>932.0</td>\n",
       "      <td>594.0</td>\n",
       "      <td>270</td>\n",
       "      <td>40.27</td>\n",
       "    </tr>\n",
       "    <tr>\n",
       "      <th>3</th>\n",
       "      <td>332.5</td>\n",
       "      <td>142.5</td>\n",
       "      <td>0.0</td>\n",
       "      <td>228.0</td>\n",
       "      <td>0.0</td>\n",
       "      <td>932.0</td>\n",
       "      <td>594.0</td>\n",
       "      <td>365</td>\n",
       "      <td>41.05</td>\n",
       "    </tr>\n",
       "    <tr>\n",
       "      <th>4</th>\n",
       "      <td>198.6</td>\n",
       "      <td>132.4</td>\n",
       "      <td>0.0</td>\n",
       "      <td>192.0</td>\n",
       "      <td>0.0</td>\n",
       "      <td>978.4</td>\n",
       "      <td>825.5</td>\n",
       "      <td>360</td>\n",
       "      <td>44.30</td>\n",
       "    </tr>\n",
       "  </tbody>\n",
       "</table>\n",
       "</div>"
      ],
      "text/plain": [
       "   Cement (component 1)(kg in a m^3 mixture)  \\\n",
       "0                                      540.0   \n",
       "1                                      540.0   \n",
       "2                                      332.5   \n",
       "3                                      332.5   \n",
       "4                                      198.6   \n",
       "\n",
       "   Blast Furnace Slag (component 2)(kg in a m^3 mixture)  \\\n",
       "0                                                0.0       \n",
       "1                                                0.0       \n",
       "2                                              142.5       \n",
       "3                                              142.5       \n",
       "4                                              132.4       \n",
       "\n",
       "   Fly Ash (component 3)(kg in a m^3 mixture)  \\\n",
       "0                                         0.0   \n",
       "1                                         0.0   \n",
       "2                                         0.0   \n",
       "3                                         0.0   \n",
       "4                                         0.0   \n",
       "\n",
       "   Water  (component 4)(kg in a m^3 mixture)  \\\n",
       "0                                      162.0   \n",
       "1                                      162.0   \n",
       "2                                      228.0   \n",
       "3                                      228.0   \n",
       "4                                      192.0   \n",
       "\n",
       "   Superplasticizer (component 5)(kg in a m^3 mixture)  \\\n",
       "0                                                2.5     \n",
       "1                                                2.5     \n",
       "2                                                0.0     \n",
       "3                                                0.0     \n",
       "4                                                0.0     \n",
       "\n",
       "   Coarse Aggregate  (component 6)(kg in a m^3 mixture)  \\\n",
       "0                                             1040.0      \n",
       "1                                             1055.0      \n",
       "2                                              932.0      \n",
       "3                                              932.0      \n",
       "4                                              978.4      \n",
       "\n",
       "   Fine Aggregate (component 7)(kg in a m^3 mixture)  Age (day)  \\\n",
       "0                                              676.0         28   \n",
       "1                                              676.0         28   \n",
       "2                                              594.0        270   \n",
       "3                                              594.0        365   \n",
       "4                                              825.5        360   \n",
       "\n",
       "   Concrete compressive strength(MPa, megapascals)   \n",
       "0                                             79.99  \n",
       "1                                             61.89  \n",
       "2                                             40.27  \n",
       "3                                             41.05  \n",
       "4                                             44.30  "
      ]
     },
     "execution_count": 11,
     "metadata": {},
     "output_type": "execute_result"
    }
   ],
   "source": [
    "data.head()"
   ]
  },
  {
   "cell_type": "code",
   "execution_count": 12,
   "metadata": {},
   "outputs": [
    {
     "data": {
      "text/plain": [
       "Cement (component 1)(kg in a m^3 mixture)                0\n",
       "Blast Furnace Slag (component 2)(kg in a m^3 mixture)    0\n",
       "Fly Ash (component 3)(kg in a m^3 mixture)               0\n",
       "Water  (component 4)(kg in a m^3 mixture)                0\n",
       "Superplasticizer (component 5)(kg in a m^3 mixture)      0\n",
       "Coarse Aggregate  (component 6)(kg in a m^3 mixture)     0\n",
       "Fine Aggregate (component 7)(kg in a m^3 mixture)        0\n",
       "Age (day)                                                0\n",
       "Concrete compressive strength(MPa, megapascals)          0\n",
       "dtype: int64"
      ]
     },
     "execution_count": 12,
     "metadata": {},
     "output_type": "execute_result"
    }
   ],
   "source": [
    "data.isnull().sum()"
   ]
  },
  {
   "cell_type": "code",
   "execution_count": 13,
   "metadata": {},
   "outputs": [
    {
     "data": {
      "text/plain": [
       "(array([], dtype=int64), array([], dtype=int64))"
      ]
     },
     "execution_count": 13,
     "metadata": {},
     "output_type": "execute_result"
    }
   ],
   "source": [
    "np.where(data.applymap(lambda x: x == ''))"
   ]
  },
  {
   "cell_type": "code",
   "execution_count": 18,
   "metadata": {},
   "outputs": [],
   "source": [
    "X_train = data.sample(frac = 0.7, random_state = 123)\n",
    "X_test = data.drop(X_train.index)"
   ]
  },
  {
   "cell_type": "code",
   "execution_count": 8,
   "metadata": {},
   "outputs": [
    {
     "data": {
      "text/html": [
       "<div>\n",
       "<style scoped>\n",
       "    .dataframe tbody tr th:only-of-type {\n",
       "        vertical-align: middle;\n",
       "    }\n",
       "\n",
       "    .dataframe tbody tr th {\n",
       "        vertical-align: top;\n",
       "    }\n",
       "\n",
       "    .dataframe thead th {\n",
       "        text-align: right;\n",
       "    }\n",
       "</style>\n",
       "<table border=\"1\" class=\"dataframe\">\n",
       "  <thead>\n",
       "    <tr style=\"text-align: right;\">\n",
       "      <th></th>\n",
       "      <th>Cement (component 1)(kg in a m^3 mixture)</th>\n",
       "      <th>Blast Furnace Slag (component 2)(kg in a m^3 mixture)</th>\n",
       "      <th>Fly Ash (component 3)(kg in a m^3 mixture)</th>\n",
       "      <th>Water  (component 4)(kg in a m^3 mixture)</th>\n",
       "      <th>Superplasticizer (component 5)(kg in a m^3 mixture)</th>\n",
       "      <th>Coarse Aggregate  (component 6)(kg in a m^3 mixture)</th>\n",
       "      <th>Fine Aggregate (component 7)(kg in a m^3 mixture)</th>\n",
       "      <th>Age (day)</th>\n",
       "      <th>Concrete compressive strength(MPa, megapascals)</th>\n",
       "    </tr>\n",
       "  </thead>\n",
       "  <tbody>\n",
       "    <tr>\n",
       "      <th>134</th>\n",
       "      <td>362.6</td>\n",
       "      <td>189.0</td>\n",
       "      <td>0.0</td>\n",
       "      <td>164.9</td>\n",
       "      <td>11.6</td>\n",
       "      <td>944.7</td>\n",
       "      <td>755.8</td>\n",
       "      <td>28</td>\n",
       "      <td>71.30</td>\n",
       "    </tr>\n",
       "    <tr>\n",
       "      <th>13</th>\n",
       "      <td>190.0</td>\n",
       "      <td>190.0</td>\n",
       "      <td>0.0</td>\n",
       "      <td>228.0</td>\n",
       "      <td>0.0</td>\n",
       "      <td>932.0</td>\n",
       "      <td>670.0</td>\n",
       "      <td>90</td>\n",
       "      <td>42.33</td>\n",
       "    </tr>\n",
       "    <tr>\n",
       "      <th>996</th>\n",
       "      <td>152.6</td>\n",
       "      <td>238.7</td>\n",
       "      <td>0.0</td>\n",
       "      <td>200.0</td>\n",
       "      <td>6.3</td>\n",
       "      <td>1001.8</td>\n",
       "      <td>683.9</td>\n",
       "      <td>28</td>\n",
       "      <td>26.86</td>\n",
       "    </tr>\n",
       "    <tr>\n",
       "      <th>770</th>\n",
       "      <td>349.0</td>\n",
       "      <td>0.0</td>\n",
       "      <td>0.0</td>\n",
       "      <td>192.0</td>\n",
       "      <td>0.0</td>\n",
       "      <td>1047.0</td>\n",
       "      <td>806.0</td>\n",
       "      <td>3</td>\n",
       "      <td>14.99</td>\n",
       "    </tr>\n",
       "    <tr>\n",
       "      <th>937</th>\n",
       "      <td>313.3</td>\n",
       "      <td>0.0</td>\n",
       "      <td>113.0</td>\n",
       "      <td>178.5</td>\n",
       "      <td>8.0</td>\n",
       "      <td>1001.9</td>\n",
       "      <td>688.7</td>\n",
       "      <td>28</td>\n",
       "      <td>36.80</td>\n",
       "    </tr>\n",
       "  </tbody>\n",
       "</table>\n",
       "</div>"
      ],
      "text/plain": [
       "     Cement (component 1)(kg in a m^3 mixture)  \\\n",
       "134                                      362.6   \n",
       "13                                       190.0   \n",
       "996                                      152.6   \n",
       "770                                      349.0   \n",
       "937                                      313.3   \n",
       "\n",
       "     Blast Furnace Slag (component 2)(kg in a m^3 mixture)  \\\n",
       "134                                              189.0       \n",
       "13                                               190.0       \n",
       "996                                              238.7       \n",
       "770                                                0.0       \n",
       "937                                                0.0       \n",
       "\n",
       "     Fly Ash (component 3)(kg in a m^3 mixture)  \\\n",
       "134                                         0.0   \n",
       "13                                          0.0   \n",
       "996                                         0.0   \n",
       "770                                         0.0   \n",
       "937                                       113.0   \n",
       "\n",
       "     Water  (component 4)(kg in a m^3 mixture)  \\\n",
       "134                                      164.9   \n",
       "13                                       228.0   \n",
       "996                                      200.0   \n",
       "770                                      192.0   \n",
       "937                                      178.5   \n",
       "\n",
       "     Superplasticizer (component 5)(kg in a m^3 mixture)  \\\n",
       "134                                               11.6     \n",
       "13                                                 0.0     \n",
       "996                                                6.3     \n",
       "770                                                0.0     \n",
       "937                                                8.0     \n",
       "\n",
       "     Coarse Aggregate  (component 6)(kg in a m^3 mixture)  \\\n",
       "134                                              944.7      \n",
       "13                                               932.0      \n",
       "996                                             1001.8      \n",
       "770                                             1047.0      \n",
       "937                                             1001.9      \n",
       "\n",
       "     Fine Aggregate (component 7)(kg in a m^3 mixture)  Age (day)  \\\n",
       "134                                              755.8         28   \n",
       "13                                               670.0         90   \n",
       "996                                              683.9         28   \n",
       "770                                              806.0          3   \n",
       "937                                              688.7         28   \n",
       "\n",
       "     Concrete compressive strength(MPa, megapascals)   \n",
       "134                                             71.30  \n",
       "13                                              42.33  \n",
       "996                                             26.86  \n",
       "770                                             14.99  \n",
       "937                                             36.80  "
      ]
     },
     "execution_count": 8,
     "metadata": {},
     "output_type": "execute_result"
    }
   ],
   "source": [
    "X_train.head()"
   ]
  },
  {
   "cell_type": "code",
   "execution_count": 40,
   "metadata": {},
   "outputs": [],
   "source": [
    "# list1=[0,1,2,3,4,5,6,7,8,9]\n",
    "# list1 = np.array(list1)\n",
    "# list1 = list1.reshape(5,2)\n",
    "# list1[:,0:-1]"
   ]
  },
  {
   "cell_type": "code",
   "execution_count": 46,
   "metadata": {},
   "outputs": [],
   "source": [
    "# pd.DataFrame(np.random(10,10), columns=[1,2,3,4,5,6,7,8,9,10])\n",
    "# Y_test.shape"
   ]
  },
  {
   "cell_type": "markdown",
   "metadata": {
    "id": "CcvbbUpmJFCi"
   },
   "source": [
    "#Assigning features and target variable"
   ]
  },
  {
   "cell_type": "code",
   "execution_count": 49,
   "metadata": {
    "id": "OTv_VabYIj83"
   },
   "outputs": [],
   "source": [
    "Y_train = X_train.iloc[:,-1]\n",
    "X_train = X_train.iloc[:,0:-1]\n",
    "Y_test = X_test.iloc[:,-1]\n",
    "X_test = X_test.iloc[:,0:-1]"
   ]
  },
  {
   "cell_type": "code",
   "execution_count": 50,
   "metadata": {
    "id": "KHF-Yeo2JTyg"
   },
   "outputs": [],
   "source": [
    "X_mean = X_train.mean()\n",
    "X_train -= X_mean\n",
    "X_std = X_train.std()\n",
    "X_train /= X_std\n",
    "X_test -= X_mean\n",
    "X_test /= X_std"
   ]
  },
  {
   "cell_type": "code",
   "execution_count": 51,
   "metadata": {},
   "outputs": [],
   "source": [
    "Y_mean = Y_train.mean()\n",
    "Y_train -= Y_mean\n",
    "Y_std = Y_train.std()\n",
    "Y_train /= Y_std\n",
    "Y_test -= Y_mean\n",
    "Y_test /= Y_std"
   ]
  },
  {
   "cell_type": "code",
   "execution_count": 52,
   "metadata": {},
   "outputs": [
    {
     "data": {
      "text/plain": [
       "Cement (component 1)(kg in a m^3 mixture)                float64\n",
       "Blast Furnace Slag (component 2)(kg in a m^3 mixture)    float64\n",
       "Fly Ash (component 3)(kg in a m^3 mixture)               float64\n",
       "Water  (component 4)(kg in a m^3 mixture)                float64\n",
       "Superplasticizer (component 5)(kg in a m^3 mixture)      float64\n",
       "Coarse Aggregate  (component 6)(kg in a m^3 mixture)     float64\n",
       "Fine Aggregate (component 7)(kg in a m^3 mixture)        float64\n",
       "dtype: object"
      ]
     },
     "execution_count": 52,
     "metadata": {},
     "output_type": "execute_result"
    }
   ],
   "source": [
    "X_train.dtypes"
   ]
  },
  {
   "cell_type": "code",
   "execution_count": 53,
   "metadata": {},
   "outputs": [],
   "source": [
    "X_train = X_train.to_numpy()\n",
    "Y_train = Y_train.to_numpy()\n",
    "X_test = X_test.to_numpy()\n",
    "Y_test = Y_test.to_numpy()\n"
   ]
  },
  {
   "cell_type": "markdown",
   "metadata": {
    "id": "Lj_iCk5vL5E7"
   },
   "source": [
    "#Training and testing data splittion"
   ]
  },
  {
   "cell_type": "markdown",
   "metadata": {
    "id": "_LMH3tMeMbXN"
   },
   "source": [
    "#Model selection"
   ]
  },
  {
   "cell_type": "code",
   "execution_count": 54,
   "metadata": {
    "id": "N71E3GgCMTCO"
   },
   "outputs": [],
   "source": [
    "from tensorflow.keras import layers as layers\n",
    "from tensorflow.keras import models as model"
   ]
  },
  {
   "cell_type": "code",
   "execution_count": 55,
   "metadata": {
    "id": "PZIj7pgIMhcg"
   },
   "outputs": [],
   "source": [
    "network = model.Sequential()"
   ]
  },
  {
   "cell_type": "code",
   "execution_count": 56,
   "metadata": {
    "id": "jcIypzdFMrDX"
   },
   "outputs": [],
   "source": [
    "network.add(layers.Dense(128,activation=\"relu\",input_shape=(X_train.shape[1],)))"
   ]
  },
  {
   "cell_type": "code",
   "execution_count": 57,
   "metadata": {
    "id": "gl8qko4FM3j4"
   },
   "outputs": [],
   "source": [
    "network.add(layers.Dense(64,activation=\"relu\"))"
   ]
  },
  {
   "cell_type": "code",
   "execution_count": 58,
   "metadata": {
    "id": "LQ2VEXd9M8Uw"
   },
   "outputs": [],
   "source": [
    "network.add(layers.Dense(32,activation=\"relu\"))"
   ]
  },
  {
   "cell_type": "code",
   "execution_count": 59,
   "metadata": {
    "id": "yWUmN_KvNCno"
   },
   "outputs": [],
   "source": [
    "network.add(layers.Dense(1))"
   ]
  },
  {
   "cell_type": "code",
   "execution_count": 61,
   "metadata": {
    "id": "zSyeoyk0Nsa2"
   },
   "outputs": [],
   "source": [
    "network.compile(optimizer=\"rmsprop\",loss=[\"mse\"],metrics=[\"mae\"])"
   ]
  },
  {
   "cell_type": "code",
   "execution_count": 91,
   "metadata": {
    "colab": {
     "base_uri": "https://localhost:8080/"
    },
    "id": "E8cCCFviOKuF",
    "outputId": "c6eebdfa-f576-4106-ec4b-38cba2572df0"
   },
   "outputs": [
    {
     "name": "stdout",
     "output_type": "stream",
     "text": [
      "Epoch 1/200\n",
      "32/32 [==============================] - 0s 4ms/step - loss: 0.6471 - mae: 0.4740 - val_loss: 1.0732 - val_mae: 0.6491\n",
      "Epoch 2/200\n",
      "32/32 [==============================] - 0s 3ms/step - loss: 0.6611 - mae: 0.4769 - val_loss: 1.0917 - val_mae: 0.6529\n",
      "Epoch 3/200\n",
      "32/32 [==============================] - 0s 3ms/step - loss: 0.6572 - mae: 0.4750 - val_loss: 1.0704 - val_mae: 0.6569\n",
      "Epoch 4/200\n",
      "32/32 [==============================] - 0s 3ms/step - loss: 0.6533 - mae: 0.4745 - val_loss: 1.1226 - val_mae: 0.6604\n",
      "Epoch 5/200\n",
      "32/32 [==============================] - 0s 3ms/step - loss: 0.6609 - mae: 0.4716 - val_loss: 1.0570 - val_mae: 0.6497\n",
      "Epoch 6/200\n",
      "32/32 [==============================] - 0s 4ms/step - loss: 0.6505 - mae: 0.4765 - val_loss: 1.0662 - val_mae: 0.6593\n",
      "Epoch 7/200\n",
      "32/32 [==============================] - 0s 3ms/step - loss: 0.6683 - mae: 0.4767 - val_loss: 1.0405 - val_mae: 0.6502\n",
      "Epoch 8/200\n",
      "32/32 [==============================] - 0s 3ms/step - loss: 0.6533 - mae: 0.4697 - val_loss: 1.0493 - val_mae: 0.6580\n",
      "Epoch 9/200\n",
      "32/32 [==============================] - 0s 3ms/step - loss: 0.6638 - mae: 0.4738 - val_loss: 1.1289 - val_mae: 0.6853\n",
      "Epoch 10/200\n",
      "32/32 [==============================] - 0s 3ms/step - loss: 0.6616 - mae: 0.4715 - val_loss: 1.0749 - val_mae: 0.6523\n",
      "Epoch 11/200\n",
      "32/32 [==============================] - 0s 3ms/step - loss: 0.6587 - mae: 0.4751 - val_loss: 1.0501 - val_mae: 0.6509\n",
      "Epoch 12/200\n",
      "32/32 [==============================] - 0s 3ms/step - loss: 0.6557 - mae: 0.4741 - val_loss: 1.0979 - val_mae: 0.6541\n",
      "Epoch 13/200\n",
      "32/32 [==============================] - 0s 3ms/step - loss: 0.6654 - mae: 0.4717 - val_loss: 1.0959 - val_mae: 0.6627\n",
      "Epoch 14/200\n",
      "32/32 [==============================] - 0s 3ms/step - loss: 0.6577 - mae: 0.4833 - val_loss: 1.0853 - val_mae: 0.6542\n",
      "Epoch 15/200\n",
      "32/32 [==============================] - 0s 3ms/step - loss: 0.6490 - mae: 0.4745 - val_loss: 1.0599 - val_mae: 0.6450\n",
      "Epoch 16/200\n",
      "32/32 [==============================] - 0s 3ms/step - loss: 0.6507 - mae: 0.4757 - val_loss: 1.1805 - val_mae: 0.6781\n",
      "Epoch 17/200\n",
      "32/32 [==============================] - 0s 3ms/step - loss: 0.6686 - mae: 0.4743 - val_loss: 1.1041 - val_mae: 0.6784\n",
      "Epoch 18/200\n",
      "32/32 [==============================] - 0s 3ms/step - loss: 0.6622 - mae: 0.4832 - val_loss: 1.0836 - val_mae: 0.6568\n",
      "Epoch 19/200\n",
      "32/32 [==============================] - 0s 3ms/step - loss: 0.6630 - mae: 0.4789 - val_loss: 1.0852 - val_mae: 0.6508\n",
      "Epoch 20/200\n",
      "32/32 [==============================] - 0s 3ms/step - loss: 0.6500 - mae: 0.4690 - val_loss: 1.0724 - val_mae: 0.6614\n",
      "Epoch 21/200\n",
      "32/32 [==============================] - 0s 3ms/step - loss: 0.6663 - mae: 0.4783 - val_loss: 1.0174 - val_mae: 0.6408\n",
      "Epoch 22/200\n",
      "32/32 [==============================] - 0s 3ms/step - loss: 0.6466 - mae: 0.4742 - val_loss: 1.0723 - val_mae: 0.6518\n",
      "Epoch 23/200\n",
      "32/32 [==============================] - 0s 4ms/step - loss: 0.6541 - mae: 0.4756 - val_loss: 1.0144 - val_mae: 0.6537\n",
      "Epoch 24/200\n",
      "32/32 [==============================] - 0s 3ms/step - loss: 0.6471 - mae: 0.4785 - val_loss: 1.0060 - val_mae: 0.6328\n",
      "Epoch 25/200\n",
      "32/32 [==============================] - 0s 3ms/step - loss: 0.6754 - mae: 0.4738 - val_loss: 1.0915 - val_mae: 0.6608\n",
      "Epoch 26/200\n",
      "32/32 [==============================] - 0s 3ms/step - loss: 0.6529 - mae: 0.4750 - val_loss: 1.0603 - val_mae: 0.6502\n",
      "Epoch 27/200\n",
      "32/32 [==============================] - 0s 4ms/step - loss: 0.6534 - mae: 0.4763 - val_loss: 1.0911 - val_mae: 0.6553\n",
      "Epoch 28/200\n",
      "32/32 [==============================] - 0s 4ms/step - loss: 0.6545 - mae: 0.4766 - val_loss: 1.0466 - val_mae: 0.6496\n",
      "Epoch 29/200\n",
      "32/32 [==============================] - 0s 4ms/step - loss: 0.6580 - mae: 0.4761 - val_loss: 1.0808 - val_mae: 0.6547\n",
      "Epoch 30/200\n",
      "32/32 [==============================] - 0s 3ms/step - loss: 0.6492 - mae: 0.4686 - val_loss: 1.1413 - val_mae: 0.7015\n",
      "Epoch 31/200\n",
      "32/32 [==============================] - 0s 3ms/step - loss: 0.6650 - mae: 0.4815 - val_loss: 1.0614 - val_mae: 0.6510\n",
      "Epoch 32/200\n",
      "32/32 [==============================] - 0s 3ms/step - loss: 0.6491 - mae: 0.4649 - val_loss: 1.0984 - val_mae: 0.6888\n",
      "Epoch 33/200\n",
      "32/32 [==============================] - 0s 3ms/step - loss: 0.6585 - mae: 0.4790 - val_loss: 1.0849 - val_mae: 0.6570\n",
      "Epoch 34/200\n",
      "32/32 [==============================] - 0s 3ms/step - loss: 0.6522 - mae: 0.4774 - val_loss: 1.0648 - val_mae: 0.6661\n",
      "Epoch 35/200\n",
      "32/32 [==============================] - 0s 3ms/step - loss: 0.6564 - mae: 0.4733 - val_loss: 1.1516 - val_mae: 0.6646\n",
      "Epoch 36/200\n",
      "32/32 [==============================] - 0s 3ms/step - loss: 0.6512 - mae: 0.4728 - val_loss: 1.1375 - val_mae: 0.6668\n",
      "Epoch 37/200\n",
      "32/32 [==============================] - 0s 3ms/step - loss: 0.6632 - mae: 0.4729 - val_loss: 1.0915 - val_mae: 0.6556\n",
      "Epoch 38/200\n",
      "32/32 [==============================] - 0s 3ms/step - loss: 0.6659 - mae: 0.4716 - val_loss: 1.0684 - val_mae: 0.6539\n",
      "Epoch 39/200\n",
      "32/32 [==============================] - 0s 3ms/step - loss: 0.6489 - mae: 0.4734 - val_loss: 1.0832 - val_mae: 0.6546\n",
      "Epoch 40/200\n",
      "32/32 [==============================] - 0s 3ms/step - loss: 0.6566 - mae: 0.4747 - val_loss: 1.0628 - val_mae: 0.6499\n",
      "Epoch 41/200\n",
      "32/32 [==============================] - 0s 3ms/step - loss: 0.6545 - mae: 0.4716 - val_loss: 1.0886 - val_mae: 0.6603\n",
      "Epoch 42/200\n",
      "32/32 [==============================] - 0s 3ms/step - loss: 0.6601 - mae: 0.4802 - val_loss: 1.0644 - val_mae: 0.6553\n",
      "Epoch 43/200\n",
      "32/32 [==============================] - 0s 3ms/step - loss: 0.6484 - mae: 0.4753 - val_loss: 1.0847 - val_mae: 0.6730\n",
      "Epoch 44/200\n",
      "32/32 [==============================] - 0s 4ms/step - loss: 0.6633 - mae: 0.4800 - val_loss: 1.0881 - val_mae: 0.6569\n",
      "Epoch 45/200\n",
      "32/32 [==============================] - 0s 4ms/step - loss: 0.6575 - mae: 0.4727 - val_loss: 1.0885 - val_mae: 0.6589\n",
      "Epoch 46/200\n",
      "32/32 [==============================] - 0s 3ms/step - loss: 0.6593 - mae: 0.4753 - val_loss: 1.0482 - val_mae: 0.6506\n",
      "Epoch 47/200\n",
      "32/32 [==============================] - 0s 3ms/step - loss: 0.6528 - mae: 0.4718 - val_loss: 1.0772 - val_mae: 0.6668\n",
      "Epoch 48/200\n",
      "32/32 [==============================] - 0s 3ms/step - loss: 0.6539 - mae: 0.4714 - val_loss: 1.0974 - val_mae: 0.6710\n",
      "Epoch 49/200\n",
      "32/32 [==============================] - 0s 3ms/step - loss: 0.6562 - mae: 0.4717 - val_loss: 1.0914 - val_mae: 0.6784\n",
      "Epoch 50/200\n",
      "32/32 [==============================] - 0s 4ms/step - loss: 0.6540 - mae: 0.4796 - val_loss: 1.0516 - val_mae: 0.6553\n",
      "Epoch 51/200\n",
      "32/32 [==============================] - 0s 3ms/step - loss: 0.6518 - mae: 0.4731 - val_loss: 1.0707 - val_mae: 0.6700\n",
      "Epoch 52/200\n",
      "32/32 [==============================] - 0s 3ms/step - loss: 0.6509 - mae: 0.4723 - val_loss: 1.0384 - val_mae: 0.6533\n",
      "Epoch 53/200\n",
      "32/32 [==============================] - 0s 3ms/step - loss: 0.6585 - mae: 0.4760 - val_loss: 1.0601 - val_mae: 0.6515\n",
      "Epoch 54/200\n",
      "32/32 [==============================] - 0s 4ms/step - loss: 0.6537 - mae: 0.4671 - val_loss: 1.0430 - val_mae: 0.6537\n",
      "Epoch 55/200\n",
      "32/32 [==============================] - 0s 4ms/step - loss: 0.6472 - mae: 0.4721 - val_loss: 1.0469 - val_mae: 0.6555\n",
      "Epoch 56/200\n",
      "32/32 [==============================] - 0s 3ms/step - loss: 0.6627 - mae: 0.4757 - val_loss: 1.0822 - val_mae: 0.6591\n",
      "Epoch 57/200\n",
      "32/32 [==============================] - 0s 3ms/step - loss: 0.6558 - mae: 0.4741 - val_loss: 1.0810 - val_mae: 0.6569\n",
      "Epoch 58/200\n",
      "32/32 [==============================] - 0s 3ms/step - loss: 0.6522 - mae: 0.4726 - val_loss: 1.0477 - val_mae: 0.6548\n",
      "Epoch 59/200\n",
      "32/32 [==============================] - 0s 3ms/step - loss: 0.6523 - mae: 0.4695 - val_loss: 1.0769 - val_mae: 0.6636\n",
      "Epoch 60/200\n",
      "32/32 [==============================] - 0s 3ms/step - loss: 0.6525 - mae: 0.4725 - val_loss: 1.0722 - val_mae: 0.6554\n",
      "Epoch 61/200\n",
      "32/32 [==============================] - 0s 3ms/step - loss: 0.6574 - mae: 0.4761 - val_loss: 1.0834 - val_mae: 0.6592\n",
      "Epoch 62/200\n",
      "32/32 [==============================] - 0s 3ms/step - loss: 0.6563 - mae: 0.4770 - val_loss: 1.1016 - val_mae: 0.6603\n",
      "Epoch 63/200\n"
     ]
    },
    {
     "name": "stdout",
     "output_type": "stream",
     "text": [
      "32/32 [==============================] - 0s 3ms/step - loss: 0.6579 - mae: 0.4776 - val_loss: 1.1185 - val_mae: 0.6587\n",
      "Epoch 64/200\n",
      "32/32 [==============================] - 0s 3ms/step - loss: 0.6626 - mae: 0.4736 - val_loss: 1.0653 - val_mae: 0.6571\n",
      "Epoch 65/200\n",
      "32/32 [==============================] - 0s 3ms/step - loss: 0.6481 - mae: 0.4733 - val_loss: 1.0695 - val_mae: 0.6564\n",
      "Epoch 66/200\n",
      "32/32 [==============================] - 0s 3ms/step - loss: 0.6536 - mae: 0.4672 - val_loss: 1.0913 - val_mae: 0.6620\n",
      "Epoch 67/200\n",
      "32/32 [==============================] - 0s 3ms/step - loss: 0.6593 - mae: 0.4709 - val_loss: 1.0862 - val_mae: 0.6552\n",
      "Epoch 68/200\n",
      "32/32 [==============================] - 0s 3ms/step - loss: 0.6562 - mae: 0.4666 - val_loss: 1.0862 - val_mae: 0.6645\n",
      "Epoch 69/200\n",
      "32/32 [==============================] - 0s 3ms/step - loss: 0.6518 - mae: 0.4739 - val_loss: 1.0513 - val_mae: 0.6516\n",
      "Epoch 70/200\n",
      "32/32 [==============================] - 0s 3ms/step - loss: 0.6483 - mae: 0.4644 - val_loss: 1.0725 - val_mae: 0.6560\n",
      "Epoch 71/200\n",
      "32/32 [==============================] - 0s 3ms/step - loss: 0.6625 - mae: 0.4726 - val_loss: 1.0793 - val_mae: 0.6583\n",
      "Epoch 72/200\n",
      "32/32 [==============================] - 0s 3ms/step - loss: 0.6556 - mae: 0.4754 - val_loss: 1.0439 - val_mae: 0.6483\n",
      "Epoch 73/200\n",
      "32/32 [==============================] - 0s 3ms/step - loss: 0.6626 - mae: 0.4748 - val_loss: 1.0850 - val_mae: 0.6756\n",
      "Epoch 74/200\n",
      "32/32 [==============================] - 0s 3ms/step - loss: 0.6464 - mae: 0.4743 - val_loss: 1.0369 - val_mae: 0.6405\n",
      "Epoch 75/200\n",
      "32/32 [==============================] - 0s 3ms/step - loss: 0.6583 - mae: 0.4691 - val_loss: 1.0707 - val_mae: 0.6665\n",
      "Epoch 76/200\n",
      "32/32 [==============================] - 0s 3ms/step - loss: 0.6604 - mae: 0.4745 - val_loss: 1.0676 - val_mae: 0.6619\n",
      "Epoch 77/200\n",
      "32/32 [==============================] - 0s 3ms/step - loss: 0.6616 - mae: 0.4758 - val_loss: 1.0978 - val_mae: 0.6547\n",
      "Epoch 78/200\n",
      "32/32 [==============================] - 0s 2ms/step - loss: 0.6478 - mae: 0.4671 - val_loss: 1.0762 - val_mae: 0.6608\n",
      "Epoch 79/200\n",
      "32/32 [==============================] - 0s 3ms/step - loss: 0.6534 - mae: 0.4696 - val_loss: 1.0457 - val_mae: 0.6593\n",
      "Epoch 80/200\n",
      "32/32 [==============================] - 0s 3ms/step - loss: 0.6606 - mae: 0.4764 - val_loss: 1.0893 - val_mae: 0.6639\n",
      "Epoch 81/200\n",
      "32/32 [==============================] - 0s 3ms/step - loss: 0.6532 - mae: 0.4691 - val_loss: 1.0785 - val_mae: 0.6645\n",
      "Epoch 82/200\n",
      "32/32 [==============================] - 0s 3ms/step - loss: 0.6496 - mae: 0.4703 - val_loss: 1.0537 - val_mae: 0.6560\n",
      "Epoch 83/200\n",
      "32/32 [==============================] - 0s 3ms/step - loss: 0.6506 - mae: 0.4724 - val_loss: 1.1107 - val_mae: 0.6696\n",
      "Epoch 84/200\n",
      "32/32 [==============================] - 0s 3ms/step - loss: 0.6425 - mae: 0.4675 - val_loss: 1.1106 - val_mae: 0.6862\n",
      "Epoch 85/200\n",
      "32/32 [==============================] - 0s 3ms/step - loss: 0.6451 - mae: 0.4768 - val_loss: 1.0993 - val_mae: 0.6617\n",
      "Epoch 86/200\n",
      "32/32 [==============================] - 0s 3ms/step - loss: 0.6586 - mae: 0.4715 - val_loss: 1.0680 - val_mae: 0.6529\n",
      "Epoch 87/200\n",
      "32/32 [==============================] - 0s 3ms/step - loss: 0.6557 - mae: 0.4752 - val_loss: 1.0960 - val_mae: 0.6640\n",
      "Epoch 88/200\n",
      "32/32 [==============================] - 0s 4ms/step - loss: 0.6580 - mae: 0.4724 - val_loss: 1.0890 - val_mae: 0.6671\n",
      "Epoch 89/200\n",
      "32/32 [==============================] - 0s 3ms/step - loss: 0.6430 - mae: 0.4674 - val_loss: 1.0946 - val_mae: 0.6701\n",
      "Epoch 90/200\n",
      "32/32 [==============================] - 0s 3ms/step - loss: 0.6493 - mae: 0.4685 - val_loss: 1.1055 - val_mae: 0.6658\n",
      "Epoch 91/200\n",
      "32/32 [==============================] - 0s 4ms/step - loss: 0.6586 - mae: 0.4721 - val_loss: 1.0945 - val_mae: 0.6628\n",
      "Epoch 92/200\n",
      "32/32 [==============================] - 0s 3ms/step - loss: 0.6594 - mae: 0.4781 - val_loss: 1.1074 - val_mae: 0.6715\n",
      "Epoch 93/200\n",
      "32/32 [==============================] - 0s 3ms/step - loss: 0.6599 - mae: 0.4773 - val_loss: 1.1172 - val_mae: 0.6696\n",
      "Epoch 94/200\n",
      "32/32 [==============================] - 0s 3ms/step - loss: 0.6528 - mae: 0.4691 - val_loss: 1.0968 - val_mae: 0.6596\n",
      "Epoch 95/200\n",
      "32/32 [==============================] - 0s 3ms/step - loss: 0.6602 - mae: 0.4753 - val_loss: 1.0935 - val_mae: 0.6594\n",
      "Epoch 96/200\n",
      "32/32 [==============================] - 0s 3ms/step - loss: 0.6468 - mae: 0.4677 - val_loss: 1.1420 - val_mae: 0.6723\n",
      "Epoch 97/200\n",
      "32/32 [==============================] - 0s 3ms/step - loss: 0.6514 - mae: 0.4748 - val_loss: 1.1350 - val_mae: 0.6687\n",
      "Epoch 98/200\n",
      "32/32 [==============================] - 0s 3ms/step - loss: 0.6496 - mae: 0.4706 - val_loss: 1.0682 - val_mae: 0.6650\n",
      "Epoch 99/200\n",
      "32/32 [==============================] - 0s 3ms/step - loss: 0.6474 - mae: 0.4709 - val_loss: 1.0672 - val_mae: 0.6784\n",
      "Epoch 100/200\n",
      "32/32 [==============================] - 0s 3ms/step - loss: 0.6561 - mae: 0.4799 - val_loss: 1.0342 - val_mae: 0.6499\n",
      "Epoch 101/200\n",
      "32/32 [==============================] - 0s 3ms/step - loss: 0.6506 - mae: 0.4700 - val_loss: 1.1359 - val_mae: 0.6763\n",
      "Epoch 102/200\n",
      "32/32 [==============================] - 0s 3ms/step - loss: 0.6502 - mae: 0.4731 - val_loss: 1.0886 - val_mae: 0.6581\n",
      "Epoch 103/200\n",
      "32/32 [==============================] - 0s 3ms/step - loss: 0.6473 - mae: 0.4752 - val_loss: 1.1142 - val_mae: 0.6584\n",
      "Epoch 104/200\n",
      "32/32 [==============================] - 0s 3ms/step - loss: 0.6515 - mae: 0.4664 - val_loss: 1.0742 - val_mae: 0.6638\n",
      "Epoch 105/200\n",
      "32/32 [==============================] - 0s 3ms/step - loss: 0.6460 - mae: 0.4733 - val_loss: 1.1137 - val_mae: 0.6827\n",
      "Epoch 106/200\n",
      "32/32 [==============================] - 0s 3ms/step - loss: 0.6538 - mae: 0.4714 - val_loss: 1.1101 - val_mae: 0.6705\n",
      "Epoch 107/200\n",
      "32/32 [==============================] - 0s 3ms/step - loss: 0.6525 - mae: 0.4709 - val_loss: 1.0687 - val_mae: 0.6619\n",
      "Epoch 108/200\n",
      "32/32 [==============================] - 0s 4ms/step - loss: 0.6563 - mae: 0.4818 - val_loss: 1.0776 - val_mae: 0.6720\n",
      "Epoch 109/200\n",
      "32/32 [==============================] - 0s 4ms/step - loss: 0.6493 - mae: 0.4687 - val_loss: 1.0898 - val_mae: 0.6813\n",
      "Epoch 110/200\n",
      "32/32 [==============================] - 0s 3ms/step - loss: 0.6405 - mae: 0.4756 - val_loss: 1.0983 - val_mae: 0.6645\n",
      "Epoch 111/200\n",
      "32/32 [==============================] - 0s 4ms/step - loss: 0.6574 - mae: 0.4718 - val_loss: 1.0840 - val_mae: 0.6626\n",
      "Epoch 112/200\n",
      "32/32 [==============================] - 0s 3ms/step - loss: 0.6438 - mae: 0.4736 - val_loss: 1.0771 - val_mae: 0.6567\n",
      "Epoch 113/200\n",
      "32/32 [==============================] - 0s 3ms/step - loss: 0.6493 - mae: 0.4717 - val_loss: 1.0747 - val_mae: 0.6566\n",
      "Epoch 114/200\n",
      "32/32 [==============================] - 0s 3ms/step - loss: 0.6412 - mae: 0.4713 - val_loss: 1.0703 - val_mae: 0.6602\n",
      "Epoch 115/200\n",
      "32/32 [==============================] - 0s 4ms/step - loss: 0.6542 - mae: 0.4688 - val_loss: 1.0754 - val_mae: 0.6718\n",
      "Epoch 116/200\n",
      "32/32 [==============================] - 0s 3ms/step - loss: 0.6490 - mae: 0.4744 - val_loss: 1.0576 - val_mae: 0.6550\n",
      "Epoch 117/200\n",
      "32/32 [==============================] - 0s 3ms/step - loss: 0.6473 - mae: 0.4668 - val_loss: 1.0746 - val_mae: 0.6729\n",
      "Epoch 118/200\n",
      "32/32 [==============================] - 0s 4ms/step - loss: 0.6532 - mae: 0.4768 - val_loss: 1.0855 - val_mae: 0.6576\n",
      "Epoch 119/200\n",
      "32/32 [==============================] - 0s 4ms/step - loss: 0.6533 - mae: 0.4662 - val_loss: 1.0787 - val_mae: 0.6584\n",
      "Epoch 120/200\n",
      "32/32 [==============================] - 0s 3ms/step - loss: 0.6533 - mae: 0.4682 - val_loss: 1.0952 - val_mae: 0.6724\n",
      "Epoch 121/200\n",
      "32/32 [==============================] - 0s 3ms/step - loss: 0.6505 - mae: 0.4730 - val_loss: 1.0534 - val_mae: 0.6531\n",
      "Epoch 122/200\n",
      "32/32 [==============================] - 0s 3ms/step - loss: 0.6450 - mae: 0.4689 - val_loss: 1.1243 - val_mae: 0.6656\n",
      "Epoch 123/200\n",
      "32/32 [==============================] - 0s 5ms/step - loss: 0.6554 - mae: 0.4802 - val_loss: 1.1180 - val_mae: 0.6721\n",
      "Epoch 124/200\n",
      "32/32 [==============================] - 0s 4ms/step - loss: 0.6520 - mae: 0.4713 - val_loss: 1.1145 - val_mae: 0.6689\n"
     ]
    },
    {
     "name": "stdout",
     "output_type": "stream",
     "text": [
      "Epoch 125/200\n",
      "32/32 [==============================] - 0s 3ms/step - loss: 0.6483 - mae: 0.4713 - val_loss: 1.0939 - val_mae: 0.6645\n",
      "Epoch 126/200\n",
      "32/32 [==============================] - 0s 3ms/step - loss: 0.6466 - mae: 0.4743 - val_loss: 1.1131 - val_mae: 0.6651\n",
      "Epoch 127/200\n",
      "32/32 [==============================] - 0s 3ms/step - loss: 0.6417 - mae: 0.4603 - val_loss: 1.1090 - val_mae: 0.6834\n",
      "Epoch 128/200\n",
      "32/32 [==============================] - 0s 3ms/step - loss: 0.6442 - mae: 0.4788 - val_loss: 1.0760 - val_mae: 0.6595\n",
      "Epoch 129/200\n",
      "32/32 [==============================] - 0s 3ms/step - loss: 0.6517 - mae: 0.4691 - val_loss: 1.0632 - val_mae: 0.6653\n",
      "Epoch 130/200\n",
      "32/32 [==============================] - 0s 3ms/step - loss: 0.6447 - mae: 0.4727 - val_loss: 1.0890 - val_mae: 0.6623\n",
      "Epoch 131/200\n",
      "32/32 [==============================] - 0s 3ms/step - loss: 0.6435 - mae: 0.4694 - val_loss: 1.0573 - val_mae: 0.6665\n",
      "Epoch 132/200\n",
      "32/32 [==============================] - 0s 3ms/step - loss: 0.6419 - mae: 0.4689 - val_loss: 1.1158 - val_mae: 0.6892\n",
      "Epoch 133/200\n",
      "32/32 [==============================] - 0s 3ms/step - loss: 0.6525 - mae: 0.4748 - val_loss: 1.1066 - val_mae: 0.6735\n",
      "Epoch 134/200\n",
      "32/32 [==============================] - 0s 3ms/step - loss: 0.6520 - mae: 0.4695 - val_loss: 1.0741 - val_mae: 0.6611\n",
      "Epoch 135/200\n",
      "32/32 [==============================] - 0s 3ms/step - loss: 0.6410 - mae: 0.4710 - val_loss: 1.0514 - val_mae: 0.6670\n",
      "Epoch 136/200\n",
      "32/32 [==============================] - 0s 3ms/step - loss: 0.6473 - mae: 0.4760 - val_loss: 1.0760 - val_mae: 0.6682\n",
      "Epoch 137/200\n",
      "32/32 [==============================] - 0s 3ms/step - loss: 0.6374 - mae: 0.4770 - val_loss: 1.1218 - val_mae: 0.6676\n",
      "Epoch 138/200\n",
      "32/32 [==============================] - 0s 4ms/step - loss: 0.6646 - mae: 0.4740 - val_loss: 1.0582 - val_mae: 0.6635\n",
      "Epoch 139/200\n",
      "32/32 [==============================] - 0s 3ms/step - loss: 0.6494 - mae: 0.4765 - val_loss: 1.1357 - val_mae: 0.6699\n",
      "Epoch 140/200\n",
      "32/32 [==============================] - 0s 3ms/step - loss: 0.6484 - mae: 0.4724 - val_loss: 1.1051 - val_mae: 0.6574\n",
      "Epoch 141/200\n",
      "32/32 [==============================] - 0s 4ms/step - loss: 0.6404 - mae: 0.4696 - val_loss: 1.0924 - val_mae: 0.6636\n",
      "Epoch 142/200\n",
      "32/32 [==============================] - 0s 3ms/step - loss: 0.6493 - mae: 0.4739 - val_loss: 1.1459 - val_mae: 0.6682\n",
      "Epoch 143/200\n",
      "32/32 [==============================] - 0s 4ms/step - loss: 0.6400 - mae: 0.4711 - val_loss: 1.1190 - val_mae: 0.6727\n",
      "Epoch 144/200\n",
      "32/32 [==============================] - 0s 3ms/step - loss: 0.6535 - mae: 0.4632 - val_loss: 1.1139 - val_mae: 0.6908\n",
      "Epoch 145/200\n",
      "32/32 [==============================] - 0s 3ms/step - loss: 0.6415 - mae: 0.4702 - val_loss: 1.1091 - val_mae: 0.6728\n",
      "Epoch 146/200\n",
      "32/32 [==============================] - 0s 3ms/step - loss: 0.6504 - mae: 0.4704 - val_loss: 1.1089 - val_mae: 0.6643\n",
      "Epoch 147/200\n",
      "32/32 [==============================] - 0s 3ms/step - loss: 0.6562 - mae: 0.4684 - val_loss: 1.0874 - val_mae: 0.6692\n",
      "Epoch 148/200\n",
      "32/32 [==============================] - 0s 3ms/step - loss: 0.6442 - mae: 0.4695 - val_loss: 1.0940 - val_mae: 0.6717\n",
      "Epoch 149/200\n",
      "32/32 [==============================] - 0s 3ms/step - loss: 0.6480 - mae: 0.4727 - val_loss: 1.1176 - val_mae: 0.6765\n",
      "Epoch 150/200\n",
      "32/32 [==============================] - 0s 3ms/step - loss: 0.6475 - mae: 0.4689 - val_loss: 1.1050 - val_mae: 0.6714\n",
      "Epoch 151/200\n",
      "32/32 [==============================] - 0s 3ms/step - loss: 0.6560 - mae: 0.4710 - val_loss: 1.0857 - val_mae: 0.6695\n",
      "Epoch 152/200\n",
      "32/32 [==============================] - 0s 3ms/step - loss: 0.6457 - mae: 0.4733 - val_loss: 1.0676 - val_mae: 0.6546\n",
      "Epoch 153/200\n",
      "32/32 [==============================] - 0s 3ms/step - loss: 0.6275 - mae: 0.4649 - val_loss: 1.1800 - val_mae: 0.6816\n",
      "Epoch 154/200\n",
      "32/32 [==============================] - 0s 3ms/step - loss: 0.6598 - mae: 0.4719 - val_loss: 1.0968 - val_mae: 0.6661\n",
      "Epoch 155/200\n",
      "32/32 [==============================] - 0s 3ms/step - loss: 0.6500 - mae: 0.4734 - val_loss: 1.1050 - val_mae: 0.6636\n",
      "Epoch 156/200\n",
      "32/32 [==============================] - 0s 3ms/step - loss: 0.6539 - mae: 0.4715 - val_loss: 1.0885 - val_mae: 0.6716\n",
      "Epoch 157/200\n",
      "32/32 [==============================] - 0s 3ms/step - loss: 0.6464 - mae: 0.4690 - val_loss: 1.1211 - val_mae: 0.6820\n",
      "Epoch 158/200\n",
      "32/32 [==============================] - 0s 3ms/step - loss: 0.6472 - mae: 0.4814 - val_loss: 1.1375 - val_mae: 0.6708\n",
      "Epoch 159/200\n",
      "32/32 [==============================] - 0s 3ms/step - loss: 0.6503 - mae: 0.4745 - val_loss: 1.0898 - val_mae: 0.6604\n",
      "Epoch 160/200\n",
      "32/32 [==============================] - 0s 3ms/step - loss: 0.6531 - mae: 0.4675 - val_loss: 1.1262 - val_mae: 0.6719\n",
      "Epoch 161/200\n",
      "32/32 [==============================] - 0s 3ms/step - loss: 0.6496 - mae: 0.4697 - val_loss: 1.1351 - val_mae: 0.6755\n",
      "Epoch 162/200\n",
      "32/32 [==============================] - 0s 3ms/step - loss: 0.6474 - mae: 0.4755 - val_loss: 1.0972 - val_mae: 0.6627\n",
      "Epoch 163/200\n",
      "32/32 [==============================] - 0s 3ms/step - loss: 0.6519 - mae: 0.4663 - val_loss: 1.1000 - val_mae: 0.6834\n",
      "Epoch 164/200\n",
      "32/32 [==============================] - 0s 3ms/step - loss: 0.6430 - mae: 0.4712 - val_loss: 1.1054 - val_mae: 0.6676\n",
      "Epoch 165/200\n",
      "32/32 [==============================] - 0s 3ms/step - loss: 0.6574 - mae: 0.4727 - val_loss: 1.1054 - val_mae: 0.6619\n",
      "Epoch 166/200\n",
      "32/32 [==============================] - 0s 3ms/step - loss: 0.6421 - mae: 0.4655 - val_loss: 1.1006 - val_mae: 0.6690\n",
      "Epoch 167/200\n",
      "32/32 [==============================] - 0s 3ms/step - loss: 0.6666 - mae: 0.4723 - val_loss: 1.1087 - val_mae: 0.6639\n",
      "Epoch 168/200\n",
      "32/32 [==============================] - 0s 3ms/step - loss: 0.6533 - mae: 0.4675 - val_loss: 1.0625 - val_mae: 0.6566\n",
      "Epoch 169/200\n",
      "32/32 [==============================] - 0s 3ms/step - loss: 0.6410 - mae: 0.4624 - val_loss: 1.1312 - val_mae: 0.6930\n",
      "Epoch 170/200\n",
      "32/32 [==============================] - 0s 3ms/step - loss: 0.6521 - mae: 0.4713 - val_loss: 1.0695 - val_mae: 0.6648\n",
      "Epoch 171/200\n",
      "32/32 [==============================] - 0s 3ms/step - loss: 0.6369 - mae: 0.4705 - val_loss: 1.0989 - val_mae: 0.6672\n",
      "Epoch 172/200\n",
      "32/32 [==============================] - 0s 3ms/step - loss: 0.6424 - mae: 0.4678 - val_loss: 1.1235 - val_mae: 0.6686\n",
      "Epoch 173/200\n",
      "32/32 [==============================] - 0s 3ms/step - loss: 0.6533 - mae: 0.4650 - val_loss: 1.0889 - val_mae: 0.6974\n",
      "Epoch 174/200\n",
      "32/32 [==============================] - 0s 3ms/step - loss: 0.6501 - mae: 0.4747 - val_loss: 1.0695 - val_mae: 0.6604\n",
      "Epoch 175/200\n",
      "32/32 [==============================] - 0s 3ms/step - loss: 0.6347 - mae: 0.4613 - val_loss: 1.1401 - val_mae: 0.6806\n",
      "Epoch 176/200\n",
      "32/32 [==============================] - 0s 3ms/step - loss: 0.6519 - mae: 0.4731 - val_loss: 1.1129 - val_mae: 0.6726\n",
      "Epoch 177/200\n",
      "32/32 [==============================] - 0s 4ms/step - loss: 0.6452 - mae: 0.4688 - val_loss: 1.0558 - val_mae: 0.6562\n",
      "Epoch 178/200\n",
      "32/32 [==============================] - 0s 5ms/step - loss: 0.6527 - mae: 0.4623 - val_loss: 1.1271 - val_mae: 0.6857\n",
      "Epoch 179/200\n",
      "32/32 [==============================] - 0s 4ms/step - loss: 0.6556 - mae: 0.4734 - val_loss: 1.0946 - val_mae: 0.6604\n",
      "Epoch 180/200\n",
      "32/32 [==============================] - 0s 3ms/step - loss: 0.6401 - mae: 0.4626 - val_loss: 1.1357 - val_mae: 0.6969\n",
      "Epoch 181/200\n",
      "32/32 [==============================] - 0s 3ms/step - loss: 0.6578 - mae: 0.4731 - val_loss: 1.1492 - val_mae: 0.6795\n",
      "Epoch 182/200\n",
      "32/32 [==============================] - 0s 3ms/step - loss: 0.6541 - mae: 0.4667 - val_loss: 1.1190 - val_mae: 0.6844\n",
      "Epoch 183/200\n",
      "32/32 [==============================] - 0s 3ms/step - loss: 0.6433 - mae: 0.4702 - val_loss: 1.1003 - val_mae: 0.6641\n",
      "Epoch 184/200\n",
      "32/32 [==============================] - 0s 3ms/step - loss: 0.6513 - mae: 0.4730 - val_loss: 1.1125 - val_mae: 0.6617\n",
      "Epoch 185/200\n",
      "32/32 [==============================] - 0s 3ms/step - loss: 0.6487 - mae: 0.4663 - val_loss: 1.0575 - val_mae: 0.6538\n",
      "Epoch 186/200\n"
     ]
    },
    {
     "name": "stdout",
     "output_type": "stream",
     "text": [
      "32/32 [==============================] - 0s 3ms/step - loss: 0.6436 - mae: 0.4703 - val_loss: 1.1156 - val_mae: 0.6914\n",
      "Epoch 187/200\n",
      "32/32 [==============================] - 0s 3ms/step - loss: 0.6434 - mae: 0.4672 - val_loss: 1.1667 - val_mae: 0.6734\n",
      "Epoch 188/200\n",
      "32/32 [==============================] - 0s 3ms/step - loss: 0.6546 - mae: 0.4700 - val_loss: 1.0923 - val_mae: 0.6766\n",
      "Epoch 189/200\n",
      "32/32 [==============================] - 0s 3ms/step - loss: 0.6507 - mae: 0.4679 - val_loss: 1.0856 - val_mae: 0.6640\n",
      "Epoch 190/200\n",
      "32/32 [==============================] - 0s 3ms/step - loss: 0.6497 - mae: 0.4730 - val_loss: 1.1297 - val_mae: 0.6739\n",
      "Epoch 191/200\n",
      "32/32 [==============================] - 0s 3ms/step - loss: 0.6433 - mae: 0.4660 - val_loss: 1.1579 - val_mae: 0.6826\n",
      "Epoch 192/200\n",
      "32/32 [==============================] - 0s 3ms/step - loss: 0.6590 - mae: 0.4766 - val_loss: 1.0932 - val_mae: 0.6645\n",
      "Epoch 193/200\n",
      "32/32 [==============================] - 0s 3ms/step - loss: 0.6505 - mae: 0.4728 - val_loss: 1.1114 - val_mae: 0.6712\n",
      "Epoch 194/200\n",
      "32/32 [==============================] - 0s 4ms/step - loss: 0.6394 - mae: 0.4720 - val_loss: 1.0918 - val_mae: 0.6822\n",
      "Epoch 195/200\n",
      "32/32 [==============================] - 0s 5ms/step - loss: 0.6444 - mae: 0.4790 - val_loss: 1.1001 - val_mae: 0.6622\n",
      "Epoch 196/200\n",
      "32/32 [==============================] - 0s 4ms/step - loss: 0.6461 - mae: 0.4678 - val_loss: 1.1154 - val_mae: 0.6766\n",
      "Epoch 197/200\n",
      "32/32 [==============================] - 0s 3ms/step - loss: 0.6517 - mae: 0.4711 - val_loss: 1.0959 - val_mae: 0.6691\n",
      "Epoch 198/200\n",
      "32/32 [==============================] - 0s 3ms/step - loss: 0.6424 - mae: 0.4705 - val_loss: 1.0991 - val_mae: 0.6803\n",
      "Epoch 199/200\n",
      "32/32 [==============================] - 0s 3ms/step - loss: 0.6498 - mae: 0.4778 - val_loss: 1.0743 - val_mae: 0.6594\n",
      "Epoch 200/200\n",
      "32/32 [==============================] - 0s 3ms/step - loss: 0.6562 - mae: 0.4745 - val_loss: 1.1129 - val_mae: 0.6689\n"
     ]
    }
   ],
   "source": [
    "history = network.fit(X_train,Y_train,epochs=200,validation_split=0.3, batch_size = 16)"
   ]
  },
  {
   "cell_type": "code",
   "execution_count": 92,
   "metadata": {},
   "outputs": [
    {
     "data": {
      "text/plain": [
       "dict_keys(['loss', 'mae', 'val_loss', 'val_mae'])"
      ]
     },
     "execution_count": 92,
     "metadata": {},
     "output_type": "execute_result"
    }
   ],
   "source": [
    "history.history.keys()"
   ]
  },
  {
   "cell_type": "code",
   "execution_count": 93,
   "metadata": {
    "colab": {
     "base_uri": "https://localhost:8080/"
    },
    "id": "Dke-NeOQtJ7Z",
    "outputId": "c747742c-a35c-489d-910c-49aec973df25"
   },
   "outputs": [
    {
     "name": "stdout",
     "output_type": "stream",
     "text": [
      "10/10 [==============================] - 0s 889us/step - loss: 1.1246 - mae: 0.6472\n"
     ]
    }
   ],
   "source": [
    "loss,mae=network.evaluate(X_test,Y_test)"
   ]
  },
  {
   "cell_type": "code",
   "execution_count": 94,
   "metadata": {
    "colab": {
     "base_uri": "https://localhost:8080/"
    },
    "id": "CtycpTWetRiZ",
    "outputId": "c3c53923-6128-448f-a0ac-68b30a6eabaa"
   },
   "outputs": [],
   "source": [
    "val_mae = history.history['val_mae']\n",
    "val_loss = history.history['val_loss']"
   ]
  },
  {
   "cell_type": "code",
   "execution_count": 95,
   "metadata": {},
   "outputs": [
    {
     "data": {
      "image/png": "[encoded data removed]",
      "text/plain": [
       "<Figure size 432x288 with 1 Axes>"
      ]
     },
     "metadata": {
      "needs_background": "light"
     },
     "output_type": "display_data"
    }
   ],
   "source": [
    "import matplotlib.pyplot as plt \n",
    "history_dict = history.history\n",
    "loss_values = history_dict['loss']\n",
    "val_loss_values = history_dict['val_loss']\n",
    "epochs = range(200)\n",
    "plt.plot(epochs, loss_values, 'bo', label='Training loss')\n",
    "plt.plot(epochs, val_loss_values, 'b', label='Validation loss')\n",
    "plt.title('Training and validation loss')\n",
    "plt.xlabel('Epochs')\n",
    "plt.ylabel('Loss')\n",
    "plt.legend()\n",
    "plt.show()"
   ]
  },
  {
   "cell_type": "code",
   "execution_count": 96,
   "metadata": {},
   "outputs": [
    {
     "data": {
      "image/png": "[encoded data removed]",
      "text/plain": [
       "<Figure size 432x288 with 1 Axes>"
      ]
     },
     "metadata": {
      "needs_background": "light"
     },
     "output_type": "display_data"
    }
   ],
   "source": [
    "import matplotlib.pyplot as plt \n",
    "acc_values = history_dict['mae']\n",
    "val_acc_values = history_dict['val_mae']\n",
    "plt.plot(epochs, acc_values, 'bo', label='Training mae')\n",
    "plt.plot(epochs, val_acc_values, 'b', label='Validation mae')\n",
    "plt.title('Training and validation accuracy')\n",
    "plt.xlabel('Epochs')\n",
    "plt.ylabel('mae')\n",
    "plt.legend()\n",
    "plt.show()"
   ]
  },
  {
   "cell_type": "code",
   "execution_count": 97,
   "metadata": {
    "id": "AiZJuEX1tXIa"
   },
   "outputs": [],
   "source": [
    "y_pred = network.predict(X_test)"
   ]
  },
  {
   "cell_type": "code",
   "execution_count": null,
   "metadata": {},
   "outputs": [],
   "source": []
  },
  {
   "cell_type": "code",
   "execution_count": 98,
   "metadata": {},
   "outputs": [],
   "source": [
    "def denorm(x):\n",
    "    return (x * Y_std) + Y_mean\n",
    "    "
   ]
  },
  {
   "cell_type": "code",
   "execution_count": 99,
   "metadata": {},
   "outputs": [],
   "source": [
    "y_pred = denorm(y_pred)"
   ]
  },
  {
   "cell_type": "code",
   "execution_count": 100,
   "metadata": {},
   "outputs": [],
   "source": [
    "y_true = denorm(Y_test)"
   ]
  },
  {
   "cell_type": "code",
   "execution_count": 101,
   "metadata": {},
   "outputs": [],
   "source": [
    "y_pred = y_pred.flatten()"
   ]
  },
  {
   "cell_type": "code",
   "execution_count": 102,
   "metadata": {},
   "outputs": [
    {
     "data": {
      "text/plain": [
       "(309,)"
      ]
     },
     "execution_count": 102,
     "metadata": {},
     "output_type": "execute_result"
    }
   ],
   "source": [
    "y_pred.shape"
   ]
  },
  {
   "cell_type": "code",
   "execution_count": 103,
   "metadata": {},
   "outputs": [
    {
     "data": {
      "text/plain": [
       "(309,)"
      ]
     },
     "execution_count": 103,
     "metadata": {},
     "output_type": "execute_result"
    }
   ],
   "source": [
    "y_true.shape"
   ]
  },
  {
   "cell_type": "code",
   "execution_count": 104,
   "metadata": {},
   "outputs": [
    {
     "data": {
      "text/plain": [
       "(0.0, 100.0)"
      ]
     },
     "execution_count": 104,
     "metadata": {},
     "output_type": "execute_result"
    },
    {
     "data": {
      "image/png": "[encoded data removed]",
      "text/plain": [
       "<Figure size 432x288 with 1 Axes>"
      ]
     },
     "metadata": {
      "needs_background": "light"
     },
     "output_type": "display_data"
    }
   ],
   "source": [
    "import numpy as np\n",
    "import matplotlib.pyplot as plt\n",
    "coef = np.polyfit(y_true,y_pred,1)\n",
    "poly1d_fn = np.poly1d(coef) \n",
    "# poly1d_fn is now a function which takes in x and returns an estimate for y\n",
    "plt.plot(y_true,y_pred, 'yo', y_true, poly1d_fn(y_true), '--k')\n",
    "plt.xlim(0, 100)\n",
    "plt.ylim(0, 100)"
   ]
  }
 ],
 "metadata": {
  "accelerator": "TPU",
  "colab": {
   "collapsed_sections": [],
   "name": "Concrete.ipynb",
   "provenance": [],
   "toc_visible": true
  },
  "kernelspec": {
   "display_name": "Python 3",
   "language": "python",
   "name": "python3"
  },
  "language_info": {
   "codemirror_mode": {
    "name": "ipython",
    "version": 3
   },
   "file_extension": ".py",
   "mimetype": "text/x-python",
   "name": "python",
   "nbconvert_exporter": "python",
   "pygments_lexer": "ipython3",
   "version": "3.8.5"
  }
 },
 "nbformat": 4,
 "nbformat_minor": 1
}
