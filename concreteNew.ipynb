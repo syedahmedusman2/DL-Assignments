{
  "nbformat": 4,
  "nbformat_minor": 0,
  "metadata": {
    "colab": {
      "name": "concreteNew.ipynb",
      "provenance": [],
      "collapsed_sections": []
    },
    "kernelspec": {
      "display_name": "Python 3",
      "name": "python3"
    },
    "language_info": {
      "name": "python"
    }
  },
  "cells": [
    {
      "cell_type": "code",
      "metadata": {
        "id": "kd0MFfC9NTuL"
      },
      "source": [
        "import pandas as pd \n",
        "import numpy as np"
      ],
      "execution_count": null,
      "outputs": []
    },
    {
      "cell_type": "code",
      "metadata": {
        "colab": {
          "resources": {
            "http://localhost:8080/nbextensions/google.colab/files.js": {
              "data": "Ly8gQ29weXJpZ2h0IDIwMTcgR29vZ2xlIExMQwovLwovLyBMaWNlbnNlZCB1bmRlciB0aGUgQXBhY2hlIExpY2Vuc2UsIFZlcnNpb24gMi4wICh0aGUgIkxpY2Vuc2UiKTsKLy8geW91IG1heSBub3QgdXNlIHRoaXMgZmlsZSBleGNlcHQgaW4gY29tcGxpYW5jZSB3aXRoIHRoZSBMaWNlbnNlLgovLyBZb3UgbWF5IG9idGFpbiBhIGNvcHkgb2YgdGhlIExpY2Vuc2UgYXQKLy8KLy8gICAgICBodHRwOi8vd3d3LmFwYWNoZS5vcmcvbGljZW5zZXMvTElDRU5TRS0yLjAKLy8KLy8gVW5sZXNzIHJlcXVpcmVkIGJ5IGFwcGxpY2FibGUgbGF3IG9yIGFncmVlZCB0byBpbiB3cml0aW5nLCBzb2Z0d2FyZQovLyBkaXN0cmlidXRlZCB1bmRlciB0aGUgTGljZW5zZSBpcyBkaXN0cmlidXRlZCBvbiBhbiAiQVMgSVMiIEJBU0lTLAovLyBXSVRIT1VUIFdBUlJBTlRJRVMgT1IgQ09ORElUSU9OUyBPRiBBTlkgS0lORCwgZWl0aGVyIGV4cHJlc3Mgb3IgaW1wbGllZC4KLy8gU2VlIHRoZSBMaWNlbnNlIGZvciB0aGUgc3BlY2lmaWMgbGFuZ3VhZ2UgZ292ZXJuaW5nIHBlcm1pc3Npb25zIGFuZAovLyBsaW1pdGF0aW9ucyB1bmRlciB0aGUgTGljZW5zZS4KCi8qKgogKiBAZmlsZW92ZXJ2aWV3IEhlbHBlcnMgZm9yIGdvb2dsZS5jb2xhYiBQeXRob24gbW9kdWxlLgogKi8KKGZ1bmN0aW9uKHNjb3BlKSB7CmZ1bmN0aW9uIHNwYW4odGV4dCwgc3R5bGVBdHRyaWJ1dGVzID0ge30pIHsKICBjb25zdCBlbGVtZW50ID0gZG9jdW1lbnQuY3JlYXRlRWxlbWVudCgnc3BhbicpOwogIGVsZW1lbnQudGV4dENvbnRlbnQgPSB0ZXh0OwogIGZvciAoY29uc3Qga2V5IG9mIE9iamVjdC5rZXlzKHN0eWxlQXR0cmlidXRlcykpIHsKICAgIGVsZW1lbnQuc3R5bGVba2V5XSA9IHN0eWxlQXR0cmlidXRlc1trZXldOwogIH0KICByZXR1cm4gZWxlbWVudDsKfQoKLy8gTWF4IG51bWJlciBvZiBieXRlcyB3aGljaCB3aWxsIGJlIHVwbG9hZGVkIGF0IGEgdGltZS4KY29uc3QgTUFYX1BBWUxPQURfU0laRSA9IDEwMCAqIDEwMjQ7CgpmdW5jdGlvbiBfdXBsb2FkRmlsZXMoaW5wdXRJZCwgb3V0cHV0SWQpIHsKICBjb25zdCBzdGVwcyA9IHVwbG9hZEZpbGVzU3RlcChpbnB1dElkLCBvdXRwdXRJZCk7CiAgY29uc3Qgb3V0cHV0RWxlbWVudCA9IGRvY3VtZW50LmdldEVsZW1lbnRCeUlkKG91dHB1dElkKTsKICAvLyBDYWNoZSBzdGVwcyBvbiB0aGUgb3V0cHV0RWxlbWVudCB0byBtYWtlIGl0IGF2YWlsYWJsZSBmb3IgdGhlIG5leHQgY2FsbAogIC8vIHRvIHVwbG9hZEZpbGVzQ29udGludWUgZnJvbSBQeXRob24uCiAgb3V0cHV0RWxlbWVudC5zdGVwcyA9IHN0ZXBzOwoKICByZXR1cm4gX3VwbG9hZEZpbGVzQ29udGludWUob3V0cHV0SWQpOwp9CgovLyBUaGlzIGlzIHJvdWdobHkgYW4gYXN5bmMgZ2VuZXJhdG9yIChub3Qgc3VwcG9ydGVkIGluIHRoZSBicm93c2VyIHlldCksCi8vIHdoZXJlIHRoZXJlIGFyZSBtdWx0aXBsZSBhc3luY2hyb25vdXMgc3RlcHMgYW5kIHRoZSBQeXRob24gc2lkZSBpcyBnb2luZwovLyB0byBwb2xsIGZvciBjb21wbGV0aW9uIG9mIGVhY2ggc3RlcC4KLy8gVGhpcyB1c2VzIGEgUHJvbWlzZSB0byBibG9jayB0aGUgcHl0aG9uIHNpZGUgb24gY29tcGxldGlvbiBvZiBlYWNoIHN0ZXAsCi8vIHRoZW4gcGFzc2VzIHRoZSByZXN1bHQgb2YgdGhlIHByZXZpb3VzIHN0ZXAgYXMgdGhlIGlucHV0IHRvIHRoZSBuZXh0IHN0ZXAuCmZ1bmN0aW9uIF91cGxvYWRGaWxlc0NvbnRpbnVlKG91dHB1dElkKSB7CiAgY29uc3Qgb3V0cHV0RWxlbWVudCA9IGRvY3VtZW50LmdldEVsZW1lbnRCeUlkKG91dHB1dElkKTsKICBjb25zdCBzdGVwcyA9IG91dHB1dEVsZW1lbnQuc3RlcHM7CgogIGNvbnN0IG5leHQgPSBzdGVwcy5uZXh0KG91dHB1dEVsZW1lbnQubGFzdFByb21pc2VWYWx1ZSk7CiAgcmV0dXJuIFByb21pc2UucmVzb2x2ZShuZXh0LnZhbHVlLnByb21pc2UpLnRoZW4oKHZhbHVlKSA9PiB7CiAgICAvLyBDYWNoZSB0aGUgbGFzdCBwcm9taXNlIHZhbHVlIHRvIG1ha2UgaXQgYXZhaWxhYmxlIHRvIHRoZSBuZXh0CiAgICAvLyBzdGVwIG9mIHRoZSBnZW5lcmF0b3IuCiAgICBvdXRwdXRFbGVtZW50Lmxhc3RQcm9taXNlVmFsdWUgPSB2YWx1ZTsKICAgIHJldHVybiBuZXh0LnZhbHVlLnJlc3BvbnNlOwogIH0pOwp9CgovKioKICogR2VuZXJhdG9yIGZ1bmN0aW9uIHdoaWNoIGlzIGNhbGxlZCBiZXR3ZWVuIGVhY2ggYXN5bmMgc3RlcCBvZiB0aGUgdXBsb2FkCiAqIHByb2Nlc3MuCiAqIEBwYXJhbSB7c3RyaW5nfSBpbnB1dElkIEVsZW1lbnQgSUQgb2YgdGhlIGlucHV0IGZpbGUgcGlja2VyIGVsZW1lbnQuCiAqIEBwYXJhbSB7c3RyaW5nfSBvdXRwdXRJZCBFbGVtZW50IElEIG9mIHRoZSBvdXRwdXQgZGlzcGxheS4KICogQHJldHVybiB7IUl0ZXJhYmxlPCFPYmplY3Q+fSBJdGVyYWJsZSBvZiBuZXh0IHN0ZXBzLgogKi8KZnVuY3Rpb24qIHVwbG9hZEZpbGVzU3RlcChpbnB1dElkLCBvdXRwdXRJZCkgewogIGNvbnN0IGlucHV0RWxlbWVudCA9IGRvY3VtZW50LmdldEVsZW1lbnRCeUlkKGlucHV0SWQpOwogIGlucHV0RWxlbWVudC5kaXNhYmxlZCA9IGZhbHNlOwoKICBjb25zdCBvdXRwdXRFbGVtZW50ID0gZG9jdW1lbnQuZ2V0RWxlbWVudEJ5SWQob3V0cHV0SWQpOwogIG91dHB1dEVsZW1lbnQuaW5uZXJIVE1MID0gJyc7CgogIGNvbnN0IHBpY2tlZFByb21pc2UgPSBuZXcgUHJvbWlzZSgocmVzb2x2ZSkgPT4gewogICAgaW5wdXRFbGVtZW50LmFkZEV2ZW50TGlzdGVuZXIoJ2NoYW5nZScsIChlKSA9PiB7CiAgICAgIHJlc29sdmUoZS50YXJnZXQuZmlsZXMpOwogICAgfSk7CiAgfSk7CgogIGNvbnN0IGNhbmNlbCA9IGRvY3VtZW50LmNyZWF0ZUVsZW1lbnQoJ2J1dHRvbicpOwogIGlucHV0RWxlbWVudC5wYXJlbnRFbGVtZW50LmFwcGVuZENoaWxkKGNhbmNlbCk7CiAgY2FuY2VsLnRleHRDb250ZW50ID0gJ0NhbmNlbCB1cGxvYWQnOwogIGNvbnN0IGNhbmNlbFByb21pc2UgPSBuZXcgUHJvbWlzZSgocmVzb2x2ZSkgPT4gewogICAgY2FuY2VsLm9uY2xpY2sgPSAoKSA9PiB7CiAgICAgIHJlc29sdmUobnVsbCk7CiAgICB9OwogIH0pOwoKICAvLyBXYWl0IGZvciB0aGUgdXNlciB0byBwaWNrIHRoZSBmaWxlcy4KICBjb25zdCBmaWxlcyA9IHlpZWxkIHsKICAgIHByb21pc2U6IFByb21pc2UucmFjZShbcGlja2VkUHJvbWlzZSwgY2FuY2VsUHJvbWlzZV0pLAogICAgcmVzcG9uc2U6IHsKICAgICAgYWN0aW9uOiAnc3RhcnRpbmcnLAogICAgfQogIH07CgogIGNhbmNlbC5yZW1vdmUoKTsKCiAgLy8gRGlzYWJsZSB0aGUgaW5wdXQgZWxlbWVudCBzaW5jZSBmdXJ0aGVyIHBpY2tzIGFyZSBub3QgYWxsb3dlZC4KICBpbnB1dEVsZW1lbnQuZGlzYWJsZWQgPSB0cnVlOwoKICBpZiAoIWZpbGVzKSB7CiAgICByZXR1cm4gewogICAgICByZXNwb25zZTogewogICAgICAgIGFjdGlvbjogJ2NvbXBsZXRlJywKICAgICAgfQogICAgfTsKICB9CgogIGZvciAoY29uc3QgZmlsZSBvZiBmaWxlcykgewogICAgY29uc3QgbGkgPSBkb2N1bWVudC5jcmVhdGVFbGVtZW50KCdsaScpOwogICAgbGkuYXBwZW5kKHNwYW4oZmlsZS5uYW1lLCB7Zm9udFdlaWdodDogJ2JvbGQnfSkpOwogICAgbGkuYXBwZW5kKHNwYW4oCiAgICAgICAgYCgke2ZpbGUudHlwZSB8fCAnbi9hJ30pIC0gJHtmaWxlLnNpemV9IGJ5dGVzLCBgICsKICAgICAgICBgbGFzdCBtb2RpZmllZDogJHsKICAgICAgICAgICAgZmlsZS5sYXN0TW9kaWZpZWREYXRlID8gZmlsZS5sYXN0TW9kaWZpZWREYXRlLnRvTG9jYWxlRGF0ZVN0cmluZygpIDoKICAgICAgICAgICAgICAgICAgICAgICAgICAgICAgICAgICAgJ24vYSd9IC0gYCkpOwogICAgY29uc3QgcGVyY2VudCA9IHNwYW4oJzAlIGRvbmUnKTsKICAgIGxpLmFwcGVuZENoaWxkKHBlcmNlbnQpOwoKICAgIG91dHB1dEVsZW1lbnQuYXBwZW5kQ2hpbGQobGkpOwoKICAgIGNvbnN0IGZpbGVEYXRhUHJvbWlzZSA9IG5ldyBQcm9taXNlKChyZXNvbHZlKSA9PiB7CiAgICAgIGNvbnN0IHJlYWRlciA9IG5ldyBGaWxlUmVhZGVyKCk7CiAgICAgIHJlYWRlci5vbmxvYWQgPSAoZSkgPT4gewogICAgICAgIHJlc29sdmUoZS50YXJnZXQucmVzdWx0KTsKICAgICAgfTsKICAgICAgcmVhZGVyLnJlYWRBc0FycmF5QnVmZmVyKGZpbGUpOwogICAgfSk7CiAgICAvLyBXYWl0IGZvciB0aGUgZGF0YSB0byBiZSByZWFkeS4KICAgIGxldCBmaWxlRGF0YSA9IHlpZWxkIHsKICAgICAgcHJvbWlzZTogZmlsZURhdGFQcm9taXNlLAogICAgICByZXNwb25zZTogewogICAgICAgIGFjdGlvbjogJ2NvbnRpbnVlJywKICAgICAgfQogICAgfTsKCiAgICAvLyBVc2UgYSBjaHVua2VkIHNlbmRpbmcgdG8gYXZvaWQgbWVzc2FnZSBzaXplIGxpbWl0cy4gU2VlIGIvNjIxMTU2NjAuCiAgICBsZXQgcG9zaXRpb24gPSAwOwogICAgd2hpbGUgKHBvc2l0aW9uIDwgZmlsZURhdGEuYnl0ZUxlbmd0aCkgewogICAgICBjb25zdCBsZW5ndGggPSBNYXRoLm1pbihmaWxlRGF0YS5ieXRlTGVuZ3RoIC0gcG9zaXRpb24sIE1BWF9QQVlMT0FEX1NJWkUpOwogICAgICBjb25zdCBjaHVuayA9IG5ldyBVaW50OEFycmF5KGZpbGVEYXRhLCBwb3NpdGlvbiwgbGVuZ3RoKTsKICAgICAgcG9zaXRpb24gKz0gbGVuZ3RoOwoKICAgICAgY29uc3QgYmFzZTY0ID0gYnRvYShTdHJpbmcuZnJvbUNoYXJDb2RlLmFwcGx5KG51bGwsIGNodW5rKSk7CiAgICAgIHlpZWxkIHsKICAgICAgICByZXNwb25zZTogewogICAgICAgICAgYWN0aW9uOiAnYXBwZW5kJywKICAgICAgICAgIGZpbGU6IGZpbGUubmFtZSwKICAgICAgICAgIGRhdGE6IGJhc2U2NCwKICAgICAgICB9LAogICAgICB9OwogICAgICBwZXJjZW50LnRleHRDb250ZW50ID0KICAgICAgICAgIGAke01hdGgucm91bmQoKHBvc2l0aW9uIC8gZmlsZURhdGEuYnl0ZUxlbmd0aCkgKiAxMDApfSUgZG9uZWA7CiAgICB9CiAgfQoKICAvLyBBbGwgZG9uZS4KICB5aWVsZCB7CiAgICByZXNwb25zZTogewogICAgICBhY3Rpb246ICdjb21wbGV0ZScsCiAgICB9CiAgfTsKfQoKc2NvcGUuZ29vZ2xlID0gc2NvcGUuZ29vZ2xlIHx8IHt9OwpzY29wZS5nb29nbGUuY29sYWIgPSBzY29wZS5nb29nbGUuY29sYWIgfHwge307CnNjb3BlLmdvb2dsZS5jb2xhYi5fZmlsZXMgPSB7CiAgX3VwbG9hZEZpbGVzLAogIF91cGxvYWRGaWxlc0NvbnRpbnVlLAp9Owp9KShzZWxmKTsK",
              "ok": true,
              "headers": [
                [
                  "content-type",
                  "application/javascript"
                ]
              ],
              "status": 200,
              "status_text": ""
            }
          },
          "base_uri": "https://localhost:8080/",
          "height": 70
        },
        "id": "5jQBKQsANbzB",
        "outputId": "3113c450-078c-4945-bc2b-f75b66294eca"
      },
      "source": [
        "import io\n",
        "from google.colab import files\n",
        "uploaded = files.upload()"
      ],
      "execution_count": null,
      "outputs": [
        {
          "output_type": "display_data",
          "data": {
            "text/html": [
              "\n",
              "     <input type=\"file\" id=\"files-c7660ccc-e82a-4ba9-8041-1176668425bd\" name=\"files[]\" multiple disabled\n",
              "        style=\"border:none\" />\n",
              "     <output id=\"result-c7660ccc-e82a-4ba9-8041-1176668425bd\">\n",
              "      Upload widget is only available when the cell has been executed in the\n",
              "      current browser session. Please rerun this cell to enable.\n",
              "      </output>\n",
              "      <script src=\"/nbextensions/google.colab/files.js\"></script> "
            ],
            "text/plain": [
              "<IPython.core.display.HTML object>"
            ]
          },
          "metadata": {
            "tags": []
          }
        },
        {
          "output_type": "stream",
          "text": [
            "Saving compresive_strength_concrete.csv to compresive_strength_concrete.csv\n"
          ],
          "name": "stdout"
        }
      ]
    },
    {
      "cell_type": "code",
      "metadata": {
        "colab": {
          "base_uri": "https://localhost:8080/",
          "height": 223
        },
        "id": "CHUHFJwJNkj6",
        "outputId": "0c82c532-91e8-4a49-aa39-edf659201399"
      },
      "source": [
        "concrete_data = pd.read_csv('compresive_strength_concrete.csv')\n",
        "concrete_data.head()"
      ],
      "execution_count": null,
      "outputs": [
        {
          "output_type": "execute_result",
          "data": {
            "text/html": [
              "<div>\n",
              "<style scoped>\n",
              "    .dataframe tbody tr th:only-of-type {\n",
              "        vertical-align: middle;\n",
              "    }\n",
              "\n",
              "    .dataframe tbody tr th {\n",
              "        vertical-align: top;\n",
              "    }\n",
              "\n",
              "    .dataframe thead th {\n",
              "        text-align: right;\n",
              "    }\n",
              "</style>\n",
              "<table border=\"1\" class=\"dataframe\">\n",
              "  <thead>\n",
              "    <tr style=\"text-align: right;\">\n",
              "      <th></th>\n",
              "      <th>Cement (component 1)(kg in a m^3 mixture)</th>\n",
              "      <th>Blast Furnace Slag (component 2)(kg in a m^3 mixture)</th>\n",
              "      <th>Fly Ash (component 3)(kg in a m^3 mixture)</th>\n",
              "      <th>Water  (component 4)(kg in a m^3 mixture)</th>\n",
              "      <th>Superplasticizer (component 5)(kg in a m^3 mixture)</th>\n",
              "      <th>Coarse Aggregate  (component 6)(kg in a m^3 mixture)</th>\n",
              "      <th>Fine Aggregate (component 7)(kg in a m^3 mixture)</th>\n",
              "      <th>Age (day)</th>\n",
              "      <th>Concrete compressive strength(MPa, megapascals)</th>\n",
              "    </tr>\n",
              "  </thead>\n",
              "  <tbody>\n",
              "    <tr>\n",
              "      <th>0</th>\n",
              "      <td>540.0</td>\n",
              "      <td>0.0</td>\n",
              "      <td>0.0</td>\n",
              "      <td>162.0</td>\n",
              "      <td>2.5</td>\n",
              "      <td>1040.0</td>\n",
              "      <td>676.0</td>\n",
              "      <td>28</td>\n",
              "      <td>79.99</td>\n",
              "    </tr>\n",
              "    <tr>\n",
              "      <th>1</th>\n",
              "      <td>540.0</td>\n",
              "      <td>0.0</td>\n",
              "      <td>0.0</td>\n",
              "      <td>162.0</td>\n",
              "      <td>2.5</td>\n",
              "      <td>1055.0</td>\n",
              "      <td>676.0</td>\n",
              "      <td>28</td>\n",
              "      <td>61.89</td>\n",
              "    </tr>\n",
              "    <tr>\n",
              "      <th>2</th>\n",
              "      <td>332.5</td>\n",
              "      <td>142.5</td>\n",
              "      <td>0.0</td>\n",
              "      <td>228.0</td>\n",
              "      <td>0.0</td>\n",
              "      <td>932.0</td>\n",
              "      <td>594.0</td>\n",
              "      <td>270</td>\n",
              "      <td>40.27</td>\n",
              "    </tr>\n",
              "    <tr>\n",
              "      <th>3</th>\n",
              "      <td>332.5</td>\n",
              "      <td>142.5</td>\n",
              "      <td>0.0</td>\n",
              "      <td>228.0</td>\n",
              "      <td>0.0</td>\n",
              "      <td>932.0</td>\n",
              "      <td>594.0</td>\n",
              "      <td>365</td>\n",
              "      <td>41.05</td>\n",
              "    </tr>\n",
              "    <tr>\n",
              "      <th>4</th>\n",
              "      <td>198.6</td>\n",
              "      <td>132.4</td>\n",
              "      <td>0.0</td>\n",
              "      <td>192.0</td>\n",
              "      <td>0.0</td>\n",
              "      <td>978.4</td>\n",
              "      <td>825.5</td>\n",
              "      <td>360</td>\n",
              "      <td>44.30</td>\n",
              "    </tr>\n",
              "  </tbody>\n",
              "</table>\n",
              "</div>"
            ],
            "text/plain": [
              "   Cement (component 1)(kg in a m^3 mixture)  ...  Concrete compressive strength(MPa, megapascals) \n",
              "0                                      540.0  ...                                             79.99\n",
              "1                                      540.0  ...                                             61.89\n",
              "2                                      332.5  ...                                             40.27\n",
              "3                                      332.5  ...                                             41.05\n",
              "4                                      198.6  ...                                             44.30\n",
              "\n",
              "[5 rows x 9 columns]"
            ]
          },
          "metadata": {
            "tags": []
          },
          "execution_count": 3
        }
      ]
    },
    {
      "cell_type": "code",
      "metadata": {
        "colab": {
          "base_uri": "https://localhost:8080/"
        },
        "id": "pKxZ5_AbNkmV",
        "outputId": "54618bec-493a-4373-cf61-e60b69855b2d"
      },
      "source": [
        "\n",
        "concrete_data.shape"
      ],
      "execution_count": null,
      "outputs": [
        {
          "output_type": "execute_result",
          "data": {
            "text/plain": [
              "(1030, 9)"
            ]
          },
          "metadata": {
            "tags": []
          },
          "execution_count": 4
        }
      ]
    },
    {
      "cell_type": "code",
      "metadata": {
        "colab": {
          "base_uri": "https://localhost:8080/",
          "height": 326
        },
        "id": "B48D0pZlNkpQ",
        "outputId": "23ae82f7-77de-4433-fbaa-898427153766"
      },
      "source": [
        "\n",
        "concrete_data.describe()"
      ],
      "execution_count": null,
      "outputs": [
        {
          "output_type": "execute_result",
          "data": {
            "text/html": [
              "<div>\n",
              "<style scoped>\n",
              "    .dataframe tbody tr th:only-of-type {\n",
              "        vertical-align: middle;\n",
              "    }\n",
              "\n",
              "    .dataframe tbody tr th {\n",
              "        vertical-align: top;\n",
              "    }\n",
              "\n",
              "    .dataframe thead th {\n",
              "        text-align: right;\n",
              "    }\n",
              "</style>\n",
              "<table border=\"1\" class=\"dataframe\">\n",
              "  <thead>\n",
              "    <tr style=\"text-align: right;\">\n",
              "      <th></th>\n",
              "      <th>Cement (component 1)(kg in a m^3 mixture)</th>\n",
              "      <th>Blast Furnace Slag (component 2)(kg in a m^3 mixture)</th>\n",
              "      <th>Fly Ash (component 3)(kg in a m^3 mixture)</th>\n",
              "      <th>Water  (component 4)(kg in a m^3 mixture)</th>\n",
              "      <th>Superplasticizer (component 5)(kg in a m^3 mixture)</th>\n",
              "      <th>Coarse Aggregate  (component 6)(kg in a m^3 mixture)</th>\n",
              "      <th>Fine Aggregate (component 7)(kg in a m^3 mixture)</th>\n",
              "      <th>Age (day)</th>\n",
              "      <th>Concrete compressive strength(MPa, megapascals)</th>\n",
              "    </tr>\n",
              "  </thead>\n",
              "  <tbody>\n",
              "    <tr>\n",
              "      <th>count</th>\n",
              "      <td>1030.000000</td>\n",
              "      <td>1030.000000</td>\n",
              "      <td>1030.000000</td>\n",
              "      <td>1030.000000</td>\n",
              "      <td>1030.000000</td>\n",
              "      <td>1030.000000</td>\n",
              "      <td>1030.000000</td>\n",
              "      <td>1030.000000</td>\n",
              "      <td>1030.000000</td>\n",
              "    </tr>\n",
              "    <tr>\n",
              "      <th>mean</th>\n",
              "      <td>281.167864</td>\n",
              "      <td>73.895825</td>\n",
              "      <td>54.188350</td>\n",
              "      <td>181.567282</td>\n",
              "      <td>6.204660</td>\n",
              "      <td>972.918932</td>\n",
              "      <td>773.580485</td>\n",
              "      <td>45.662136</td>\n",
              "      <td>35.817961</td>\n",
              "    </tr>\n",
              "    <tr>\n",
              "      <th>std</th>\n",
              "      <td>104.506364</td>\n",
              "      <td>86.279342</td>\n",
              "      <td>63.997004</td>\n",
              "      <td>21.354219</td>\n",
              "      <td>5.973841</td>\n",
              "      <td>77.753954</td>\n",
              "      <td>80.175980</td>\n",
              "      <td>63.169912</td>\n",
              "      <td>16.705742</td>\n",
              "    </tr>\n",
              "    <tr>\n",
              "      <th>min</th>\n",
              "      <td>102.000000</td>\n",
              "      <td>0.000000</td>\n",
              "      <td>0.000000</td>\n",
              "      <td>121.800000</td>\n",
              "      <td>0.000000</td>\n",
              "      <td>801.000000</td>\n",
              "      <td>594.000000</td>\n",
              "      <td>1.000000</td>\n",
              "      <td>2.330000</td>\n",
              "    </tr>\n",
              "    <tr>\n",
              "      <th>25%</th>\n",
              "      <td>192.375000</td>\n",
              "      <td>0.000000</td>\n",
              "      <td>0.000000</td>\n",
              "      <td>164.900000</td>\n",
              "      <td>0.000000</td>\n",
              "      <td>932.000000</td>\n",
              "      <td>730.950000</td>\n",
              "      <td>7.000000</td>\n",
              "      <td>23.710000</td>\n",
              "    </tr>\n",
              "    <tr>\n",
              "      <th>50%</th>\n",
              "      <td>272.900000</td>\n",
              "      <td>22.000000</td>\n",
              "      <td>0.000000</td>\n",
              "      <td>185.000000</td>\n",
              "      <td>6.400000</td>\n",
              "      <td>968.000000</td>\n",
              "      <td>779.500000</td>\n",
              "      <td>28.000000</td>\n",
              "      <td>34.445000</td>\n",
              "    </tr>\n",
              "    <tr>\n",
              "      <th>75%</th>\n",
              "      <td>350.000000</td>\n",
              "      <td>142.950000</td>\n",
              "      <td>118.300000</td>\n",
              "      <td>192.000000</td>\n",
              "      <td>10.200000</td>\n",
              "      <td>1029.400000</td>\n",
              "      <td>824.000000</td>\n",
              "      <td>56.000000</td>\n",
              "      <td>46.135000</td>\n",
              "    </tr>\n",
              "    <tr>\n",
              "      <th>max</th>\n",
              "      <td>540.000000</td>\n",
              "      <td>359.400000</td>\n",
              "      <td>200.100000</td>\n",
              "      <td>247.000000</td>\n",
              "      <td>32.200000</td>\n",
              "      <td>1145.000000</td>\n",
              "      <td>992.600000</td>\n",
              "      <td>365.000000</td>\n",
              "      <td>82.600000</td>\n",
              "    </tr>\n",
              "  </tbody>\n",
              "</table>\n",
              "</div>"
            ],
            "text/plain": [
              "       Cement (component 1)(kg in a m^3 mixture)  ...  Concrete compressive strength(MPa, megapascals) \n",
              "count                                1030.000000  ...                                       1030.000000\n",
              "mean                                  281.167864  ...                                         35.817961\n",
              "std                                   104.506364  ...                                         16.705742\n",
              "min                                   102.000000  ...                                          2.330000\n",
              "25%                                   192.375000  ...                                         23.710000\n",
              "50%                                   272.900000  ...                                         34.445000\n",
              "75%                                   350.000000  ...                                         46.135000\n",
              "max                                   540.000000  ...                                         82.600000\n",
              "\n",
              "[8 rows x 9 columns]"
            ]
          },
          "metadata": {
            "tags": []
          },
          "execution_count": 5
        }
      ]
    },
    {
      "cell_type": "code",
      "metadata": {
        "colab": {
          "base_uri": "https://localhost:8080/"
        },
        "id": "pEXhR0hyNkry",
        "outputId": "5b4351ef-1e20-4f5c-9bd7-c83d88d7b8ff"
      },
      "source": [
        "concrete_data.isnull().sum()"
      ],
      "execution_count": null,
      "outputs": [
        {
          "output_type": "execute_result",
          "data": {
            "text/plain": [
              "Cement (component 1)(kg in a m^3 mixture)                0\n",
              "Blast Furnace Slag (component 2)(kg in a m^3 mixture)    0\n",
              "Fly Ash (component 3)(kg in a m^3 mixture)               0\n",
              "Water  (component 4)(kg in a m^3 mixture)                0\n",
              "Superplasticizer (component 5)(kg in a m^3 mixture)      0\n",
              "Coarse Aggregate  (component 6)(kg in a m^3 mixture)     0\n",
              "Fine Aggregate (component 7)(kg in a m^3 mixture)        0\n",
              "Age (day)                                                0\n",
              "Concrete compressive strength(MPa, megapascals)          0\n",
              "dtype: int64"
            ]
          },
          "metadata": {
            "tags": []
          },
          "execution_count": 6
        }
      ]
    },
    {
      "cell_type": "code",
      "metadata": {
        "colab": {
          "base_uri": "https://localhost:8080/"
        },
        "id": "yg0RfH9SOC0O",
        "outputId": "91968187-848e-47e6-9005-0b5d7ae6b3b1"
      },
      "source": [
        "predictors = concrete_data.iloc[:,0:7]\n",
        "predictors.shape"
      ],
      "execution_count": null,
      "outputs": [
        {
          "output_type": "execute_result",
          "data": {
            "text/plain": [
              "(1030, 7)"
            ]
          },
          "metadata": {
            "tags": []
          },
          "execution_count": 7
        }
      ]
    },
    {
      "cell_type": "code",
      "metadata": {
        "colab": {
          "base_uri": "https://localhost:8080/"
        },
        "id": "sXlybkhJNkuc",
        "outputId": "31d3cfb2-4aa7-4c97-fcec-d3af8b55b79c"
      },
      "source": [
        "target = concrete_data['Concrete compressive strength(MPa, megapascals) ']\n",
        "target.head()"
      ],
      "execution_count": null,
      "outputs": [
        {
          "output_type": "execute_result",
          "data": {
            "text/plain": [
              "0    79.99\n",
              "1    61.89\n",
              "2    40.27\n",
              "3    41.05\n",
              "4    44.30\n",
              "Name: Concrete compressive strength(MPa, megapascals) , dtype: float64"
            ]
          },
          "metadata": {
            "tags": []
          },
          "execution_count": 8
        }
      ]
    },
    {
      "cell_type": "code",
      "metadata": {
        "id": "DIqOL3YwNkxc"
      },
      "source": [
        "n_cols = predictors.shape[1]"
      ],
      "execution_count": null,
      "outputs": []
    },
    {
      "cell_type": "code",
      "metadata": {
        "id": "Rx-1FRMfNk0T"
      },
      "source": [
        "import keras"
      ],
      "execution_count": null,
      "outputs": []
    },
    {
      "cell_type": "code",
      "metadata": {
        "id": "1QrRseoNPzrX"
      },
      "source": [
        "from keras.models import Sequential\n",
        "from keras.layers import Dense"
      ],
      "execution_count": null,
      "outputs": []
    },
    {
      "cell_type": "code",
      "metadata": {
        "id": "b2dQnL0iP5tG"
      },
      "source": [
        "def regression_model():\n",
        "  model = Sequential()\n",
        "  model.add(Dense(10, activation='relu', input_shape=(n_cols,)))\n",
        "  model.add(Dense(1))\n",
        "\n",
        "  model.compile(optimizer='adam', loss='mean_squared_error')\n",
        "  return model"
      ],
      "execution_count": null,
      "outputs": []
    },
    {
      "cell_type": "code",
      "metadata": {
        "id": "rOtW8JIbQVOd"
      },
      "source": [
        "model_1h = regression_model()"
      ],
      "execution_count": null,
      "outputs": []
    },
    {
      "cell_type": "code",
      "metadata": {
        "id": "CfM9b15AQZc1"
      },
      "source": [
        ""
      ],
      "execution_count": null,
      "outputs": []
    },
    {
      "cell_type": "code",
      "metadata": {
        "id": "jh-fisJ-Nk3s"
      },
      "source": [
        "from sklearn.model_selection import train_test_split\n",
        "from sklearn.metrics import mean_squared_error\n",
        "\n",
        "def calcul_MSE(model, predictor, num_epochs):\n",
        "\n",
        "    MSE_list = []\n",
        "    Repetition = 2\n",
        "\n",
        "    for i in range(Repetition):\n",
        "\n",
        "        X_train, X_test, y_train, y_test = train_test_split(predictor, target, test_size=0.3, random_state=None)\n",
        "\n",
        "        # fit the model and train the model on the training data using 50 epochs.\n",
        "        model.fit(X_train, y_train, validation_data=(X_test, y_test), epochs=num_epochs, verbose=2)\n",
        "\n",
        "        # Make predictions using the testing set\n",
        "        strength_y_pred = model.predict(X_test)\n",
        "\n",
        "        # The mean squared error\n",
        "        MSE = mean_squared_error(y_test, strength_y_pred)\n",
        "        print(f'--------- MSE {i+1}/{Repetition} = {MSE:.2f}------------------------------------------')\n",
        "        MSE_list.append(MSE)\n",
        "    \n",
        "    return MSE_list\n",
        "\n"
      ],
      "execution_count": null,
      "outputs": []
    },
    {
      "cell_type": "code",
      "metadata": {
        "colab": {
          "base_uri": "https://localhost:8080/"
        },
        "id": "P0Ngy4AQNk6q",
        "outputId": "79e89873-f580-4b53-842d-25d02f3812ad"
      },
      "source": [
        "MSE_list_A = calcul_MSE(model_1h, predictors, 50)"
      ],
      "execution_count": null,
      "outputs": [
        {
          "output_type": "stream",
          "text": [
            "Epoch 1/50\n",
            "23/23 - 1s - loss: 3765.2080 - val_loss: 1791.9834\n",
            "Epoch 2/50\n",
            "23/23 - 0s - loss: 2060.7444 - val_loss: 1471.7826\n",
            "Epoch 3/50\n",
            "23/23 - 0s - loss: 1704.3251 - val_loss: 1261.7324\n",
            "Epoch 4/50\n",
            "23/23 - 0s - loss: 1493.5967 - val_loss: 1105.0790\n",
            "Epoch 5/50\n",
            "23/23 - 0s - loss: 1319.8262 - val_loss: 981.4706\n",
            "Epoch 6/50\n",
            "23/23 - 0s - loss: 1186.8593 - val_loss: 875.0812\n",
            "Epoch 7/50\n",
            "23/23 - 0s - loss: 1063.3320 - val_loss: 786.1782\n",
            "Epoch 8/50\n",
            "23/23 - 0s - loss: 960.1003 - val_loss: 709.8616\n",
            "Epoch 9/50\n",
            "23/23 - 0s - loss: 871.3519 - val_loss: 642.7575\n",
            "Epoch 10/50\n",
            "23/23 - 0s - loss: 791.6106 - val_loss: 589.2446\n",
            "Epoch 11/50\n",
            "23/23 - 0s - loss: 730.2060 - val_loss: 537.4709\n",
            "Epoch 12/50\n",
            "23/23 - 0s - loss: 667.7651 - val_loss: 493.8317\n",
            "Epoch 13/50\n",
            "23/23 - 0s - loss: 613.2069 - val_loss: 458.0571\n",
            "Epoch 14/50\n",
            "23/23 - 0s - loss: 570.3939 - val_loss: 426.1661\n",
            "Epoch 15/50\n",
            "23/23 - 0s - loss: 535.5693 - val_loss: 398.4342\n",
            "Epoch 16/50\n",
            "23/23 - 0s - loss: 497.8800 - val_loss: 373.3720\n",
            "Epoch 17/50\n",
            "23/23 - 0s - loss: 464.9473 - val_loss: 349.8511\n",
            "Epoch 18/50\n",
            "23/23 - 0s - loss: 436.8608 - val_loss: 330.9358\n",
            "Epoch 19/50\n",
            "23/23 - 0s - loss: 417.2986 - val_loss: 314.8031\n",
            "Epoch 20/50\n",
            "23/23 - 0s - loss: 398.1991 - val_loss: 296.8835\n",
            "Epoch 21/50\n",
            "23/23 - 0s - loss: 368.2554 - val_loss: 282.1344\n",
            "Epoch 22/50\n",
            "23/23 - 0s - loss: 353.1992 - val_loss: 272.9508\n",
            "Epoch 23/50\n",
            "23/23 - 0s - loss: 336.7694 - val_loss: 259.2194\n",
            "Epoch 24/50\n",
            "23/23 - 0s - loss: 324.3648 - val_loss: 249.8831\n",
            "Epoch 25/50\n",
            "23/23 - 0s - loss: 311.5740 - val_loss: 241.7926\n",
            "Epoch 26/50\n",
            "23/23 - 0s - loss: 299.7977 - val_loss: 234.8560\n",
            "Epoch 27/50\n",
            "23/23 - 0s - loss: 289.7426 - val_loss: 227.1776\n",
            "Epoch 28/50\n",
            "23/23 - 0s - loss: 281.8111 - val_loss: 221.5993\n",
            "Epoch 29/50\n",
            "23/23 - 0s - loss: 274.4134 - val_loss: 216.8717\n",
            "Epoch 30/50\n",
            "23/23 - 0s - loss: 266.2249 - val_loss: 211.6975\n",
            "Epoch 31/50\n",
            "23/23 - 0s - loss: 259.9206 - val_loss: 207.7484\n",
            "Epoch 32/50\n",
            "23/23 - 0s - loss: 253.9375 - val_loss: 203.2560\n",
            "Epoch 33/50\n",
            "23/23 - 0s - loss: 248.1807 - val_loss: 200.1022\n",
            "Epoch 34/50\n",
            "23/23 - 0s - loss: 245.7931 - val_loss: 199.3380\n",
            "Epoch 35/50\n",
            "23/23 - 0s - loss: 240.3473 - val_loss: 193.1817\n",
            "Epoch 36/50\n",
            "23/23 - 0s - loss: 234.2469 - val_loss: 189.7049\n",
            "Epoch 37/50\n",
            "23/23 - 0s - loss: 229.5876 - val_loss: 187.9493\n",
            "Epoch 38/50\n",
            "23/23 - 0s - loss: 226.5604 - val_loss: 185.1640\n",
            "Epoch 39/50\n",
            "23/23 - 0s - loss: 222.2761 - val_loss: 182.9009\n",
            "Epoch 40/50\n",
            "23/23 - 0s - loss: 219.1833 - val_loss: 181.0391\n",
            "Epoch 41/50\n",
            "23/23 - 0s - loss: 216.7727 - val_loss: 179.3342\n",
            "Epoch 42/50\n",
            "23/23 - 0s - loss: 212.7649 - val_loss: 177.5241\n",
            "Epoch 43/50\n",
            "23/23 - 0s - loss: 210.7528 - val_loss: 175.8428\n",
            "Epoch 44/50\n",
            "23/23 - 0s - loss: 209.0249 - val_loss: 173.5128\n",
            "Epoch 45/50\n",
            "23/23 - 0s - loss: 208.1989 - val_loss: 172.4392\n",
            "Epoch 46/50\n",
            "23/23 - 0s - loss: 205.3311 - val_loss: 175.7570\n",
            "Epoch 47/50\n",
            "23/23 - 0s - loss: 203.5258 - val_loss: 169.3311\n",
            "Epoch 48/50\n",
            "23/23 - 0s - loss: 200.6212 - val_loss: 167.7609\n",
            "Epoch 49/50\n",
            "23/23 - 0s - loss: 197.6720 - val_loss: 167.7997\n",
            "Epoch 50/50\n",
            "23/23 - 0s - loss: 196.1889 - val_loss: 165.7196\n",
            "--------- MSE 1/2 = 165.72------------------------------------------\n",
            "Epoch 1/50\n",
            "23/23 - 0s - loss: 182.3283 - val_loss: 193.2409\n",
            "Epoch 2/50\n",
            "23/23 - 0s - loss: 181.3543 - val_loss: 194.6223\n",
            "Epoch 3/50\n",
            "23/23 - 0s - loss: 180.4075 - val_loss: 192.4118\n",
            "Epoch 4/50\n",
            "23/23 - 0s - loss: 180.0939 - val_loss: 191.0065\n",
            "Epoch 5/50\n",
            "23/23 - 0s - loss: 178.8910 - val_loss: 190.2403\n",
            "Epoch 6/50\n",
            "23/23 - 0s - loss: 180.1140 - val_loss: 189.2205\n",
            "Epoch 7/50\n",
            "23/23 - 0s - loss: 177.8651 - val_loss: 188.2292\n",
            "Epoch 8/50\n",
            "23/23 - 0s - loss: 177.6166 - val_loss: 190.4039\n",
            "Epoch 9/50\n",
            "23/23 - 0s - loss: 174.4847 - val_loss: 194.8358\n",
            "Epoch 10/50\n",
            "23/23 - 0s - loss: 176.9983 - val_loss: 185.9826\n",
            "Epoch 11/50\n",
            "23/23 - 0s - loss: 174.4939 - val_loss: 187.4983\n",
            "Epoch 12/50\n",
            "23/23 - 0s - loss: 178.0328 - val_loss: 188.3158\n",
            "Epoch 13/50\n",
            "23/23 - 0s - loss: 173.5820 - val_loss: 183.4568\n",
            "Epoch 14/50\n",
            "23/23 - 0s - loss: 172.9040 - val_loss: 182.8252\n",
            "Epoch 15/50\n",
            "23/23 - 0s - loss: 172.7207 - val_loss: 184.9216\n",
            "Epoch 16/50\n",
            "23/23 - 0s - loss: 172.3804 - val_loss: 182.1913\n",
            "Epoch 17/50\n",
            "23/23 - 0s - loss: 171.6054 - val_loss: 181.4093\n",
            "Epoch 18/50\n",
            "23/23 - 0s - loss: 172.3166 - val_loss: 179.9686\n",
            "Epoch 19/50\n",
            "23/23 - 0s - loss: 173.9824 - val_loss: 180.2060\n",
            "Epoch 20/50\n",
            "23/23 - 0s - loss: 169.6378 - val_loss: 179.1545\n",
            "Epoch 21/50\n",
            "23/23 - 0s - loss: 169.3000 - val_loss: 178.0983\n",
            "Epoch 22/50\n",
            "23/23 - 0s - loss: 168.8951 - val_loss: 179.6660\n",
            "Epoch 23/50\n",
            "23/23 - 0s - loss: 168.7934 - val_loss: 178.5950\n",
            "Epoch 24/50\n",
            "23/23 - 0s - loss: 168.2281 - val_loss: 176.5521\n",
            "Epoch 25/50\n",
            "23/23 - 0s - loss: 167.4299 - val_loss: 177.1815\n",
            "Epoch 26/50\n",
            "23/23 - 0s - loss: 166.6908 - val_loss: 176.4375\n",
            "Epoch 27/50\n",
            "23/23 - 0s - loss: 171.0894 - val_loss: 180.4506\n",
            "Epoch 28/50\n",
            "23/23 - 0s - loss: 170.9834 - val_loss: 176.6933\n",
            "Epoch 29/50\n",
            "23/23 - 0s - loss: 165.8893 - val_loss: 183.3041\n",
            "Epoch 30/50\n",
            "23/23 - 0s - loss: 169.3047 - val_loss: 175.9066\n",
            "Epoch 31/50\n",
            "23/23 - 0s - loss: 165.9128 - val_loss: 173.0401\n",
            "Epoch 32/50\n",
            "23/23 - 0s - loss: 165.2073 - val_loss: 172.6213\n",
            "Epoch 33/50\n",
            "23/23 - 0s - loss: 165.3588 - val_loss: 174.5321\n",
            "Epoch 34/50\n",
            "23/23 - 0s - loss: 167.4699 - val_loss: 176.2701\n",
            "Epoch 35/50\n",
            "23/23 - 0s - loss: 165.4133 - val_loss: 172.1490\n",
            "Epoch 36/50\n",
            "23/23 - 0s - loss: 164.2757 - val_loss: 171.4267\n",
            "Epoch 37/50\n",
            "23/23 - 0s - loss: 164.9912 - val_loss: 171.5842\n",
            "Epoch 38/50\n",
            "23/23 - 0s - loss: 163.7841 - val_loss: 170.8097\n",
            "Epoch 39/50\n",
            "23/23 - 0s - loss: 163.1107 - val_loss: 169.6955\n",
            "Epoch 40/50\n",
            "23/23 - 0s - loss: 161.6391 - val_loss: 175.6559\n",
            "Epoch 41/50\n",
            "23/23 - 0s - loss: 164.7641 - val_loss: 171.5000\n",
            "Epoch 42/50\n",
            "23/23 - 0s - loss: 166.6456 - val_loss: 168.8139\n",
            "Epoch 43/50\n",
            "23/23 - 0s - loss: 164.6302 - val_loss: 171.7150\n",
            "Epoch 44/50\n",
            "23/23 - 0s - loss: 165.0092 - val_loss: 168.0681\n",
            "Epoch 45/50\n",
            "23/23 - 0s - loss: 163.5830 - val_loss: 167.7463\n",
            "Epoch 46/50\n",
            "23/23 - 0s - loss: 163.3340 - val_loss: 167.1386\n",
            "Epoch 47/50\n",
            "23/23 - 0s - loss: 161.0698 - val_loss: 166.9081\n",
            "Epoch 48/50\n",
            "23/23 - 0s - loss: 161.7116 - val_loss: 168.6694\n",
            "Epoch 49/50\n",
            "23/23 - 0s - loss: 161.9707 - val_loss: 167.3115\n",
            "Epoch 50/50\n",
            "23/23 - 0s - loss: 160.7604 - val_loss: 165.9847\n",
            "--------- MSE 2/2 = 165.98------------------------------------------\n"
          ],
          "name": "stdout"
        }
      ]
    },
    {
      "cell_type": "code",
      "metadata": {
        "id": "IdJibp0ANk96"
      },
      "source": [
        "length_MSE_A = len(MSE_list_A)\n",
        "mean_MSE_A = np.mean(MSE_list_A)\n",
        "sd_MSE_A = np.std(MSE_list_A)"
      ],
      "execution_count": null,
      "outputs": []
    },
    {
      "cell_type": "code",
      "metadata": {
        "colab": {
          "base_uri": "https://localhost:8080/"
        },
        "id": "IK1QIWh6NlA9",
        "outputId": "bdcf4445-e7e1-4016-f8c0-d1ad00df4285"
      },
      "source": [
        "print(f'Number of mean squared errors: {length_MSE_A}')\n",
        "print(f'Mean of the mean squared errors: {mean_MSE_A:.2f}')\n",
        "print(f'Standard deviation of the mean squared errors: {sd_MSE_A:.2f}')"
      ],
      "execution_count": null,
      "outputs": [
        {
          "output_type": "stream",
          "text": [
            "Number of mean squared errors: 2\n",
            "Mean of the mean squared errors: 165.85\n",
            "Standard deviation of the mean squared errors: 0.13\n"
          ],
          "name": "stdout"
        }
      ]
    },
    {
      "cell_type": "code",
      "metadata": {
        "colab": {
          "base_uri": "https://localhost:8080/",
          "height": 272
        },
        "id": "PEhxORZjNlHU",
        "outputId": "bb802df2-b9bf-4ca7-a18d-0f0fb6d5db7b"
      },
      "source": [
        "predictors_norm = (predictors - predictors.mean()) / predictors.std()\n",
        "predictors_norm.head()"
      ],
      "execution_count": null,
      "outputs": [
        {
          "output_type": "execute_result",
          "data": {
            "text/html": [
              "<div>\n",
              "<style scoped>\n",
              "    .dataframe tbody tr th:only-of-type {\n",
              "        vertical-align: middle;\n",
              "    }\n",
              "\n",
              "    .dataframe tbody tr th {\n",
              "        vertical-align: top;\n",
              "    }\n",
              "\n",
              "    .dataframe thead th {\n",
              "        text-align: right;\n",
              "    }\n",
              "</style>\n",
              "<table border=\"1\" class=\"dataframe\">\n",
              "  <thead>\n",
              "    <tr style=\"text-align: right;\">\n",
              "      <th></th>\n",
              "      <th>Cement (component 1)(kg in a m^3 mixture)</th>\n",
              "      <th>Blast Furnace Slag (component 2)(kg in a m^3 mixture)</th>\n",
              "      <th>Fly Ash (component 3)(kg in a m^3 mixture)</th>\n",
              "      <th>Water  (component 4)(kg in a m^3 mixture)</th>\n",
              "      <th>Superplasticizer (component 5)(kg in a m^3 mixture)</th>\n",
              "      <th>Coarse Aggregate  (component 6)(kg in a m^3 mixture)</th>\n",
              "      <th>Fine Aggregate (component 7)(kg in a m^3 mixture)</th>\n",
              "    </tr>\n",
              "  </thead>\n",
              "  <tbody>\n",
              "    <tr>\n",
              "      <th>0</th>\n",
              "      <td>2.476712</td>\n",
              "      <td>-0.856472</td>\n",
              "      <td>-0.846733</td>\n",
              "      <td>-0.916319</td>\n",
              "      <td>-0.620147</td>\n",
              "      <td>0.862735</td>\n",
              "      <td>-1.217079</td>\n",
              "    </tr>\n",
              "    <tr>\n",
              "      <th>1</th>\n",
              "      <td>2.476712</td>\n",
              "      <td>-0.856472</td>\n",
              "      <td>-0.846733</td>\n",
              "      <td>-0.916319</td>\n",
              "      <td>-0.620147</td>\n",
              "      <td>1.055651</td>\n",
              "      <td>-1.217079</td>\n",
              "    </tr>\n",
              "    <tr>\n",
              "      <th>2</th>\n",
              "      <td>0.491187</td>\n",
              "      <td>0.795140</td>\n",
              "      <td>-0.846733</td>\n",
              "      <td>2.174405</td>\n",
              "      <td>-1.038638</td>\n",
              "      <td>-0.526262</td>\n",
              "      <td>-2.239829</td>\n",
              "    </tr>\n",
              "    <tr>\n",
              "      <th>3</th>\n",
              "      <td>0.491187</td>\n",
              "      <td>0.795140</td>\n",
              "      <td>-0.846733</td>\n",
              "      <td>2.174405</td>\n",
              "      <td>-1.038638</td>\n",
              "      <td>-0.526262</td>\n",
              "      <td>-2.239829</td>\n",
              "    </tr>\n",
              "    <tr>\n",
              "      <th>4</th>\n",
              "      <td>-0.790075</td>\n",
              "      <td>0.678079</td>\n",
              "      <td>-0.846733</td>\n",
              "      <td>0.488555</td>\n",
              "      <td>-1.038638</td>\n",
              "      <td>0.070492</td>\n",
              "      <td>0.647569</td>\n",
              "    </tr>\n",
              "  </tbody>\n",
              "</table>\n",
              "</div>"
            ],
            "text/plain": [
              "   Cement (component 1)(kg in a m^3 mixture)  ...  Fine Aggregate (component 7)(kg in a m^3 mixture)\n",
              "0                                   2.476712  ...                                          -1.217079\n",
              "1                                   2.476712  ...                                          -1.217079\n",
              "2                                   0.491187  ...                                          -2.239829\n",
              "3                                   0.491187  ...                                          -2.239829\n",
              "4                                  -0.790075  ...                                           0.647569\n",
              "\n",
              "[5 rows x 7 columns]"
            ]
          },
          "metadata": {
            "tags": []
          },
          "execution_count": 19
        }
      ]
    },
    {
      "cell_type": "code",
      "metadata": {
        "colab": {
          "base_uri": "https://localhost:8080/"
        },
        "id": "8geEndh3S2zW",
        "outputId": "4004e53f-2d2d-4cd1-ff46-e4727bfc490b"
      },
      "source": [
        "# Build the list of mean squared errors\n",
        "MSE_list_B = calcul_MSE(model_1h, predictors_norm, 10)"
      ],
      "execution_count": null,
      "outputs": [
        {
          "output_type": "stream",
          "text": [
            "Epoch 1/10\n",
            "23/23 - 0s - loss: 1554.3157 - val_loss: 1542.5868\n",
            "Epoch 2/10\n",
            "23/23 - 0s - loss: 1505.5050 - val_loss: 1493.8434\n",
            "Epoch 3/10\n",
            "23/23 - 0s - loss: 1454.6593 - val_loss: 1445.4939\n",
            "Epoch 4/10\n",
            "23/23 - 0s - loss: 1404.1366 - val_loss: 1396.4625\n",
            "Epoch 5/10\n",
            "23/23 - 0s - loss: 1353.8105 - val_loss: 1348.4010\n",
            "Epoch 6/10\n",
            "23/23 - 0s - loss: 1306.3099 - val_loss: 1300.3317\n",
            "Epoch 7/10\n",
            "23/23 - 0s - loss: 1258.7742 - val_loss: 1255.2977\n",
            "Epoch 8/10\n",
            "23/23 - 0s - loss: 1214.2860 - val_loss: 1210.8188\n",
            "Epoch 9/10\n",
            "23/23 - 0s - loss: 1172.0918 - val_loss: 1168.3999\n",
            "Epoch 10/10\n",
            "23/23 - 0s - loss: 1131.1562 - val_loss: 1128.3770\n",
            "--------- MSE 1/2 = 1128.38------------------------------------------\n",
            "Epoch 1/10\n",
            "23/23 - 0s - loss: 1085.1299 - val_loss: 1107.5956\n",
            "Epoch 2/10\n",
            "23/23 - 0s - loss: 1049.0149 - val_loss: 1069.9580\n",
            "Epoch 3/10\n",
            "23/23 - 0s - loss: 1013.8136 - val_loss: 1034.4944\n",
            "Epoch 4/10\n",
            "23/23 - 0s - loss: 980.9522 - val_loss: 999.9280\n",
            "Epoch 5/10\n",
            "23/23 - 0s - loss: 949.0844 - val_loss: 968.4940\n",
            "Epoch 6/10\n",
            "23/23 - 0s - loss: 919.9091 - val_loss: 937.8712\n",
            "Epoch 7/10\n",
            "23/23 - 0s - loss: 891.7156 - val_loss: 909.0768\n",
            "Epoch 8/10\n",
            "23/23 - 0s - loss: 864.7297 - val_loss: 882.2010\n",
            "Epoch 9/10\n",
            "23/23 - 0s - loss: 839.5213 - val_loss: 855.9241\n",
            "Epoch 10/10\n",
            "23/23 - 0s - loss: 815.5586 - val_loss: 831.4474\n",
            "--------- MSE 2/2 = 831.45------------------------------------------\n"
          ],
          "name": "stdout"
        }
      ]
    },
    {
      "cell_type": "code",
      "metadata": {
        "id": "IG6qfLPZS23A"
      },
      "source": [
        "# Calculate the length, the mean and the standard deviation\n",
        "length_MSE_B = len(MSE_list_B)\n",
        "mean_MSE_B = np.mean(MSE_list_B)\n",
        "sd_MSE_B = np.std(MSE_list_B)"
      ],
      "execution_count": null,
      "outputs": []
    },
    {
      "cell_type": "code",
      "metadata": {
        "id": "FL-YCKoGS26g",
        "colab": {
          "base_uri": "https://localhost:8080/"
        },
        "outputId": "ed7b8734-eeda-4175-8e23-a4777ef4d6ef"
      },
      "source": [
        "# Print the values\n",
        "print(f'Number of mean squared errors: {length_MSE_B}')\n",
        "print(f'Mean of the mean squared errors: {mean_MSE_B:.2f}')\n",
        "print(f'Standard deviation of the mean squared errors: {sd_MSE_B:.2f}')"
      ],
      "execution_count": null,
      "outputs": [
        {
          "output_type": "stream",
          "text": [
            "Number of mean squared errors: 2\n",
            "Mean of the mean squared errors: 979.91\n",
            "Standard deviation of the mean squared errors: 148.46\n"
          ],
          "name": "stdout"
        }
      ]
    },
    {
      "cell_type": "code",
      "metadata": {
        "colab": {
          "base_uri": "https://localhost:8080/",
          "height": 105
        },
        "id": "rY_6tTqFq_ib",
        "outputId": "c21d6cfe-9f51-4619-9121-83526b002361"
      },
      "source": [
        "# DataFrame\n",
        "data = {'A':[mean_MSE_A , sd_MSE_A], 'B':[mean_MSE_B , sd_MSE_B]} \n",
        "  \n",
        "# Creates pandas DataFrame. \n",
        "df = pd.DataFrame(data, index =['Mean', 'StD'])\n",
        "  \n",
        "# print the data \n",
        "df.round(2)"
      ],
      "execution_count": null,
      "outputs": [
        {
          "output_type": "execute_result",
          "data": {
            "text/html": [
              "<div>\n",
              "<style scoped>\n",
              "    .dataframe tbody tr th:only-of-type {\n",
              "        vertical-align: middle;\n",
              "    }\n",
              "\n",
              "    .dataframe tbody tr th {\n",
              "        vertical-align: top;\n",
              "    }\n",
              "\n",
              "    .dataframe thead th {\n",
              "        text-align: right;\n",
              "    }\n",
              "</style>\n",
              "<table border=\"1\" class=\"dataframe\">\n",
              "  <thead>\n",
              "    <tr style=\"text-align: right;\">\n",
              "      <th></th>\n",
              "      <th>A</th>\n",
              "      <th>B</th>\n",
              "    </tr>\n",
              "  </thead>\n",
              "  <tbody>\n",
              "    <tr>\n",
              "      <th>Mean</th>\n",
              "      <td>165.85</td>\n",
              "      <td>979.91</td>\n",
              "    </tr>\n",
              "    <tr>\n",
              "      <th>StD</th>\n",
              "      <td>0.13</td>\n",
              "      <td>148.46</td>\n",
              "    </tr>\n",
              "  </tbody>\n",
              "</table>\n",
              "</div>"
            ],
            "text/plain": [
              "           A       B\n",
              "Mean  165.85  979.91\n",
              "StD     0.13  148.46"
            ]
          },
          "metadata": {
            "tags": []
          },
          "execution_count": 23
        }
      ]
    },
    {
      "cell_type": "code",
      "metadata": {
        "colab": {
          "base_uri": "https://localhost:8080/"
        },
        "id": "ZWtXOtoZq_ma",
        "outputId": "7a999ac2-59dc-4def-fdf2-1be0216d3511"
      },
      "source": [
        "MSE_list_C = calcul_MSE(model_1h, predictors_norm, 100)"
      ],
      "execution_count": null,
      "outputs": [
        {
          "output_type": "stream",
          "text": [
            "Epoch 1/100\n",
            "23/23 - 0s - loss: 786.8039 - val_loss: 821.9736\n",
            "Epoch 2/100\n",
            "23/23 - 0s - loss: 764.1876 - val_loss: 799.9240\n",
            "Epoch 3/100\n",
            "23/23 - 0s - loss: 742.2599 - val_loss: 778.5601\n",
            "Epoch 4/100\n",
            "23/23 - 0s - loss: 721.1254 - val_loss: 757.4805\n",
            "Epoch 5/100\n",
            "23/23 - 0s - loss: 700.1187 - val_loss: 736.8710\n",
            "Epoch 6/100\n",
            "23/23 - 0s - loss: 679.2717 - val_loss: 716.7485\n",
            "Epoch 7/100\n",
            "23/23 - 0s - loss: 658.5798 - val_loss: 696.0339\n",
            "Epoch 8/100\n",
            "23/23 - 0s - loss: 637.5393 - val_loss: 675.5025\n",
            "Epoch 9/100\n",
            "23/23 - 0s - loss: 616.5331 - val_loss: 654.3770\n",
            "Epoch 10/100\n",
            "23/23 - 0s - loss: 594.7938 - val_loss: 633.4060\n",
            "Epoch 11/100\n",
            "23/23 - 0s - loss: 573.6080 - val_loss: 612.5019\n",
            "Epoch 12/100\n",
            "23/23 - 0s - loss: 552.5127 - val_loss: 591.8978\n",
            "Epoch 13/100\n",
            "23/23 - 0s - loss: 531.8235 - val_loss: 571.9180\n",
            "Epoch 14/100\n",
            "23/23 - 0s - loss: 511.4140 - val_loss: 552.7475\n",
            "Epoch 15/100\n",
            "23/23 - 0s - loss: 491.8098 - val_loss: 533.4021\n",
            "Epoch 16/100\n",
            "23/23 - 0s - loss: 472.4518 - val_loss: 514.3671\n",
            "Epoch 17/100\n",
            "23/23 - 0s - loss: 453.6356 - val_loss: 496.5481\n",
            "Epoch 18/100\n",
            "23/23 - 0s - loss: 436.4170 - val_loss: 478.7166\n",
            "Epoch 19/100\n",
            "23/23 - 0s - loss: 418.9456 - val_loss: 461.7451\n",
            "Epoch 20/100\n",
            "23/23 - 0s - loss: 402.4833 - val_loss: 445.9847\n",
            "Epoch 21/100\n",
            "23/23 - 0s - loss: 386.7006 - val_loss: 431.1348\n",
            "Epoch 22/100\n",
            "23/23 - 0s - loss: 372.1611 - val_loss: 415.8979\n",
            "Epoch 23/100\n",
            "23/23 - 0s - loss: 357.6367 - val_loss: 402.1350\n",
            "Epoch 24/100\n",
            "23/23 - 0s - loss: 344.2293 - val_loss: 388.4153\n",
            "Epoch 25/100\n",
            "23/23 - 0s - loss: 331.3554 - val_loss: 375.5809\n",
            "Epoch 26/100\n",
            "23/23 - 0s - loss: 319.0844 - val_loss: 363.6351\n",
            "Epoch 27/100\n",
            "23/23 - 0s - loss: 308.0943 - val_loss: 351.8023\n",
            "Epoch 28/100\n",
            "23/23 - 0s - loss: 297.2982 - val_loss: 340.8881\n",
            "Epoch 29/100\n",
            "23/23 - 0s - loss: 287.6120 - val_loss: 330.0282\n",
            "Epoch 30/100\n",
            "23/23 - 0s - loss: 277.9790 - val_loss: 320.4683\n",
            "Epoch 31/100\n",
            "23/23 - 0s - loss: 269.3871 - val_loss: 311.4247\n",
            "Epoch 32/100\n",
            "23/23 - 0s - loss: 261.5558 - val_loss: 303.3090\n",
            "Epoch 33/100\n",
            "23/23 - 0s - loss: 254.5153 - val_loss: 295.8090\n",
            "Epoch 34/100\n",
            "23/23 - 0s - loss: 248.1093 - val_loss: 289.1398\n",
            "Epoch 35/100\n",
            "23/23 - 0s - loss: 242.5729 - val_loss: 282.7302\n",
            "Epoch 36/100\n",
            "23/23 - 0s - loss: 237.1083 - val_loss: 277.1479\n",
            "Epoch 37/100\n",
            "23/23 - 0s - loss: 232.1813 - val_loss: 271.9298\n",
            "Epoch 38/100\n",
            "23/23 - 0s - loss: 227.8065 - val_loss: 267.2721\n",
            "Epoch 39/100\n",
            "23/23 - 0s - loss: 223.8591 - val_loss: 263.3434\n",
            "Epoch 40/100\n",
            "23/23 - 0s - loss: 220.4506 - val_loss: 259.4004\n",
            "Epoch 41/100\n",
            "23/23 - 0s - loss: 217.2653 - val_loss: 256.0390\n",
            "Epoch 42/100\n",
            "23/23 - 0s - loss: 214.5275 - val_loss: 252.8583\n",
            "Epoch 43/100\n",
            "23/23 - 0s - loss: 212.0082 - val_loss: 250.0501\n",
            "Epoch 44/100\n",
            "23/23 - 0s - loss: 209.8311 - val_loss: 247.4967\n",
            "Epoch 45/100\n",
            "23/23 - 0s - loss: 207.7028 - val_loss: 245.2517\n",
            "Epoch 46/100\n",
            "23/23 - 0s - loss: 205.8476 - val_loss: 243.1003\n",
            "Epoch 47/100\n",
            "23/23 - 0s - loss: 204.1760 - val_loss: 241.1828\n",
            "Epoch 48/100\n",
            "23/23 - 0s - loss: 202.6387 - val_loss: 239.3073\n",
            "Epoch 49/100\n",
            "23/23 - 0s - loss: 201.1955 - val_loss: 237.6735\n",
            "Epoch 50/100\n",
            "23/23 - 0s - loss: 200.0536 - val_loss: 236.0597\n",
            "Epoch 51/100\n",
            "23/23 - 0s - loss: 198.8311 - val_loss: 234.8009\n",
            "Epoch 52/100\n",
            "23/23 - 0s - loss: 197.7898 - val_loss: 233.6286\n",
            "Epoch 53/100\n",
            "23/23 - 0s - loss: 196.8688 - val_loss: 232.4999\n",
            "Epoch 54/100\n",
            "23/23 - 0s - loss: 195.9309 - val_loss: 231.5108\n",
            "Epoch 55/100\n",
            "23/23 - 0s - loss: 195.1275 - val_loss: 230.4379\n",
            "Epoch 56/100\n",
            "23/23 - 0s - loss: 194.3294 - val_loss: 229.4259\n",
            "Epoch 57/100\n",
            "23/23 - 0s - loss: 193.5760 - val_loss: 228.3882\n",
            "Epoch 58/100\n",
            "23/23 - 0s - loss: 192.8205 - val_loss: 227.6457\n",
            "Epoch 59/100\n",
            "23/23 - 0s - loss: 192.1861 - val_loss: 226.8549\n",
            "Epoch 60/100\n",
            "23/23 - 0s - loss: 191.5588 - val_loss: 226.1163\n",
            "Epoch 61/100\n",
            "23/23 - 0s - loss: 191.0073 - val_loss: 225.3645\n",
            "Epoch 62/100\n",
            "23/23 - 0s - loss: 190.4583 - val_loss: 224.8099\n",
            "Epoch 63/100\n",
            "23/23 - 0s - loss: 189.9266 - val_loss: 224.2204\n",
            "Epoch 64/100\n",
            "23/23 - 0s - loss: 189.4346 - val_loss: 223.5543\n",
            "Epoch 65/100\n",
            "23/23 - 0s - loss: 188.9388 - val_loss: 222.9517\n",
            "Epoch 66/100\n",
            "23/23 - 0s - loss: 188.4951 - val_loss: 222.3851\n",
            "Epoch 67/100\n",
            "23/23 - 0s - loss: 188.0462 - val_loss: 221.7568\n",
            "Epoch 68/100\n",
            "23/23 - 0s - loss: 187.6230 - val_loss: 221.2446\n",
            "Epoch 69/100\n",
            "23/23 - 0s - loss: 187.1878 - val_loss: 220.7826\n",
            "Epoch 70/100\n",
            "23/23 - 0s - loss: 186.7459 - val_loss: 220.3433\n",
            "Epoch 71/100\n",
            "23/23 - 0s - loss: 186.3678 - val_loss: 219.9012\n",
            "Epoch 72/100\n",
            "23/23 - 0s - loss: 185.9585 - val_loss: 219.4546\n",
            "Epoch 73/100\n",
            "23/23 - 0s - loss: 185.6122 - val_loss: 219.0002\n",
            "Epoch 74/100\n",
            "23/23 - 0s - loss: 185.1694 - val_loss: 218.5955\n",
            "Epoch 75/100\n",
            "23/23 - 0s - loss: 184.8219 - val_loss: 218.2623\n",
            "Epoch 76/100\n",
            "23/23 - 0s - loss: 184.4897 - val_loss: 217.8160\n",
            "Epoch 77/100\n",
            "23/23 - 0s - loss: 184.1047 - val_loss: 217.4331\n",
            "Epoch 78/100\n",
            "23/23 - 0s - loss: 183.7522 - val_loss: 216.9661\n",
            "Epoch 79/100\n",
            "23/23 - 0s - loss: 183.4246 - val_loss: 216.5629\n",
            "Epoch 80/100\n",
            "23/23 - 0s - loss: 183.0758 - val_loss: 216.2030\n",
            "Epoch 81/100\n",
            "23/23 - 0s - loss: 182.7201 - val_loss: 215.7749\n",
            "Epoch 82/100\n",
            "23/23 - 0s - loss: 182.4113 - val_loss: 215.4938\n",
            "Epoch 83/100\n",
            "23/23 - 0s - loss: 182.1186 - val_loss: 215.1660\n",
            "Epoch 84/100\n",
            "23/23 - 0s - loss: 181.7777 - val_loss: 214.5986\n",
            "Epoch 85/100\n",
            "23/23 - 0s - loss: 181.4552 - val_loss: 214.1850\n",
            "Epoch 86/100\n",
            "23/23 - 0s - loss: 181.1508 - val_loss: 213.8452\n",
            "Epoch 87/100\n",
            "23/23 - 0s - loss: 180.8284 - val_loss: 213.5058\n",
            "Epoch 88/100\n",
            "23/23 - 0s - loss: 180.5986 - val_loss: 213.1017\n",
            "Epoch 89/100\n",
            "23/23 - 0s - loss: 180.2894 - val_loss: 212.6563\n",
            "Epoch 90/100\n",
            "23/23 - 0s - loss: 179.9702 - val_loss: 212.2384\n",
            "Epoch 91/100\n",
            "23/23 - 0s - loss: 179.6774 - val_loss: 211.9258\n",
            "Epoch 92/100\n",
            "23/23 - 0s - loss: 179.4234 - val_loss: 211.6575\n",
            "Epoch 93/100\n",
            "23/23 - 0s - loss: 179.1279 - val_loss: 211.1276\n",
            "Epoch 94/100\n",
            "23/23 - 0s - loss: 178.8271 - val_loss: 210.7954\n",
            "Epoch 95/100\n",
            "23/23 - 0s - loss: 178.5789 - val_loss: 210.5159\n",
            "Epoch 96/100\n",
            "23/23 - 0s - loss: 178.2762 - val_loss: 210.2483\n",
            "Epoch 97/100\n",
            "23/23 - 0s - loss: 177.9753 - val_loss: 209.8138\n",
            "Epoch 98/100\n",
            "23/23 - 0s - loss: 177.7045 - val_loss: 209.4859\n",
            "Epoch 99/100\n",
            "23/23 - 0s - loss: 177.4264 - val_loss: 209.1695\n",
            "Epoch 100/100\n",
            "23/23 - 0s - loss: 177.1823 - val_loss: 208.8846\n",
            "--------- MSE 1/2 = 208.88------------------------------------------\n",
            "Epoch 1/100\n",
            "23/23 - 0s - loss: 181.0193 - val_loss: 198.7918\n",
            "Epoch 2/100\n",
            "23/23 - 0s - loss: 180.6313 - val_loss: 198.5252\n",
            "Epoch 3/100\n",
            "23/23 - 0s - loss: 180.3127 - val_loss: 198.1889\n",
            "Epoch 4/100\n",
            "23/23 - 0s - loss: 179.9704 - val_loss: 197.8657\n",
            "Epoch 5/100\n",
            "23/23 - 0s - loss: 179.7181 - val_loss: 197.5093\n",
            "Epoch 6/100\n",
            "23/23 - 0s - loss: 179.3825 - val_loss: 197.1400\n",
            "Epoch 7/100\n",
            "23/23 - 0s - loss: 179.0427 - val_loss: 196.9463\n",
            "Epoch 8/100\n",
            "23/23 - 0s - loss: 178.7145 - val_loss: 196.6303\n",
            "Epoch 9/100\n",
            "23/23 - 0s - loss: 178.4803 - val_loss: 196.3543\n",
            "Epoch 10/100\n",
            "23/23 - 0s - loss: 178.1710 - val_loss: 196.0605\n",
            "Epoch 11/100\n",
            "23/23 - 0s - loss: 177.9511 - val_loss: 195.7286\n",
            "Epoch 12/100\n",
            "23/23 - 0s - loss: 177.6482 - val_loss: 195.4459\n",
            "Epoch 13/100\n",
            "23/23 - 0s - loss: 177.4319 - val_loss: 195.1346\n",
            "Epoch 14/100\n",
            "23/23 - 0s - loss: 177.2015 - val_loss: 194.8975\n",
            "Epoch 15/100\n",
            "23/23 - 0s - loss: 176.9159 - val_loss: 194.6059\n",
            "Epoch 16/100\n",
            "23/23 - 0s - loss: 176.6369 - val_loss: 194.2977\n",
            "Epoch 17/100\n",
            "23/23 - 0s - loss: 176.4568 - val_loss: 194.0142\n",
            "Epoch 18/100\n",
            "23/23 - 0s - loss: 176.2050 - val_loss: 193.7655\n",
            "Epoch 19/100\n",
            "23/23 - 0s - loss: 175.9756 - val_loss: 193.4095\n",
            "Epoch 20/100\n",
            "23/23 - 0s - loss: 175.7115 - val_loss: 193.0991\n",
            "Epoch 21/100\n",
            "23/23 - 0s - loss: 175.4608 - val_loss: 192.8405\n",
            "Epoch 22/100\n",
            "23/23 - 0s - loss: 175.3154 - val_loss: 192.5361\n",
            "Epoch 23/100\n",
            "23/23 - 0s - loss: 175.0189 - val_loss: 192.2689\n",
            "Epoch 24/100\n",
            "23/23 - 0s - loss: 174.7763 - val_loss: 191.9694\n",
            "Epoch 25/100\n",
            "23/23 - 0s - loss: 174.5387 - val_loss: 191.6484\n",
            "Epoch 26/100\n",
            "23/23 - 0s - loss: 174.3178 - val_loss: 191.3842\n",
            "Epoch 27/100\n",
            "23/23 - 0s - loss: 174.0279 - val_loss: 191.1048\n",
            "Epoch 28/100\n",
            "23/23 - 0s - loss: 173.7957 - val_loss: 190.7862\n",
            "Epoch 29/100\n",
            "23/23 - 0s - loss: 173.5596 - val_loss: 190.5012\n",
            "Epoch 30/100\n",
            "23/23 - 0s - loss: 173.2894 - val_loss: 190.1544\n",
            "Epoch 31/100\n",
            "23/23 - 0s - loss: 173.0186 - val_loss: 189.8021\n",
            "Epoch 32/100\n",
            "23/23 - 0s - loss: 172.8401 - val_loss: 189.4689\n",
            "Epoch 33/100\n",
            "23/23 - 0s - loss: 172.5509 - val_loss: 189.2262\n",
            "Epoch 34/100\n",
            "23/23 - 0s - loss: 172.2805 - val_loss: 188.9342\n",
            "Epoch 35/100\n",
            "23/23 - 0s - loss: 172.0427 - val_loss: 188.6661\n",
            "Epoch 36/100\n",
            "23/23 - 0s - loss: 171.8198 - val_loss: 188.3823\n",
            "Epoch 37/100\n",
            "23/23 - 0s - loss: 171.5686 - val_loss: 188.0745\n",
            "Epoch 38/100\n",
            "23/23 - 0s - loss: 171.3386 - val_loss: 187.8379\n",
            "Epoch 39/100\n",
            "23/23 - 0s - loss: 171.1495 - val_loss: 187.4986\n",
            "Epoch 40/100\n",
            "23/23 - 0s - loss: 170.9604 - val_loss: 187.2810\n",
            "Epoch 41/100\n",
            "23/23 - 0s - loss: 170.6991 - val_loss: 186.9815\n",
            "Epoch 42/100\n",
            "23/23 - 0s - loss: 170.4743 - val_loss: 186.6404\n",
            "Epoch 43/100\n",
            "23/23 - 0s - loss: 170.1864 - val_loss: 186.3472\n",
            "Epoch 44/100\n",
            "23/23 - 0s - loss: 169.9562 - val_loss: 186.1085\n",
            "Epoch 45/100\n",
            "23/23 - 0s - loss: 169.7880 - val_loss: 185.8008\n",
            "Epoch 46/100\n",
            "23/23 - 0s - loss: 169.5196 - val_loss: 185.4983\n",
            "Epoch 47/100\n",
            "23/23 - 0s - loss: 169.3424 - val_loss: 185.2747\n",
            "Epoch 48/100\n",
            "23/23 - 0s - loss: 169.1196 - val_loss: 184.9216\n",
            "Epoch 49/100\n",
            "23/23 - 0s - loss: 168.8883 - val_loss: 184.6173\n",
            "Epoch 50/100\n",
            "23/23 - 0s - loss: 168.7110 - val_loss: 184.3940\n",
            "Epoch 51/100\n",
            "23/23 - 0s - loss: 168.4696 - val_loss: 184.1065\n",
            "Epoch 52/100\n",
            "23/23 - 0s - loss: 168.2736 - val_loss: 183.8084\n",
            "Epoch 53/100\n",
            "23/23 - 0s - loss: 168.0704 - val_loss: 183.5157\n",
            "Epoch 54/100\n",
            "23/23 - 0s - loss: 167.8043 - val_loss: 183.2630\n",
            "Epoch 55/100\n",
            "23/23 - 0s - loss: 167.6037 - val_loss: 182.9405\n",
            "Epoch 56/100\n",
            "23/23 - 0s - loss: 167.4505 - val_loss: 182.7244\n",
            "Epoch 57/100\n",
            "23/23 - 0s - loss: 167.2096 - val_loss: 182.4587\n",
            "Epoch 58/100\n",
            "23/23 - 0s - loss: 167.0549 - val_loss: 182.1658\n",
            "Epoch 59/100\n",
            "23/23 - 0s - loss: 166.8308 - val_loss: 181.9159\n",
            "Epoch 60/100\n",
            "23/23 - 0s - loss: 166.6251 - val_loss: 181.7125\n",
            "Epoch 61/100\n",
            "23/23 - 0s - loss: 166.4635 - val_loss: 181.4987\n",
            "Epoch 62/100\n",
            "23/23 - 0s - loss: 166.3047 - val_loss: 181.1647\n",
            "Epoch 63/100\n",
            "23/23 - 0s - loss: 166.0525 - val_loss: 180.9435\n",
            "Epoch 64/100\n",
            "23/23 - 0s - loss: 165.8459 - val_loss: 180.6545\n",
            "Epoch 65/100\n",
            "23/23 - 0s - loss: 165.6869 - val_loss: 180.3849\n",
            "Epoch 66/100\n",
            "23/23 - 0s - loss: 165.5078 - val_loss: 180.1584\n",
            "Epoch 67/100\n",
            "23/23 - 0s - loss: 165.3552 - val_loss: 179.9195\n",
            "Epoch 68/100\n",
            "23/23 - 0s - loss: 165.2018 - val_loss: 179.6817\n",
            "Epoch 69/100\n",
            "23/23 - 0s - loss: 164.9421 - val_loss: 179.4272\n",
            "Epoch 70/100\n",
            "23/23 - 0s - loss: 164.7773 - val_loss: 179.1278\n",
            "Epoch 71/100\n",
            "23/23 - 0s - loss: 164.5899 - val_loss: 178.9514\n",
            "Epoch 72/100\n",
            "23/23 - 0s - loss: 164.3969 - val_loss: 178.6584\n",
            "Epoch 73/100\n",
            "23/23 - 0s - loss: 164.2387 - val_loss: 178.4196\n",
            "Epoch 74/100\n",
            "23/23 - 0s - loss: 164.0064 - val_loss: 178.1211\n",
            "Epoch 75/100\n",
            "23/23 - 0s - loss: 163.7989 - val_loss: 177.9431\n",
            "Epoch 76/100\n",
            "23/23 - 0s - loss: 163.6462 - val_loss: 177.7170\n",
            "Epoch 77/100\n",
            "23/23 - 0s - loss: 163.4343 - val_loss: 177.4396\n",
            "Epoch 78/100\n",
            "23/23 - 0s - loss: 163.2603 - val_loss: 177.1947\n",
            "Epoch 79/100\n",
            "23/23 - 0s - loss: 163.0605 - val_loss: 176.9639\n",
            "Epoch 80/100\n",
            "23/23 - 0s - loss: 162.8912 - val_loss: 176.7001\n",
            "Epoch 81/100\n",
            "23/23 - 0s - loss: 162.6710 - val_loss: 176.4313\n",
            "Epoch 82/100\n",
            "23/23 - 0s - loss: 162.5244 - val_loss: 176.2025\n",
            "Epoch 83/100\n",
            "23/23 - 0s - loss: 162.3441 - val_loss: 175.9851\n",
            "Epoch 84/100\n",
            "23/23 - 0s - loss: 162.1171 - val_loss: 175.7169\n",
            "Epoch 85/100\n",
            "23/23 - 0s - loss: 161.9202 - val_loss: 175.4608\n",
            "Epoch 86/100\n",
            "23/23 - 0s - loss: 161.7782 - val_loss: 175.2314\n",
            "Epoch 87/100\n",
            "23/23 - 0s - loss: 161.5405 - val_loss: 175.0290\n",
            "Epoch 88/100\n",
            "23/23 - 0s - loss: 161.3640 - val_loss: 174.7571\n",
            "Epoch 89/100\n",
            "23/23 - 0s - loss: 161.1868 - val_loss: 174.5358\n",
            "Epoch 90/100\n",
            "23/23 - 0s - loss: 161.0566 - val_loss: 174.2274\n",
            "Epoch 91/100\n",
            "23/23 - 0s - loss: 160.8560 - val_loss: 174.0348\n",
            "Epoch 92/100\n",
            "23/23 - 0s - loss: 160.6482 - val_loss: 173.7786\n",
            "Epoch 93/100\n",
            "23/23 - 0s - loss: 160.4998 - val_loss: 173.5347\n",
            "Epoch 94/100\n",
            "23/23 - 0s - loss: 160.2397 - val_loss: 173.3012\n",
            "Epoch 95/100\n",
            "23/23 - 0s - loss: 160.1116 - val_loss: 173.0912\n",
            "Epoch 96/100\n",
            "23/23 - 0s - loss: 159.9675 - val_loss: 172.8088\n",
            "Epoch 97/100\n",
            "23/23 - 0s - loss: 159.7665 - val_loss: 172.6087\n",
            "Epoch 98/100\n",
            "23/23 - 0s - loss: 159.5903 - val_loss: 172.3264\n",
            "Epoch 99/100\n",
            "23/23 - 0s - loss: 159.4227 - val_loss: 172.1828\n",
            "Epoch 100/100\n",
            "23/23 - 0s - loss: 159.1771 - val_loss: 171.8981\n",
            "--------- MSE 2/2 = 171.90------------------------------------------\n"
          ],
          "name": "stdout"
        }
      ]
    },
    {
      "cell_type": "code",
      "metadata": {
        "id": "gZzMMaG3q_qK"
      },
      "source": [
        "# Calculate the length, the mean and the standard deviation\n",
        "length_MSE_C = len(MSE_list_C)\n",
        "mean_MSE_C = np.mean(MSE_list_C)\n",
        "sd_MSE_C = np.std(MSE_list_C)"
      ],
      "execution_count": null,
      "outputs": []
    },
    {
      "cell_type": "code",
      "metadata": {
        "colab": {
          "base_uri": "https://localhost:8080/"
        },
        "id": "QOUjEPHXq_uC",
        "outputId": "86f8c6d7-1755-429e-b067-880584eddc09"
      },
      "source": [
        "# Print the values\n",
        "print(f'Number of mean squared errors: {length_MSE_C}')\n",
        "print(f'Mean of the mean squared errors: {mean_MSE_C:.2f}')\n",
        "print(f'Standard deviation of the mean squared errors: {sd_MSE_C:.2f}')"
      ],
      "execution_count": null,
      "outputs": [
        {
          "output_type": "stream",
          "text": [
            "Number of mean squared errors: 2\n",
            "Mean of the mean squared errors: 190.39\n",
            "Standard deviation of the mean squared errors: 18.49\n"
          ],
          "name": "stdout"
        }
      ]
    },
    {
      "cell_type": "code",
      "metadata": {
        "colab": {
          "base_uri": "https://localhost:8080/",
          "height": 105
        },
        "id": "2Cmn9mYXq_xW",
        "outputId": "fa70b98e-9e46-46c8-a5b0-3fbb43107383"
      },
      "source": [
        "# initialise data of lists. \n",
        "data = {'A':[mean_MSE_A , sd_MSE_A], 'B':[mean_MSE_B , sd_MSE_B],\n",
        "        'C':[mean_MSE_C , sd_MSE_C]} \n",
        "  \n",
        "# Creates pandas DataFrame. \n",
        "df = pd.DataFrame(data, index =['Mean', 'StD'])\n",
        "\n",
        "# print the data \n",
        "df.round(2)"
      ],
      "execution_count": null,
      "outputs": [
        {
          "output_type": "execute_result",
          "data": {
            "text/html": [
              "<div>\n",
              "<style scoped>\n",
              "    .dataframe tbody tr th:only-of-type {\n",
              "        vertical-align: middle;\n",
              "    }\n",
              "\n",
              "    .dataframe tbody tr th {\n",
              "        vertical-align: top;\n",
              "    }\n",
              "\n",
              "    .dataframe thead th {\n",
              "        text-align: right;\n",
              "    }\n",
              "</style>\n",
              "<table border=\"1\" class=\"dataframe\">\n",
              "  <thead>\n",
              "    <tr style=\"text-align: right;\">\n",
              "      <th></th>\n",
              "      <th>A</th>\n",
              "      <th>B</th>\n",
              "      <th>C</th>\n",
              "    </tr>\n",
              "  </thead>\n",
              "  <tbody>\n",
              "    <tr>\n",
              "      <th>Mean</th>\n",
              "      <td>165.85</td>\n",
              "      <td>979.91</td>\n",
              "      <td>190.39</td>\n",
              "    </tr>\n",
              "    <tr>\n",
              "      <th>StD</th>\n",
              "      <td>0.13</td>\n",
              "      <td>148.46</td>\n",
              "      <td>18.49</td>\n",
              "    </tr>\n",
              "  </tbody>\n",
              "</table>\n",
              "</div>"
            ],
            "text/plain": [
              "           A       B       C\n",
              "Mean  165.85  979.91  190.39\n",
              "StD     0.13  148.46   18.49"
            ]
          },
          "metadata": {
            "tags": []
          },
          "execution_count": 28
        }
      ]
    },
    {
      "cell_type": "code",
      "metadata": {
        "id": "OfFyYcPpq_1V"
      },
      "source": [
        "# define regression model with 3 hidden layers, each of 10 nodes and ReLU activation function.\n",
        "def regression_model_3hl():\n",
        "    # create model\n",
        "    model = Sequential()\n",
        "    model.add(Dense(10, activation='relu', input_shape=(n_cols,)))\n",
        "    model.add(Dense(10, activation='relu'))\n",
        "    model.add(Dense(10, activation='relu'))\n",
        "    model.add(Dense(1))\n",
        "    \n",
        "    # compile model\n",
        "    model.compile(optimizer='adam', loss='mean_squared_error')\n",
        "    return model"
      ],
      "execution_count": null,
      "outputs": []
    },
    {
      "cell_type": "code",
      "metadata": {
        "id": "RIS3gAg2q_48"
      },
      "source": [
        "model_3hl = regression_model_3hl()\n"
      ],
      "execution_count": null,
      "outputs": []
    },
    {
      "cell_type": "code",
      "metadata": {
        "colab": {
          "base_uri": "https://localhost:8080/"
        },
        "id": "TnsTXkV7q_8y",
        "outputId": "85a97428-1f7d-48f1-8252-73cdafd0e056"
      },
      "source": [
        "MSE_list_D = calcul_MSE(model_3hl, predictors_norm, 50)"
      ],
      "execution_count": null,
      "outputs": [
        {
          "output_type": "stream",
          "text": [
            "Epoch 1/50\n",
            "23/23 - 1s - loss: 1545.3474 - val_loss: 1591.3829\n",
            "Epoch 2/50\n",
            "23/23 - 0s - loss: 1529.9513 - val_loss: 1575.6769\n",
            "Epoch 3/50\n",
            "23/23 - 0s - loss: 1510.2227 - val_loss: 1552.2877\n",
            "Epoch 4/50\n",
            "23/23 - 0s - loss: 1480.9938 - val_loss: 1518.0237\n",
            "Epoch 5/50\n",
            "23/23 - 0s - loss: 1437.9385 - val_loss: 1467.0275\n",
            "Epoch 6/50\n",
            "23/23 - 0s - loss: 1373.6946 - val_loss: 1391.4248\n",
            "Epoch 7/50\n",
            "23/23 - 0s - loss: 1278.6715 - val_loss: 1278.7527\n",
            "Epoch 8/50\n",
            "23/23 - 0s - loss: 1143.0792 - val_loss: 1123.2526\n",
            "Epoch 9/50\n",
            "23/23 - 0s - loss: 962.7696 - val_loss: 927.0833\n",
            "Epoch 10/50\n",
            "23/23 - 0s - loss: 751.3447 - val_loss: 707.7197\n",
            "Epoch 11/50\n",
            "23/23 - 0s - loss: 545.7111 - val_loss: 514.2772\n",
            "Epoch 12/50\n",
            "23/23 - 0s - loss: 389.7537 - val_loss: 372.2941\n",
            "Epoch 13/50\n",
            "23/23 - 0s - loss: 291.6663 - val_loss: 288.9993\n",
            "Epoch 14/50\n",
            "23/23 - 0s - loss: 238.0060 - val_loss: 242.2941\n",
            "Epoch 15/50\n",
            "23/23 - 0s - loss: 208.8033 - val_loss: 224.1045\n",
            "Epoch 16/50\n",
            "23/23 - 0s - loss: 196.9184 - val_loss: 215.7576\n",
            "Epoch 17/50\n",
            "23/23 - 0s - loss: 192.1700 - val_loss: 211.5915\n",
            "Epoch 18/50\n",
            "23/23 - 0s - loss: 189.4103 - val_loss: 208.6331\n",
            "Epoch 19/50\n",
            "23/23 - 0s - loss: 187.3248 - val_loss: 206.4269\n",
            "Epoch 20/50\n",
            "23/23 - 0s - loss: 185.9635 - val_loss: 204.1659\n",
            "Epoch 21/50\n",
            "23/23 - 0s - loss: 184.5323 - val_loss: 202.4445\n",
            "Epoch 22/50\n",
            "23/23 - 0s - loss: 183.1999 - val_loss: 201.8495\n",
            "Epoch 23/50\n",
            "23/23 - 0s - loss: 182.0160 - val_loss: 199.7783\n",
            "Epoch 24/50\n",
            "23/23 - 0s - loss: 180.7715 - val_loss: 198.5001\n",
            "Epoch 25/50\n",
            "23/23 - 0s - loss: 179.5750 - val_loss: 197.1344\n",
            "Epoch 26/50\n",
            "23/23 - 0s - loss: 178.6322 - val_loss: 196.0269\n",
            "Epoch 27/50\n",
            "23/23 - 0s - loss: 177.7007 - val_loss: 195.0709\n",
            "Epoch 28/50\n",
            "23/23 - 0s - loss: 176.4825 - val_loss: 193.5974\n",
            "Epoch 29/50\n",
            "23/23 - 0s - loss: 175.5387 - val_loss: 192.7886\n",
            "Epoch 30/50\n",
            "23/23 - 0s - loss: 174.9478 - val_loss: 191.7741\n",
            "Epoch 31/50\n",
            "23/23 - 0s - loss: 174.1760 - val_loss: 191.3801\n",
            "Epoch 32/50\n",
            "23/23 - 0s - loss: 172.6466 - val_loss: 189.9012\n",
            "Epoch 33/50\n",
            "23/23 - 0s - loss: 172.4921 - val_loss: 189.2600\n",
            "Epoch 34/50\n",
            "23/23 - 0s - loss: 171.6335 - val_loss: 188.6140\n",
            "Epoch 35/50\n",
            "23/23 - 0s - loss: 170.5235 - val_loss: 187.7299\n",
            "Epoch 36/50\n",
            "23/23 - 0s - loss: 169.6903 - val_loss: 187.1350\n",
            "Epoch 37/50\n",
            "23/23 - 0s - loss: 168.9630 - val_loss: 186.0018\n",
            "Epoch 38/50\n",
            "23/23 - 0s - loss: 168.5609 - val_loss: 184.7922\n",
            "Epoch 39/50\n",
            "23/23 - 0s - loss: 167.2873 - val_loss: 184.4418\n",
            "Epoch 40/50\n",
            "23/23 - 0s - loss: 166.6112 - val_loss: 184.1658\n",
            "Epoch 41/50\n",
            "23/23 - 0s - loss: 165.7462 - val_loss: 182.9898\n",
            "Epoch 42/50\n",
            "23/23 - 0s - loss: 165.2438 - val_loss: 182.3143\n",
            "Epoch 43/50\n",
            "23/23 - 0s - loss: 164.7616 - val_loss: 181.5973\n",
            "Epoch 44/50\n",
            "23/23 - 0s - loss: 163.9044 - val_loss: 181.3596\n",
            "Epoch 45/50\n",
            "23/23 - 0s - loss: 162.9884 - val_loss: 180.5098\n",
            "Epoch 46/50\n",
            "23/23 - 0s - loss: 162.1776 - val_loss: 180.0431\n",
            "Epoch 47/50\n",
            "23/23 - 0s - loss: 161.6018 - val_loss: 179.5755\n",
            "Epoch 48/50\n",
            "23/23 - 0s - loss: 161.2397 - val_loss: 178.6716\n",
            "Epoch 49/50\n",
            "23/23 - 0s - loss: 160.0599 - val_loss: 178.1218\n",
            "Epoch 50/50\n",
            "23/23 - 0s - loss: 159.6891 - val_loss: 177.7668\n",
            "--------- MSE 1/2 = 177.77------------------------------------------\n",
            "Epoch 1/50\n",
            "23/23 - 0s - loss: 163.3245 - val_loss: 168.0963\n",
            "Epoch 2/50\n",
            "23/23 - 0s - loss: 161.6600 - val_loss: 168.0708\n",
            "Epoch 3/50\n",
            "23/23 - 0s - loss: 161.0297 - val_loss: 167.4199\n",
            "Epoch 4/50\n",
            "23/23 - 0s - loss: 160.5010 - val_loss: 168.1104\n",
            "Epoch 5/50\n",
            "23/23 - 0s - loss: 159.4028 - val_loss: 166.7836\n",
            "Epoch 6/50\n",
            "23/23 - 0s - loss: 158.3707 - val_loss: 166.1305\n",
            "Epoch 7/50\n",
            "23/23 - 0s - loss: 157.9970 - val_loss: 165.8010\n",
            "Epoch 8/50\n",
            "23/23 - 0s - loss: 157.3341 - val_loss: 166.3637\n",
            "Epoch 9/50\n",
            "23/23 - 0s - loss: 156.8788 - val_loss: 164.8247\n",
            "Epoch 10/50\n",
            "23/23 - 0s - loss: 156.2056 - val_loss: 165.5222\n",
            "Epoch 11/50\n",
            "23/23 - 0s - loss: 155.5858 - val_loss: 164.3975\n",
            "Epoch 12/50\n",
            "23/23 - 0s - loss: 155.0311 - val_loss: 163.6991\n",
            "Epoch 13/50\n",
            "23/23 - 0s - loss: 154.5001 - val_loss: 163.6866\n",
            "Epoch 14/50\n",
            "23/23 - 0s - loss: 154.0156 - val_loss: 163.7764\n",
            "Epoch 15/50\n",
            "23/23 - 0s - loss: 153.1231 - val_loss: 163.0263\n",
            "Epoch 16/50\n",
            "23/23 - 0s - loss: 152.7572 - val_loss: 162.2440\n",
            "Epoch 17/50\n",
            "23/23 - 0s - loss: 152.4964 - val_loss: 161.8884\n",
            "Epoch 18/50\n",
            "23/23 - 0s - loss: 151.6231 - val_loss: 161.1897\n",
            "Epoch 19/50\n",
            "23/23 - 0s - loss: 151.5919 - val_loss: 161.1225\n",
            "Epoch 20/50\n",
            "23/23 - 0s - loss: 151.0961 - val_loss: 159.9237\n",
            "Epoch 21/50\n",
            "23/23 - 0s - loss: 150.5693 - val_loss: 160.4763\n",
            "Epoch 22/50\n",
            "23/23 - 0s - loss: 150.0618 - val_loss: 159.8613\n",
            "Epoch 23/50\n",
            "23/23 - 0s - loss: 149.7867 - val_loss: 158.9869\n",
            "Epoch 24/50\n",
            "23/23 - 0s - loss: 149.2835 - val_loss: 159.3293\n",
            "Epoch 25/50\n",
            "23/23 - 0s - loss: 148.7911 - val_loss: 158.5385\n",
            "Epoch 26/50\n",
            "23/23 - 0s - loss: 148.7117 - val_loss: 158.1733\n",
            "Epoch 27/50\n",
            "23/23 - 0s - loss: 148.2453 - val_loss: 157.9499\n",
            "Epoch 28/50\n",
            "23/23 - 0s - loss: 147.7716 - val_loss: 158.5432\n",
            "Epoch 29/50\n",
            "23/23 - 0s - loss: 147.2749 - val_loss: 157.6115\n",
            "Epoch 30/50\n",
            "23/23 - 0s - loss: 147.1368 - val_loss: 156.5733\n",
            "Epoch 31/50\n",
            "23/23 - 0s - loss: 147.1456 - val_loss: 157.2689\n",
            "Epoch 32/50\n",
            "23/23 - 0s - loss: 146.5560 - val_loss: 156.0050\n",
            "Epoch 33/50\n",
            "23/23 - 0s - loss: 146.2810 - val_loss: 156.2658\n",
            "Epoch 34/50\n",
            "23/23 - 0s - loss: 145.9981 - val_loss: 155.6433\n",
            "Epoch 35/50\n",
            "23/23 - 0s - loss: 145.7218 - val_loss: 156.9999\n",
            "Epoch 36/50\n",
            "23/23 - 0s - loss: 145.1400 - val_loss: 155.2616\n",
            "Epoch 37/50\n",
            "23/23 - 0s - loss: 145.0911 - val_loss: 154.8024\n",
            "Epoch 38/50\n",
            "23/23 - 0s - loss: 144.7199 - val_loss: 155.6422\n",
            "Epoch 39/50\n",
            "23/23 - 0s - loss: 144.3108 - val_loss: 154.8969\n",
            "Epoch 40/50\n",
            "23/23 - 0s - loss: 144.1315 - val_loss: 154.6281\n",
            "Epoch 41/50\n",
            "23/23 - 0s - loss: 143.8735 - val_loss: 154.7296\n",
            "Epoch 42/50\n",
            "23/23 - 0s - loss: 143.7255 - val_loss: 153.4478\n",
            "Epoch 43/50\n",
            "23/23 - 0s - loss: 143.5468 - val_loss: 154.3887\n",
            "Epoch 44/50\n",
            "23/23 - 0s - loss: 143.5659 - val_loss: 153.2742\n",
            "Epoch 45/50\n",
            "23/23 - 0s - loss: 143.4944 - val_loss: 153.9442\n",
            "Epoch 46/50\n",
            "23/23 - 0s - loss: 142.5537 - val_loss: 152.7900\n",
            "Epoch 47/50\n",
            "23/23 - 0s - loss: 142.1526 - val_loss: 152.7441\n",
            "Epoch 48/50\n",
            "23/23 - 0s - loss: 141.8252 - val_loss: 152.7281\n",
            "Epoch 49/50\n",
            "23/23 - 0s - loss: 141.7770 - val_loss: 152.5458\n",
            "Epoch 50/50\n",
            "23/23 - 0s - loss: 141.2331 - val_loss: 151.6206\n",
            "--------- MSE 2/2 = 151.62------------------------------------------\n"
          ],
          "name": "stdout"
        }
      ]
    },
    {
      "cell_type": "code",
      "metadata": {
        "id": "z0Ianzd-r4is"
      },
      "source": [
        "# Calculate the length, the mean and the standard deviation\n",
        "length_MSE_D = len(MSE_list_D)\n",
        "mean_MSE_D = np.mean(MSE_list_D)\n",
        "sd_MSE_D = np.std(MSE_list_D)"
      ],
      "execution_count": null,
      "outputs": []
    },
    {
      "cell_type": "code",
      "metadata": {
        "colab": {
          "base_uri": "https://localhost:8080/"
        },
        "id": "T2_yYtsKr4l9",
        "outputId": "f61936bc-7cf5-4dd4-c720-617191ec2403"
      },
      "source": [
        "# Print the values\n",
        "print(f'Number of mean squared errors: {length_MSE_D}')\n",
        "print(f'Mean of the mean squared errors: {mean_MSE_D:.2f}')\n",
        "print(f'Standard deviation of the mean squared errors: {sd_MSE_D:.2f}')"
      ],
      "execution_count": null,
      "outputs": [
        {
          "output_type": "stream",
          "text": [
            "Number of mean squared errors: 2\n",
            "Mean of the mean squared errors: 164.69\n",
            "Standard deviation of the mean squared errors: 13.07\n"
          ],
          "name": "stdout"
        }
      ]
    },
    {
      "cell_type": "code",
      "metadata": {
        "colab": {
          "base_uri": "https://localhost:8080/",
          "height": 105
        },
        "id": "h3Gs-Vbjr4pk",
        "outputId": "8e9f0263-d968-4497-c54d-d8e247f8b619"
      },
      "source": [
        "# DataFrame\n",
        "\n",
        "# initialise data of lists. \n",
        "data = {'A':[mean_MSE_A , sd_MSE_A], 'B':[mean_MSE_B , sd_MSE_B],\n",
        "        'C':[mean_MSE_C , sd_MSE_C], 'D':[mean_MSE_D , sd_MSE_D]} \n",
        "  \n",
        "# Creates pandas DataFrame. \n",
        "df = pd.DataFrame(data, index =['Mean', 'StD'])\n",
        "df = df.round(2)\n",
        "  \n",
        "# print the data \n",
        "df"
      ],
      "execution_count": null,
      "outputs": [
        {
          "output_type": "execute_result",
          "data": {
            "text/html": [
              "<div>\n",
              "<style scoped>\n",
              "    .dataframe tbody tr th:only-of-type {\n",
              "        vertical-align: middle;\n",
              "    }\n",
              "\n",
              "    .dataframe tbody tr th {\n",
              "        vertical-align: top;\n",
              "    }\n",
              "\n",
              "    .dataframe thead th {\n",
              "        text-align: right;\n",
              "    }\n",
              "</style>\n",
              "<table border=\"1\" class=\"dataframe\">\n",
              "  <thead>\n",
              "    <tr style=\"text-align: right;\">\n",
              "      <th></th>\n",
              "      <th>A</th>\n",
              "      <th>B</th>\n",
              "      <th>C</th>\n",
              "      <th>D</th>\n",
              "    </tr>\n",
              "  </thead>\n",
              "  <tbody>\n",
              "    <tr>\n",
              "      <th>Mean</th>\n",
              "      <td>165.85</td>\n",
              "      <td>979.91</td>\n",
              "      <td>190.39</td>\n",
              "      <td>164.69</td>\n",
              "    </tr>\n",
              "    <tr>\n",
              "      <th>StD</th>\n",
              "      <td>0.13</td>\n",
              "      <td>148.46</td>\n",
              "      <td>18.49</td>\n",
              "      <td>13.07</td>\n",
              "    </tr>\n",
              "  </tbody>\n",
              "</table>\n",
              "</div>"
            ],
            "text/plain": [
              "           A       B       C       D\n",
              "Mean  165.85  979.91  190.39  164.69\n",
              "StD     0.13  148.46   18.49   13.07"
            ]
          },
          "metadata": {
            "tags": []
          },
          "execution_count": 34
        }
      ]
    },
    {
      "cell_type": "code",
      "metadata": {
        "id": "5mJelLQ5r4tb"
      },
      "source": [
        ""
      ],
      "execution_count": null,
      "outputs": []
    }
  ]
}