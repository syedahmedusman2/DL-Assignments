{
  "nbformat": 4,
  "nbformat_minor": 0,
  "metadata": {
    "colab": {
      "name": "ionosphere(done).ipynb",
      "provenance": [],
      "collapsed_sections": []
    },
    "kernelspec": {
      "name": "python3",
      "display_name": "Python 3"
    },
    "language_info": {
      "name": "python"
    }
  },
  "cells": [
    {
      "cell_type": "code",
      "metadata": {
        "id": "6m8IQnRw8N_Q"
      },
      "source": [
        "import pandas as pd\n",
        "import numpy as np\n",
        "from keras.models import Sequential\n",
        "from keras.layers import Dense\n",
        "from keras.optimizers import SGD\n",
        "from sklearn.preprocessing import LabelEncoder"
      ],
      "execution_count": null,
      "outputs": []
    },
    {
      "cell_type": "code",
      "metadata": {
        "colab": {
          "resources": {
            "http://localhost:8080/nbextensions/google.colab/files.js": {
              "data": "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",
              "ok": true,
              "headers": [
                [
                  "content-type",
                  "application/javascript"
                ]
              ],
              "status": 200,
              "status_text": ""
            }
          },
          "base_uri": "https://localhost:8080/",
          "height": 70
        },
        "id": "j2r6TF_T8kW8",
        "outputId": "1c529d79-dc14-4216-9b09-325fe8e4eca7"
      },
      "source": [
        "from google.colab import files\n",
        "uploded = files.upload()"
      ],
      "execution_count": null,
      "outputs": [
        {
          "output_type": "display_data",
          "data": {
            "text/html": [
              "\n",
              "     <input type=\"file\" id=\"files-c40d3ff8-33f0-40df-9383-c987e0ac3139\" name=\"files[]\" multiple disabled\n",
              "        style=\"border:none\" />\n",
              "     <output id=\"result-c40d3ff8-33f0-40df-9383-c987e0ac3139\">\n",
              "      Upload widget is only available when the cell has been executed in the\n",
              "      current browser session. Please rerun this cell to enable.\n",
              "      </output>\n",
              "      <script src=\"/nbextensions/google.colab/files.js\"></script> "
            ],
            "text/plain": [
              "<IPython.core.display.HTML object>"
            ]
          },
          "metadata": {
            "tags": []
          }
        },
        {
          "output_type": "stream",
          "text": [
            "Saving ionosphere_data.csv to ionosphere_data.csv\n"
          ],
          "name": "stdout"
        }
      ]
    },
    {
      "cell_type": "code",
      "metadata": {
        "id": "_XsVYHII8wKP"
      },
      "source": [
        "data = pd.read_csv('ionosphere_data.csv', delimiter=\",\")"
      ],
      "execution_count": null,
      "outputs": []
    },
    {
      "cell_type": "code",
      "metadata": {
        "colab": {
          "base_uri": "https://localhost:8080/",
          "height": 211
        },
        "id": "jTdNwSIa8wNT",
        "outputId": "a4336710-b63d-4eaa-8761-8d0cba6b712e"
      },
      "source": [
        "data.head()"
      ],
      "execution_count": null,
      "outputs": [
        {
          "output_type": "execute_result",
          "data": {
            "text/html": [
              "<div>\n",
              "<style scoped>\n",
              "    .dataframe tbody tr th:only-of-type {\n",
              "        vertical-align: middle;\n",
              "    }\n",
              "\n",
              "    .dataframe tbody tr th {\n",
              "        vertical-align: top;\n",
              "    }\n",
              "\n",
              "    .dataframe thead th {\n",
              "        text-align: right;\n",
              "    }\n",
              "</style>\n",
              "<table border=\"1\" class=\"dataframe\">\n",
              "  <thead>\n",
              "    <tr style=\"text-align: right;\">\n",
              "      <th></th>\n",
              "      <th>feature1</th>\n",
              "      <th>feature2</th>\n",
              "      <th>feature3</th>\n",
              "      <th>feature4</th>\n",
              "      <th>feature5</th>\n",
              "      <th>feature6</th>\n",
              "      <th>feature7</th>\n",
              "      <th>feature8</th>\n",
              "      <th>feature9</th>\n",
              "      <th>feature10</th>\n",
              "      <th>feature11</th>\n",
              "      <th>feature12</th>\n",
              "      <th>feature13</th>\n",
              "      <th>feature14</th>\n",
              "      <th>feature15</th>\n",
              "      <th>feature16</th>\n",
              "      <th>feature17</th>\n",
              "      <th>feature18</th>\n",
              "      <th>feature19</th>\n",
              "      <th>feature20</th>\n",
              "      <th>feature21</th>\n",
              "      <th>feature22</th>\n",
              "      <th>feature23</th>\n",
              "      <th>feature24</th>\n",
              "      <th>feature25</th>\n",
              "      <th>feature26</th>\n",
              "      <th>feature27</th>\n",
              "      <th>feature28</th>\n",
              "      <th>feature29</th>\n",
              "      <th>feature30</th>\n",
              "      <th>feature31</th>\n",
              "      <th>feature32</th>\n",
              "      <th>feature33</th>\n",
              "      <th>feature34</th>\n",
              "      <th>label</th>\n",
              "    </tr>\n",
              "  </thead>\n",
              "  <tbody>\n",
              "    <tr>\n",
              "      <th>0</th>\n",
              "      <td>1</td>\n",
              "      <td>0</td>\n",
              "      <td>0.99539</td>\n",
              "      <td>-0.05889</td>\n",
              "      <td>0.85243</td>\n",
              "      <td>0.02306</td>\n",
              "      <td>0.83398</td>\n",
              "      <td>-0.37708</td>\n",
              "      <td>1.00000</td>\n",
              "      <td>0.03760</td>\n",
              "      <td>0.85243</td>\n",
              "      <td>-0.17755</td>\n",
              "      <td>0.59755</td>\n",
              "      <td>-0.44945</td>\n",
              "      <td>0.60536</td>\n",
              "      <td>-0.38223</td>\n",
              "      <td>0.84356</td>\n",
              "      <td>-0.38542</td>\n",
              "      <td>0.58212</td>\n",
              "      <td>-0.32192</td>\n",
              "      <td>0.56971</td>\n",
              "      <td>-0.29674</td>\n",
              "      <td>0.36946</td>\n",
              "      <td>-0.47357</td>\n",
              "      <td>0.56811</td>\n",
              "      <td>-0.51171</td>\n",
              "      <td>0.41078</td>\n",
              "      <td>-0.46168</td>\n",
              "      <td>0.21266</td>\n",
              "      <td>-0.34090</td>\n",
              "      <td>0.42267</td>\n",
              "      <td>-0.54487</td>\n",
              "      <td>0.18641</td>\n",
              "      <td>-0.45300</td>\n",
              "      <td>g</td>\n",
              "    </tr>\n",
              "    <tr>\n",
              "      <th>1</th>\n",
              "      <td>1</td>\n",
              "      <td>0</td>\n",
              "      <td>1.00000</td>\n",
              "      <td>-0.18829</td>\n",
              "      <td>0.93035</td>\n",
              "      <td>-0.36156</td>\n",
              "      <td>-0.10868</td>\n",
              "      <td>-0.93597</td>\n",
              "      <td>1.00000</td>\n",
              "      <td>-0.04549</td>\n",
              "      <td>0.50874</td>\n",
              "      <td>-0.67743</td>\n",
              "      <td>0.34432</td>\n",
              "      <td>-0.69707</td>\n",
              "      <td>-0.51685</td>\n",
              "      <td>-0.97515</td>\n",
              "      <td>0.05499</td>\n",
              "      <td>-0.62237</td>\n",
              "      <td>0.33109</td>\n",
              "      <td>-1.00000</td>\n",
              "      <td>-0.13151</td>\n",
              "      <td>-0.45300</td>\n",
              "      <td>-0.18056</td>\n",
              "      <td>-0.35734</td>\n",
              "      <td>-0.20332</td>\n",
              "      <td>-0.26569</td>\n",
              "      <td>-0.20468</td>\n",
              "      <td>-0.18401</td>\n",
              "      <td>-0.19040</td>\n",
              "      <td>-0.11593</td>\n",
              "      <td>-0.16626</td>\n",
              "      <td>-0.06288</td>\n",
              "      <td>-0.13738</td>\n",
              "      <td>-0.02447</td>\n",
              "      <td>b</td>\n",
              "    </tr>\n",
              "    <tr>\n",
              "      <th>2</th>\n",
              "      <td>1</td>\n",
              "      <td>0</td>\n",
              "      <td>1.00000</td>\n",
              "      <td>-0.03365</td>\n",
              "      <td>1.00000</td>\n",
              "      <td>0.00485</td>\n",
              "      <td>1.00000</td>\n",
              "      <td>-0.12062</td>\n",
              "      <td>0.88965</td>\n",
              "      <td>0.01198</td>\n",
              "      <td>0.73082</td>\n",
              "      <td>0.05346</td>\n",
              "      <td>0.85443</td>\n",
              "      <td>0.00827</td>\n",
              "      <td>0.54591</td>\n",
              "      <td>0.00299</td>\n",
              "      <td>0.83775</td>\n",
              "      <td>-0.13644</td>\n",
              "      <td>0.75535</td>\n",
              "      <td>-0.08540</td>\n",
              "      <td>0.70887</td>\n",
              "      <td>-0.27502</td>\n",
              "      <td>0.43385</td>\n",
              "      <td>-0.12062</td>\n",
              "      <td>0.57528</td>\n",
              "      <td>-0.40220</td>\n",
              "      <td>0.58984</td>\n",
              "      <td>-0.22145</td>\n",
              "      <td>0.43100</td>\n",
              "      <td>-0.17365</td>\n",
              "      <td>0.60436</td>\n",
              "      <td>-0.24180</td>\n",
              "      <td>0.56045</td>\n",
              "      <td>-0.38238</td>\n",
              "      <td>g</td>\n",
              "    </tr>\n",
              "    <tr>\n",
              "      <th>3</th>\n",
              "      <td>1</td>\n",
              "      <td>0</td>\n",
              "      <td>1.00000</td>\n",
              "      <td>-0.45161</td>\n",
              "      <td>1.00000</td>\n",
              "      <td>1.00000</td>\n",
              "      <td>0.71216</td>\n",
              "      <td>-1.00000</td>\n",
              "      <td>0.00000</td>\n",
              "      <td>0.00000</td>\n",
              "      <td>0.00000</td>\n",
              "      <td>0.00000</td>\n",
              "      <td>0.00000</td>\n",
              "      <td>0.00000</td>\n",
              "      <td>-1.00000</td>\n",
              "      <td>0.14516</td>\n",
              "      <td>0.54094</td>\n",
              "      <td>-0.39330</td>\n",
              "      <td>-1.00000</td>\n",
              "      <td>-0.54467</td>\n",
              "      <td>-0.69975</td>\n",
              "      <td>1.00000</td>\n",
              "      <td>0.00000</td>\n",
              "      <td>0.00000</td>\n",
              "      <td>1.00000</td>\n",
              "      <td>0.90695</td>\n",
              "      <td>0.51613</td>\n",
              "      <td>1.00000</td>\n",
              "      <td>1.00000</td>\n",
              "      <td>-0.20099</td>\n",
              "      <td>0.25682</td>\n",
              "      <td>1.00000</td>\n",
              "      <td>-0.32382</td>\n",
              "      <td>1.00000</td>\n",
              "      <td>b</td>\n",
              "    </tr>\n",
              "    <tr>\n",
              "      <th>4</th>\n",
              "      <td>1</td>\n",
              "      <td>0</td>\n",
              "      <td>1.00000</td>\n",
              "      <td>-0.02401</td>\n",
              "      <td>0.94140</td>\n",
              "      <td>0.06531</td>\n",
              "      <td>0.92106</td>\n",
              "      <td>-0.23255</td>\n",
              "      <td>0.77152</td>\n",
              "      <td>-0.16399</td>\n",
              "      <td>0.52798</td>\n",
              "      <td>-0.20275</td>\n",
              "      <td>0.56409</td>\n",
              "      <td>-0.00712</td>\n",
              "      <td>0.34395</td>\n",
              "      <td>-0.27457</td>\n",
              "      <td>0.52940</td>\n",
              "      <td>-0.21780</td>\n",
              "      <td>0.45107</td>\n",
              "      <td>-0.17813</td>\n",
              "      <td>0.05982</td>\n",
              "      <td>-0.35575</td>\n",
              "      <td>0.02309</td>\n",
              "      <td>-0.52879</td>\n",
              "      <td>0.03286</td>\n",
              "      <td>-0.65158</td>\n",
              "      <td>0.13290</td>\n",
              "      <td>-0.53206</td>\n",
              "      <td>0.02431</td>\n",
              "      <td>-0.62197</td>\n",
              "      <td>-0.05707</td>\n",
              "      <td>-0.59573</td>\n",
              "      <td>-0.04608</td>\n",
              "      <td>-0.65697</td>\n",
              "      <td>g</td>\n",
              "    </tr>\n",
              "  </tbody>\n",
              "</table>\n",
              "</div>"
            ],
            "text/plain": [
              "   feature1  feature2  feature3  ...  feature33  feature34  label\n",
              "0         1         0   0.99539  ...    0.18641   -0.45300      g\n",
              "1         1         0   1.00000  ...   -0.13738   -0.02447      b\n",
              "2         1         0   1.00000  ...    0.56045   -0.38238      g\n",
              "3         1         0   1.00000  ...   -0.32382    1.00000      b\n",
              "4         1         0   1.00000  ...   -0.04608   -0.65697      g\n",
              "\n",
              "[5 rows x 35 columns]"
            ]
          },
          "metadata": {
            "tags": []
          },
          "execution_count": 7
        }
      ]
    },
    {
      "cell_type": "code",
      "metadata": {
        "colab": {
          "base_uri": "https://localhost:8080/"
        },
        "id": "7cX64cpy8wP9",
        "outputId": "3329ba5d-28ea-4a0f-97ab-a2b670532f07"
      },
      "source": [
        "print(data.isnull().sum())"
      ],
      "execution_count": null,
      "outputs": [
        {
          "output_type": "stream",
          "text": [
            "feature1     0\n",
            "feature2     0\n",
            "feature3     0\n",
            "feature4     0\n",
            "feature5     0\n",
            "feature6     0\n",
            "feature7     0\n",
            "feature8     0\n",
            "feature9     0\n",
            "feature10    0\n",
            "feature11    0\n",
            "feature12    0\n",
            "feature13    0\n",
            "feature14    0\n",
            "feature15    0\n",
            "feature16    0\n",
            "feature17    0\n",
            "feature18    0\n",
            "feature19    0\n",
            "feature20    0\n",
            "feature21    0\n",
            "feature22    0\n",
            "feature23    0\n",
            "feature24    0\n",
            "feature25    0\n",
            "feature26    0\n",
            "feature27    0\n",
            "feature28    0\n",
            "feature29    0\n",
            "feature30    0\n",
            "feature31    0\n",
            "feature32    0\n",
            "feature33    0\n",
            "feature34    0\n",
            "label        0\n",
            "dtype: int64\n"
          ],
          "name": "stdout"
        }
      ]
    },
    {
      "cell_type": "code",
      "metadata": {
        "id": "i7TcKl1G8wSw"
      },
      "source": [
        ""
      ],
      "execution_count": null,
      "outputs": []
    },
    {
      "cell_type": "code",
      "metadata": {
        "id": "umiy-3V28wWI"
      },
      "source": [
        "# split into input (X) and output (Y) variables\n",
        "\n",
        "X = data.values[1:,0:34].astype(float)\n",
        "Y = data.values[1:,34]\n",
        "# encode class values as integers\n",
        "encoder = LabelEncoder()\n",
        "encoder.fit(Y)\n",
        "Y = encoder.transform(Y)"
      ],
      "execution_count": null,
      "outputs": []
    },
    {
      "cell_type": "code",
      "metadata": {
        "id": "InF75DWh99A4"
      },
      "source": [
        "model = Sequential()\n",
        "model.add(Dense(34, input_dim=34, activation='relu'))\n",
        "model.add(Dense(1, activation='sigmoid'))"
      ],
      "execution_count": null,
      "outputs": []
    },
    {
      "cell_type": "code",
      "metadata": {
        "id": "cFmfgvnJ99EG"
      },
      "source": [
        "epochs=50\n",
        "learning_rate=0.1\n",
        "decay_rate = learning_rate / epochs\n",
        "momentum = 0.8\n",
        "sgd = SGD(lr=learning_rate, momentum=momentum, decay=decay_rate, nesterov=False)\n",
        "model.compile(loss='binary_crossentropy', optimizer=sgd, metrics=['accuracy'])"
      ],
      "execution_count": null,
      "outputs": []
    },
    {
      "cell_type": "code",
      "metadata": {
        "colab": {
          "base_uri": "https://localhost:8080/"
        },
        "id": "vOAeXbfO_6F8",
        "outputId": "81a58da8-7231-4806-f8ba-cfa01577db41"
      },
      "source": [
        "history = model.fit(X, Y, validation_split=0.33, epochs=100, batch_size=8, verbose=2)"
      ],
      "execution_count": null,
      "outputs": [
        {
          "output_type": "stream",
          "text": [
            "Epoch 1/100\n",
            "30/30 - 0s - loss: 0.0146 - accuracy: 0.9957 - val_loss: 0.0605 - val_accuracy: 0.9828\n",
            "Epoch 2/100\n",
            "30/30 - 0s - loss: 0.0145 - accuracy: 0.9957 - val_loss: 0.0610 - val_accuracy: 0.9828\n",
            "Epoch 3/100\n",
            "30/30 - 0s - loss: 0.0143 - accuracy: 0.9957 - val_loss: 0.0647 - val_accuracy: 0.9828\n",
            "Epoch 4/100\n",
            "30/30 - 0s - loss: 0.0141 - accuracy: 0.9957 - val_loss: 0.0638 - val_accuracy: 0.9828\n",
            "Epoch 5/100\n",
            "30/30 - 0s - loss: 0.0149 - accuracy: 0.9957 - val_loss: 0.0663 - val_accuracy: 0.9828\n",
            "Epoch 6/100\n",
            "30/30 - 0s - loss: 0.0143 - accuracy: 0.9957 - val_loss: 0.0703 - val_accuracy: 0.9828\n",
            "Epoch 7/100\n",
            "30/30 - 0s - loss: 0.0151 - accuracy: 0.9957 - val_loss: 0.0728 - val_accuracy: 0.9828\n",
            "Epoch 8/100\n",
            "30/30 - 0s - loss: 0.0142 - accuracy: 0.9957 - val_loss: 0.0650 - val_accuracy: 0.9828\n",
            "Epoch 9/100\n",
            "30/30 - 0s - loss: 0.0144 - accuracy: 0.9957 - val_loss: 0.0737 - val_accuracy: 0.9828\n",
            "Epoch 10/100\n",
            "30/30 - 0s - loss: 0.0137 - accuracy: 0.9957 - val_loss: 0.0617 - val_accuracy: 0.9828\n",
            "Epoch 11/100\n",
            "30/30 - 0s - loss: 0.0137 - accuracy: 0.9957 - val_loss: 0.0681 - val_accuracy: 0.9828\n",
            "Epoch 12/100\n",
            "30/30 - 0s - loss: 0.0141 - accuracy: 0.9957 - val_loss: 0.0740 - val_accuracy: 0.9828\n",
            "Epoch 13/100\n",
            "30/30 - 0s - loss: 0.0137 - accuracy: 0.9957 - val_loss: 0.0697 - val_accuracy: 0.9828\n",
            "Epoch 14/100\n",
            "30/30 - 0s - loss: 0.0133 - accuracy: 0.9957 - val_loss: 0.0654 - val_accuracy: 0.9828\n",
            "Epoch 15/100\n",
            "30/30 - 0s - loss: 0.0138 - accuracy: 0.9957 - val_loss: 0.0710 - val_accuracy: 0.9828\n",
            "Epoch 16/100\n",
            "30/30 - 0s - loss: 0.0136 - accuracy: 0.9957 - val_loss: 0.0646 - val_accuracy: 0.9828\n",
            "Epoch 17/100\n",
            "30/30 - 0s - loss: 0.0131 - accuracy: 0.9957 - val_loss: 0.0652 - val_accuracy: 0.9828\n",
            "Epoch 18/100\n",
            "30/30 - 0s - loss: 0.0136 - accuracy: 0.9957 - val_loss: 0.0642 - val_accuracy: 0.9828\n",
            "Epoch 19/100\n",
            "30/30 - 0s - loss: 0.0133 - accuracy: 0.9957 - val_loss: 0.0707 - val_accuracy: 0.9828\n",
            "Epoch 20/100\n",
            "30/30 - 0s - loss: 0.0132 - accuracy: 0.9957 - val_loss: 0.0715 - val_accuracy: 0.9828\n",
            "Epoch 21/100\n",
            "30/30 - 0s - loss: 0.0132 - accuracy: 0.9957 - val_loss: 0.0668 - val_accuracy: 0.9828\n",
            "Epoch 22/100\n",
            "30/30 - 0s - loss: 0.0139 - accuracy: 0.9957 - val_loss: 0.0671 - val_accuracy: 0.9828\n",
            "Epoch 23/100\n",
            "30/30 - 0s - loss: 0.0133 - accuracy: 0.9957 - val_loss: 0.0697 - val_accuracy: 0.9828\n",
            "Epoch 24/100\n",
            "30/30 - 0s - loss: 0.0132 - accuracy: 0.9957 - val_loss: 0.0738 - val_accuracy: 0.9828\n",
            "Epoch 25/100\n",
            "30/30 - 0s - loss: 0.0122 - accuracy: 0.9957 - val_loss: 0.0636 - val_accuracy: 0.9828\n",
            "Epoch 26/100\n",
            "30/30 - 0s - loss: 0.0129 - accuracy: 0.9957 - val_loss: 0.0627 - val_accuracy: 0.9828\n",
            "Epoch 27/100\n",
            "30/30 - 0s - loss: 0.0131 - accuracy: 0.9957 - val_loss: 0.0700 - val_accuracy: 0.9828\n",
            "Epoch 28/100\n",
            "30/30 - 0s - loss: 0.0128 - accuracy: 0.9957 - val_loss: 0.0717 - val_accuracy: 0.9828\n",
            "Epoch 29/100\n",
            "30/30 - 0s - loss: 0.0126 - accuracy: 0.9957 - val_loss: 0.0673 - val_accuracy: 0.9828\n",
            "Epoch 30/100\n",
            "30/30 - 0s - loss: 0.0131 - accuracy: 0.9957 - val_loss: 0.0738 - val_accuracy: 0.9828\n",
            "Epoch 31/100\n",
            "30/30 - 0s - loss: 0.0125 - accuracy: 0.9957 - val_loss: 0.0671 - val_accuracy: 0.9828\n",
            "Epoch 32/100\n",
            "30/30 - 0s - loss: 0.0122 - accuracy: 0.9957 - val_loss: 0.0630 - val_accuracy: 0.9828\n",
            "Epoch 33/100\n",
            "30/30 - 0s - loss: 0.0124 - accuracy: 0.9957 - val_loss: 0.0713 - val_accuracy: 0.9828\n",
            "Epoch 34/100\n",
            "30/30 - 0s - loss: 0.0123 - accuracy: 0.9957 - val_loss: 0.0644 - val_accuracy: 0.9828\n",
            "Epoch 35/100\n",
            "30/30 - 0s - loss: 0.0123 - accuracy: 0.9957 - val_loss: 0.0702 - val_accuracy: 0.9828\n",
            "Epoch 36/100\n",
            "30/30 - 0s - loss: 0.0122 - accuracy: 0.9957 - val_loss: 0.0687 - val_accuracy: 0.9828\n",
            "Epoch 37/100\n",
            "30/30 - 0s - loss: 0.0121 - accuracy: 0.9957 - val_loss: 0.0658 - val_accuracy: 0.9828\n",
            "Epoch 38/100\n",
            "30/30 - 0s - loss: 0.0123 - accuracy: 0.9957 - val_loss: 0.0709 - val_accuracy: 0.9828\n",
            "Epoch 39/100\n",
            "30/30 - 0s - loss: 0.0121 - accuracy: 0.9957 - val_loss: 0.0726 - val_accuracy: 0.9828\n",
            "Epoch 40/100\n",
            "30/30 - 0s - loss: 0.0118 - accuracy: 0.9957 - val_loss: 0.0710 - val_accuracy: 0.9828\n",
            "Epoch 41/100\n",
            "30/30 - 0s - loss: 0.0119 - accuracy: 0.9957 - val_loss: 0.0626 - val_accuracy: 0.9828\n",
            "Epoch 42/100\n",
            "30/30 - 0s - loss: 0.0124 - accuracy: 0.9957 - val_loss: 0.0686 - val_accuracy: 0.9828\n",
            "Epoch 43/100\n",
            "30/30 - 0s - loss: 0.0121 - accuracy: 0.9957 - val_loss: 0.0714 - val_accuracy: 0.9828\n",
            "Epoch 44/100\n",
            "30/30 - 0s - loss: 0.0118 - accuracy: 0.9957 - val_loss: 0.0728 - val_accuracy: 0.9828\n",
            "Epoch 45/100\n",
            "30/30 - 0s - loss: 0.0120 - accuracy: 0.9957 - val_loss: 0.0659 - val_accuracy: 0.9828\n",
            "Epoch 46/100\n",
            "30/30 - 0s - loss: 0.0121 - accuracy: 0.9957 - val_loss: 0.0719 - val_accuracy: 0.9828\n",
            "Epoch 47/100\n",
            "30/30 - 0s - loss: 0.0119 - accuracy: 0.9957 - val_loss: 0.0653 - val_accuracy: 0.9828\n",
            "Epoch 48/100\n",
            "30/30 - 0s - loss: 0.0118 - accuracy: 0.9957 - val_loss: 0.0643 - val_accuracy: 0.9828\n",
            "Epoch 49/100\n",
            "30/30 - 0s - loss: 0.0119 - accuracy: 0.9957 - val_loss: 0.0645 - val_accuracy: 0.9828\n",
            "Epoch 50/100\n",
            "30/30 - 0s - loss: 0.0118 - accuracy: 0.9957 - val_loss: 0.0665 - val_accuracy: 0.9828\n",
            "Epoch 51/100\n",
            "30/30 - 0s - loss: 0.0119 - accuracy: 0.9957 - val_loss: 0.0697 - val_accuracy: 0.9828\n",
            "Epoch 52/100\n",
            "30/30 - 0s - loss: 0.0117 - accuracy: 0.9957 - val_loss: 0.0679 - val_accuracy: 0.9828\n",
            "Epoch 53/100\n",
            "30/30 - 0s - loss: 0.0114 - accuracy: 0.9957 - val_loss: 0.0738 - val_accuracy: 0.9828\n",
            "Epoch 54/100\n",
            "30/30 - 0s - loss: 0.0118 - accuracy: 0.9957 - val_loss: 0.0726 - val_accuracy: 0.9828\n",
            "Epoch 55/100\n",
            "30/30 - 0s - loss: 0.0118 - accuracy: 0.9957 - val_loss: 0.0738 - val_accuracy: 0.9828\n",
            "Epoch 56/100\n",
            "30/30 - 0s - loss: 0.0115 - accuracy: 0.9957 - val_loss: 0.0733 - val_accuracy: 0.9828\n",
            "Epoch 57/100\n",
            "30/30 - 0s - loss: 0.0112 - accuracy: 0.9957 - val_loss: 0.0663 - val_accuracy: 0.9828\n",
            "Epoch 58/100\n",
            "30/30 - 0s - loss: 0.0116 - accuracy: 0.9957 - val_loss: 0.0684 - val_accuracy: 0.9828\n",
            "Epoch 59/100\n",
            "30/30 - 0s - loss: 0.0113 - accuracy: 0.9957 - val_loss: 0.0711 - val_accuracy: 0.9828\n",
            "Epoch 60/100\n",
            "30/30 - 0s - loss: 0.0113 - accuracy: 0.9957 - val_loss: 0.0735 - val_accuracy: 0.9828\n",
            "Epoch 61/100\n",
            "30/30 - 0s - loss: 0.0114 - accuracy: 0.9957 - val_loss: 0.0741 - val_accuracy: 0.9828\n",
            "Epoch 62/100\n",
            "30/30 - 0s - loss: 0.0112 - accuracy: 0.9957 - val_loss: 0.0719 - val_accuracy: 0.9828\n",
            "Epoch 63/100\n",
            "30/30 - 0s - loss: 0.0114 - accuracy: 0.9957 - val_loss: 0.0661 - val_accuracy: 0.9828\n",
            "Epoch 64/100\n",
            "30/30 - 0s - loss: 0.0116 - accuracy: 0.9957 - val_loss: 0.0697 - val_accuracy: 0.9828\n",
            "Epoch 65/100\n",
            "30/30 - 0s - loss: 0.0115 - accuracy: 0.9957 - val_loss: 0.0713 - val_accuracy: 0.9828\n",
            "Epoch 66/100\n",
            "30/30 - 0s - loss: 0.0110 - accuracy: 0.9957 - val_loss: 0.0716 - val_accuracy: 0.9828\n",
            "Epoch 67/100\n",
            "30/30 - 0s - loss: 0.0112 - accuracy: 0.9957 - val_loss: 0.0667 - val_accuracy: 0.9828\n",
            "Epoch 68/100\n",
            "30/30 - 0s - loss: 0.0114 - accuracy: 0.9957 - val_loss: 0.0718 - val_accuracy: 0.9828\n",
            "Epoch 69/100\n",
            "30/30 - 0s - loss: 0.0113 - accuracy: 0.9957 - val_loss: 0.0661 - val_accuracy: 0.9828\n",
            "Epoch 70/100\n",
            "30/30 - 0s - loss: 0.0108 - accuracy: 0.9957 - val_loss: 0.0728 - val_accuracy: 0.9828\n",
            "Epoch 71/100\n",
            "30/30 - 0s - loss: 0.0110 - accuracy: 0.9957 - val_loss: 0.0736 - val_accuracy: 0.9828\n",
            "Epoch 72/100\n",
            "30/30 - 0s - loss: 0.0111 - accuracy: 0.9957 - val_loss: 0.0743 - val_accuracy: 0.9828\n",
            "Epoch 73/100\n",
            "30/30 - 0s - loss: 0.0109 - accuracy: 0.9957 - val_loss: 0.0743 - val_accuracy: 0.9828\n",
            "Epoch 74/100\n",
            "30/30 - 0s - loss: 0.0112 - accuracy: 0.9957 - val_loss: 0.0681 - val_accuracy: 0.9828\n",
            "Epoch 75/100\n",
            "30/30 - 0s - loss: 0.0112 - accuracy: 0.9957 - val_loss: 0.0696 - val_accuracy: 0.9828\n",
            "Epoch 76/100\n",
            "30/30 - 0s - loss: 0.0107 - accuracy: 0.9957 - val_loss: 0.0674 - val_accuracy: 0.9828\n",
            "Epoch 77/100\n",
            "30/30 - 0s - loss: 0.0106 - accuracy: 0.9957 - val_loss: 0.0663 - val_accuracy: 0.9828\n",
            "Epoch 78/100\n",
            "30/30 - 0s - loss: 0.0111 - accuracy: 0.9957 - val_loss: 0.0669 - val_accuracy: 0.9828\n",
            "Epoch 79/100\n",
            "30/30 - 0s - loss: 0.0107 - accuracy: 0.9957 - val_loss: 0.0683 - val_accuracy: 0.9828\n",
            "Epoch 80/100\n",
            "30/30 - 0s - loss: 0.0107 - accuracy: 0.9957 - val_loss: 0.0694 - val_accuracy: 0.9828\n",
            "Epoch 81/100\n",
            "30/30 - 0s - loss: 0.0107 - accuracy: 0.9957 - val_loss: 0.0716 - val_accuracy: 0.9828\n",
            "Epoch 82/100\n",
            "30/30 - 0s - loss: 0.0104 - accuracy: 0.9957 - val_loss: 0.0680 - val_accuracy: 0.9828\n",
            "Epoch 83/100\n",
            "30/30 - 0s - loss: 0.0110 - accuracy: 0.9957 - val_loss: 0.0683 - val_accuracy: 0.9828\n",
            "Epoch 84/100\n",
            "30/30 - 0s - loss: 0.0106 - accuracy: 0.9957 - val_loss: 0.0709 - val_accuracy: 0.9828\n",
            "Epoch 85/100\n",
            "30/30 - 0s - loss: 0.0107 - accuracy: 0.9957 - val_loss: 0.0728 - val_accuracy: 0.9828\n",
            "Epoch 86/100\n",
            "30/30 - 0s - loss: 0.0105 - accuracy: 0.9957 - val_loss: 0.0721 - val_accuracy: 0.9828\n",
            "Epoch 87/100\n",
            "30/30 - 0s - loss: 0.0104 - accuracy: 0.9957 - val_loss: 0.0715 - val_accuracy: 0.9828\n",
            "Epoch 88/100\n",
            "30/30 - 0s - loss: 0.0106 - accuracy: 0.9957 - val_loss: 0.0716 - val_accuracy: 0.9828\n",
            "Epoch 89/100\n",
            "30/30 - 0s - loss: 0.0104 - accuracy: 0.9957 - val_loss: 0.0731 - val_accuracy: 0.9828\n",
            "Epoch 90/100\n",
            "30/30 - 0s - loss: 0.0101 - accuracy: 0.9957 - val_loss: 0.0693 - val_accuracy: 0.9828\n",
            "Epoch 91/100\n",
            "30/30 - 0s - loss: 0.0106 - accuracy: 0.9957 - val_loss: 0.0723 - val_accuracy: 0.9828\n",
            "Epoch 92/100\n",
            "30/30 - 0s - loss: 0.0107 - accuracy: 0.9957 - val_loss: 0.0695 - val_accuracy: 0.9828\n",
            "Epoch 93/100\n",
            "30/30 - 0s - loss: 0.0104 - accuracy: 0.9957 - val_loss: 0.0733 - val_accuracy: 0.9828\n",
            "Epoch 94/100\n",
            "30/30 - 0s - loss: 0.0104 - accuracy: 0.9957 - val_loss: 0.0745 - val_accuracy: 0.9828\n",
            "Epoch 95/100\n",
            "30/30 - 0s - loss: 0.0100 - accuracy: 0.9957 - val_loss: 0.0688 - val_accuracy: 0.9828\n",
            "Epoch 96/100\n",
            "30/30 - 0s - loss: 0.0106 - accuracy: 0.9957 - val_loss: 0.0735 - val_accuracy: 0.9828\n",
            "Epoch 97/100\n",
            "30/30 - 0s - loss: 0.0104 - accuracy: 0.9957 - val_loss: 0.0748 - val_accuracy: 0.9828\n",
            "Epoch 98/100\n",
            "30/30 - 0s - loss: 0.0100 - accuracy: 0.9957 - val_loss: 0.0696 - val_accuracy: 0.9828\n",
            "Epoch 99/100\n",
            "30/30 - 0s - loss: 0.0104 - accuracy: 0.9957 - val_loss: 0.0712 - val_accuracy: 0.9828\n",
            "Epoch 100/100\n",
            "30/30 - 0s - loss: 0.0101 - accuracy: 0.9957 - val_loss: 0.0722 - val_accuracy: 0.9828\n"
          ],
          "name": "stdout"
        }
      ]
    },
    {
      "cell_type": "code",
      "metadata": {
        "colab": {
          "base_uri": "https://localhost:8080/"
        },
        "id": "D9cJWN2M99Hh",
        "outputId": "55c63c9a-dcf2-4d82-880f-7dfd8a7b94eb"
      },
      "source": [
        "# evaluate the model\n",
        "scores = model.evaluate(X, Y)\n",
        "print(\"%s: %.2f%%\" % (model.metrics_names[1], scores[1]*100))"
      ],
      "execution_count": null,
      "outputs": [
        {
          "output_type": "stream",
          "text": [
            "11/11 [==============================] - 0s 4ms/step - loss: 0.0303 - accuracy: 0.9914\n",
            "accuracy: 99.14%\n"
          ],
          "name": "stdout"
        }
      ]
    },
    {
      "cell_type": "code",
      "metadata": {
        "colab": {
          "base_uri": "https://localhost:8080/"
        },
        "id": "-w9jeVFm99Mi",
        "outputId": "640c4b38-4986-4f80-8239-2c4c6b486e30"
      },
      "source": [
        "history.history.keys()"
      ],
      "execution_count": null,
      "outputs": [
        {
          "output_type": "execute_result",
          "data": {
            "text/plain": [
              "dict_keys(['loss', 'accuracy', 'val_loss', 'val_accuracy'])"
            ]
          },
          "metadata": {
            "tags": []
          },
          "execution_count": 23
        }
      ]
    },
    {
      "cell_type": "code",
      "metadata": {
        "id": "r8ZQtIBe99Qo"
      },
      "source": [
        "import matplotlib.pyplot as plt\n"
      ],
      "execution_count": null,
      "outputs": []
    },
    {
      "cell_type": "code",
      "metadata": {
        "colab": {
          "base_uri": "https://localhost:8080/",
          "height": 281
        },
        "id": "4sV9cn_JA9pP",
        "outputId": "68e92532-a355-4efc-dde2-89a1cca53b28"
      },
      "source": [
        "import matplotlib.pyplot as plt\n",
        "loss = history.history['loss']\n",
        "val_loss = history.history['val_loss']\n",
        "epochs = range(1, len(loss) + 1)\n",
        "plt.figure()\n",
        "plt.plot(epochs, loss, 'bo', label='Training loss')\n",
        "plt.plot(epochs, val_loss, 'b', label='Validation loss')\n",
        "plt.title('Training and validation loss')\n",
        "plt.legend()\n",
        "plt.show()"
      ],
      "execution_count": null,
      "outputs": [
        {
          "output_type": "display_data",
          "data": {
            "image/png": "[encoded data removed]",
            "text/plain": [
              "<Figure size 432x288 with 1 Axes>"
            ]
          },
          "metadata": {
            "tags": [],
            "needs_background": "light"
          }
        }
      ]
    },
    {
      "cell_type": "code",
      "metadata": {
        "id": "BAfeWK5fBNjU"
      },
      "source": [
        ""
      ],
      "execution_count": null,
      "outputs": []
    },
    {
      "cell_type": "code",
      "metadata": {
        "id": "JgpZFWFmBNss"
      },
      "source": [
        ""
      ],
      "execution_count": null,
      "outputs": []
    }
  ]
}